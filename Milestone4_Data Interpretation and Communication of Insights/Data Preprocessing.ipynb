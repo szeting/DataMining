{
 "cells": [
  {
   "cell_type": "code",
   "execution_count": 1,
   "metadata": {},
   "outputs": [],
   "source": [
    "import pandas as pd\n",
    "import numpy as np\n",
    "import re\n",
    "from matplotlib import pyplot as plt\n",
    "import seaborn as sns\n",
    "%matplotlib inline"
   ]
  },
  {
   "cell_type": "code",
   "execution_count": 2,
   "metadata": {},
   "outputs": [],
   "source": [
    "df_kl=pd.read_csv('mudah_kl_add.csv')\n",
    "df_sel=pd.read_csv('mudah_sel_add.csv')"
   ]
  },
  {
   "cell_type": "code",
   "execution_count": 3,
   "metadata": {},
   "outputs": [
    {
     "data": {
      "text/html": [
       "<div>\n",
       "<style scoped>\n",
       "    .dataframe tbody tr th:only-of-type {\n",
       "        vertical-align: middle;\n",
       "    }\n",
       "\n",
       "    .dataframe tbody tr th {\n",
       "        vertical-align: top;\n",
       "    }\n",
       "\n",
       "    .dataframe thead th {\n",
       "        text-align: right;\n",
       "    }\n",
       "</style>\n",
       "<table border=\"1\" class=\"dataframe\">\n",
       "  <thead>\n",
       "    <tr style=\"text-align: right;\">\n",
       "      <th></th>\n",
       "      <th>Unnamed: 0</th>\n",
       "      <th>Unnamed: 0.1</th>\n",
       "      <th>Area</th>\n",
       "      <th>Price</th>\n",
       "      <th>Bedroom</th>\n",
       "      <th>Bathroom</th>\n",
       "      <th>Type</th>\n",
       "      <th>SquareFeet</th>\n",
       "      <th>link</th>\n",
       "      <th>Title</th>\n",
       "      <th>Oth_Info</th>\n",
       "      <th>Carpark</th>\n",
       "      <th>Facilities</th>\n",
       "    </tr>\n",
       "  </thead>\n",
       "  <tbody>\n",
       "    <tr>\n",
       "      <td>0</td>\n",
       "      <td>0</td>\n",
       "      <td>0</td>\n",
       "      <td>OUG</td>\n",
       "      <td>RM 3 999 000</td>\n",
       "      <td>8 Bedrooms</td>\n",
       "      <td>8 Bathrooms</td>\n",
       "      <td>Houses</td>\n",
       "      <td>7000 sq.ft</td>\n",
       "      <td>https://www.mudah.my/Happy+Garden+Bungalow+3+S...</td>\n",
       "      <td>Freehold</td>\n",
       "      <td>Non Bumi Lot</td>\n",
       "      <td>NaN</td>\n",
       "      <td>NaN</td>\n",
       "    </tr>\n",
       "    <tr>\n",
       "      <td>1</td>\n",
       "      <td>1</td>\n",
       "      <td>1</td>\n",
       "      <td>Desa ParkCity</td>\n",
       "      <td>RM 3 300 000</td>\n",
       "      <td>4 Bedrooms</td>\n",
       "      <td>3 Bathrooms</td>\n",
       "      <td>Houses</td>\n",
       "      <td>2379 sq.ft</td>\n",
       "      <td>https://www.mudah.my/Desa+park+city+zenia+end+...</td>\n",
       "      <td>Freehold</td>\n",
       "      <td>Non Bumi Lot</td>\n",
       "      <td>NaN</td>\n",
       "      <td>Swimming Pool, Gymnasium, Playground, Jogging ...</td>\n",
       "    </tr>\n",
       "    <tr>\n",
       "      <td>2</td>\n",
       "      <td>2</td>\n",
       "      <td>2</td>\n",
       "      <td>Wangsa Maju</td>\n",
       "      <td>RM 590 000</td>\n",
       "      <td>4 Bedrooms</td>\n",
       "      <td>2 Bathrooms</td>\n",
       "      <td>Apartments</td>\n",
       "      <td>1065 sq.ft</td>\n",
       "      <td>https://www.mudah.my/QN+Residence+Jalan+Wangsa...</td>\n",
       "      <td>Leasehold</td>\n",
       "      <td>Non Bumi Lot</td>\n",
       "      <td>2.0</td>\n",
       "      <td>Swimming Pool, Gymnasium, Playground, Jogging ...</td>\n",
       "    </tr>\n",
       "    <tr>\n",
       "      <td>3</td>\n",
       "      <td>3</td>\n",
       "      <td>2</td>\n",
       "      <td>Wangsa Maju</td>\n",
       "      <td>RM 590 000</td>\n",
       "      <td>4 Bedrooms</td>\n",
       "      <td>2 Bathrooms</td>\n",
       "      <td>Apartments</td>\n",
       "      <td>1065 sq.ft</td>\n",
       "      <td>https://www.mudah.my/QN+Residence+Jalan+Wangsa...</td>\n",
       "      <td>Leasehold</td>\n",
       "      <td>Non Bumi Lot</td>\n",
       "      <td>2.0</td>\n",
       "      <td>Swimming Pool, Gymnasium, Playground, Jogging ...</td>\n",
       "    </tr>\n",
       "    <tr>\n",
       "      <td>4</td>\n",
       "      <td>4</td>\n",
       "      <td>4</td>\n",
       "      <td>Ampang Hilir</td>\n",
       "      <td>RM 460 000</td>\n",
       "      <td>2 Bedrooms</td>\n",
       "      <td>2 Bathrooms</td>\n",
       "      <td>Apartments</td>\n",
       "      <td>743 sq.ft</td>\n",
       "      <td>https://www.mudah.my/PANDAN+PERDANA+new+condo+...</td>\n",
       "      <td>Leasehold</td>\n",
       "      <td>Non Bumi Lot</td>\n",
       "      <td>1.0</td>\n",
       "      <td>Swimming Pool, Gymnasium, Tennis Court, Squash...</td>\n",
       "    </tr>\n",
       "  </tbody>\n",
       "</table>\n",
       "</div>"
      ],
      "text/plain": [
       "   Unnamed: 0  Unnamed: 0.1                    Area                  Price  \\\n",
       "0           0             0                 OUG          RM 3 999 000        \n",
       "1           1             1       Desa ParkCity          RM 3 300 000        \n",
       "2           2             2         Wangsa Maju            RM 590 000        \n",
       "3           3             2         Wangsa Maju            RM 590 000        \n",
       "4           4             4        Ampang Hilir            RM 460 000        \n",
       "\n",
       "        Bedroom       Bathroom          Type  SquareFeet  \\\n",
       "0   8 Bedrooms    8 Bathrooms        Houses   7000 sq.ft   \n",
       "1   4 Bedrooms    3 Bathrooms        Houses   2379 sq.ft   \n",
       "2   4 Bedrooms    2 Bathrooms    Apartments   1065 sq.ft   \n",
       "3   4 Bedrooms    2 Bathrooms    Apartments   1065 sq.ft   \n",
       "4   2 Bedrooms    2 Bathrooms    Apartments    743 sq.ft   \n",
       "\n",
       "                                                link      Title      Oth_Info  \\\n",
       "0  https://www.mudah.my/Happy+Garden+Bungalow+3+S...   Freehold  Non Bumi Lot   \n",
       "1  https://www.mudah.my/Desa+park+city+zenia+end+...   Freehold  Non Bumi Lot   \n",
       "2  https://www.mudah.my/QN+Residence+Jalan+Wangsa...  Leasehold  Non Bumi Lot   \n",
       "3  https://www.mudah.my/QN+Residence+Jalan+Wangsa...  Leasehold  Non Bumi Lot   \n",
       "4  https://www.mudah.my/PANDAN+PERDANA+new+condo+...  Leasehold  Non Bumi Lot   \n",
       "\n",
       "   Carpark                                         Facilities  \n",
       "0      NaN                                                NaN  \n",
       "1      NaN  Swimming Pool, Gymnasium, Playground, Jogging ...  \n",
       "2      2.0  Swimming Pool, Gymnasium, Playground, Jogging ...  \n",
       "3      2.0  Swimming Pool, Gymnasium, Playground, Jogging ...  \n",
       "4      1.0  Swimming Pool, Gymnasium, Tennis Court, Squash...  "
      ]
     },
     "execution_count": 3,
     "metadata": {},
     "output_type": "execute_result"
    }
   ],
   "source": [
    "df_kl.head()"
   ]
  },
  {
   "cell_type": "code",
   "execution_count": 4,
   "metadata": {},
   "outputs": [
    {
     "data": {
      "text/html": [
       "<div>\n",
       "<style scoped>\n",
       "    .dataframe tbody tr th:only-of-type {\n",
       "        vertical-align: middle;\n",
       "    }\n",
       "\n",
       "    .dataframe tbody tr th {\n",
       "        vertical-align: top;\n",
       "    }\n",
       "\n",
       "    .dataframe thead th {\n",
       "        text-align: right;\n",
       "    }\n",
       "</style>\n",
       "<table border=\"1\" class=\"dataframe\">\n",
       "  <thead>\n",
       "    <tr style=\"text-align: right;\">\n",
       "      <th></th>\n",
       "      <th>Unnamed: 0</th>\n",
       "      <th>Unnamed: 0.1</th>\n",
       "      <th>Area</th>\n",
       "      <th>Price</th>\n",
       "      <th>Bedroom</th>\n",
       "      <th>Bathroom</th>\n",
       "      <th>Type</th>\n",
       "      <th>SquareFeet</th>\n",
       "      <th>link</th>\n",
       "      <th>Title</th>\n",
       "      <th>Oth_Info</th>\n",
       "      <th>Carpark</th>\n",
       "      <th>Facilities</th>\n",
       "    </tr>\n",
       "  </thead>\n",
       "  <tbody>\n",
       "    <tr>\n",
       "      <td>0</td>\n",
       "      <td>0</td>\n",
       "      <td>0</td>\n",
       "      <td>Kajang</td>\n",
       "      <td>RM 138 000</td>\n",
       "      <td>3 Bedrooms</td>\n",
       "      <td>2 Bathrooms</td>\n",
       "      <td>Apartments</td>\n",
       "      <td>800 sq.ft</td>\n",
       "      <td>https://www.mudah.my/Apartment+Cheras+Prima+Le...</td>\n",
       "      <td>Freehold</td>\n",
       "      <td>Non Bumi Lot</td>\n",
       "      <td>NaN</td>\n",
       "      <td>NaN</td>\n",
       "    </tr>\n",
       "    <tr>\n",
       "      <td>1</td>\n",
       "      <td>1</td>\n",
       "      <td>1</td>\n",
       "      <td>Subang Bestari</td>\n",
       "      <td>RM 210 000</td>\n",
       "      <td>3 Bedrooms</td>\n",
       "      <td>2 Bathrooms</td>\n",
       "      <td>Apartments</td>\n",
       "      <td>788 sq.ft</td>\n",
       "      <td>https://www.mudah.my/+Booking+RM1K+LEVEL+1+APA...</td>\n",
       "      <td>Leasehold</td>\n",
       "      <td>Non Bumi Lot</td>\n",
       "      <td>NaN</td>\n",
       "      <td>NaN</td>\n",
       "    </tr>\n",
       "    <tr>\n",
       "      <td>2</td>\n",
       "      <td>2</td>\n",
       "      <td>2</td>\n",
       "      <td>Semenyih</td>\n",
       "      <td>RM 1 003 000</td>\n",
       "      <td>5 Bedrooms</td>\n",
       "      <td>5 Bathrooms</td>\n",
       "      <td>Houses</td>\n",
       "      <td>3020 sq.ft</td>\n",
       "      <td>https://www.mudah.my/+SPACIOUS+LAND+RM5K+BOOKI...</td>\n",
       "      <td>Freehold</td>\n",
       "      <td>Non Bumi Lot</td>\n",
       "      <td>NaN</td>\n",
       "      <td>NaN</td>\n",
       "    </tr>\n",
       "    <tr>\n",
       "      <td>3</td>\n",
       "      <td>3</td>\n",
       "      <td>3</td>\n",
       "      <td>Batu Caves</td>\n",
       "      <td>RM 235 000</td>\n",
       "      <td>3 Bedrooms</td>\n",
       "      <td>2 Bathrooms</td>\n",
       "      <td>Apartments</td>\n",
       "      <td>816 sq.ft</td>\n",
       "      <td>https://www.mudah.my/Sri+gotong+apartment+batu...</td>\n",
       "      <td>Leasehold</td>\n",
       "      <td>Non Bumi Lot</td>\n",
       "      <td>2.0</td>\n",
       "      <td>Mini Market, Playground</td>\n",
       "    </tr>\n",
       "    <tr>\n",
       "      <td>4</td>\n",
       "      <td>4</td>\n",
       "      <td>4</td>\n",
       "      <td>Seri Kembangan</td>\n",
       "      <td>RM 270 000</td>\n",
       "      <td>1 Bedroom</td>\n",
       "      <td>1 Bathroom</td>\n",
       "      <td>Apartments</td>\n",
       "      <td>475 sq.ft</td>\n",
       "      <td>https://www.mudah.my/One+South+Studio+Flexis+4...</td>\n",
       "      <td>Leasehold</td>\n",
       "      <td>Non Bumi Lot</td>\n",
       "      <td>1.0</td>\n",
       "      <td>Swimming Pool, Gymnasium, Tennis Court, Squash...</td>\n",
       "    </tr>\n",
       "  </tbody>\n",
       "</table>\n",
       "</div>"
      ],
      "text/plain": [
       "   Unnamed: 0  Unnamed: 0.1                     Area                  Price  \\\n",
       "0           0             0               Kajang            RM 138 000        \n",
       "1           1             1       Subang Bestari            RM 210 000        \n",
       "2           2             2             Semenyih          RM 1 003 000        \n",
       "3           3             3           Batu Caves            RM 235 000        \n",
       "4           4             4       Seri Kembangan            RM 270 000        \n",
       "\n",
       "        Bedroom       Bathroom          Type  SquareFeet  \\\n",
       "0   3 Bedrooms    2 Bathrooms    Apartments    800 sq.ft   \n",
       "1   3 Bedrooms    2 Bathrooms    Apartments    788 sq.ft   \n",
       "2   5 Bedrooms    5 Bathrooms        Houses   3020 sq.ft   \n",
       "3   3 Bedrooms    2 Bathrooms    Apartments    816 sq.ft   \n",
       "4    1 Bedroom     1 Bathroom    Apartments    475 sq.ft   \n",
       "\n",
       "                                                link      Title      Oth_Info  \\\n",
       "0  https://www.mudah.my/Apartment+Cheras+Prima+Le...   Freehold  Non Bumi Lot   \n",
       "1  https://www.mudah.my/+Booking+RM1K+LEVEL+1+APA...  Leasehold  Non Bumi Lot   \n",
       "2  https://www.mudah.my/+SPACIOUS+LAND+RM5K+BOOKI...   Freehold  Non Bumi Lot   \n",
       "3  https://www.mudah.my/Sri+gotong+apartment+batu...  Leasehold  Non Bumi Lot   \n",
       "4  https://www.mudah.my/One+South+Studio+Flexis+4...  Leasehold  Non Bumi Lot   \n",
       "\n",
       "   Carpark                                         Facilities  \n",
       "0      NaN                                                NaN  \n",
       "1      NaN                                                NaN  \n",
       "2      NaN                                                NaN  \n",
       "3      2.0                            Mini Market, Playground  \n",
       "4      1.0  Swimming Pool, Gymnasium, Tennis Court, Squash...  "
      ]
     },
     "execution_count": 4,
     "metadata": {},
     "output_type": "execute_result"
    }
   ],
   "source": [
    "df_sel.head()"
   ]
  },
  {
   "cell_type": "code",
   "execution_count": 5,
   "metadata": {},
   "outputs": [
    {
     "data": {
      "text/plain": [
       "Index(['Unnamed: 0', 'Unnamed: 0.1', 'Area', 'Price', 'Bedroom', 'Bathroom',\n",
       "       'Type', 'SquareFeet', 'link', 'Title', 'Oth_Info', 'Carpark',\n",
       "       'Facilities'],\n",
       "      dtype='object')"
      ]
     },
     "execution_count": 5,
     "metadata": {},
     "output_type": "execute_result"
    }
   ],
   "source": [
    "df_kl.columns"
   ]
  },
  {
   "cell_type": "code",
   "execution_count": 6,
   "metadata": {},
   "outputs": [
    {
     "data": {
      "text/plain": [
       "Index(['Unnamed: 0', 'Unnamed: 0.1', 'Area', 'Price', 'Bedroom', 'Bathroom',\n",
       "       'Type', 'SquareFeet', 'link', 'Title', 'Oth_Info', 'Carpark',\n",
       "       'Facilities'],\n",
       "      dtype='object')"
      ]
     },
     "execution_count": 6,
     "metadata": {},
     "output_type": "execute_result"
    }
   ],
   "source": [
    "df_sel.columns"
   ]
  },
  {
   "cell_type": "code",
   "execution_count": 7,
   "metadata": {},
   "outputs": [
    {
     "data": {
      "text/plain": [
       "(20507, 13)"
      ]
     },
     "execution_count": 7,
     "metadata": {},
     "output_type": "execute_result"
    }
   ],
   "source": [
    "df_kl.shape"
   ]
  },
  {
   "cell_type": "code",
   "execution_count": 8,
   "metadata": {},
   "outputs": [
    {
     "data": {
      "text/plain": [
       "(20597, 13)"
      ]
     },
     "execution_count": 8,
     "metadata": {},
     "output_type": "execute_result"
    }
   ],
   "source": [
    "df_sel.shape"
   ]
  },
  {
   "cell_type": "code",
   "execution_count": 9,
   "metadata": {},
   "outputs": [],
   "source": [
    "df_kl['State']='Kuala Lumpur'\n",
    "df_sel['State']='Selongor'"
   ]
  },
  {
   "cell_type": "code",
   "execution_count": 10,
   "metadata": {},
   "outputs": [],
   "source": [
    "df=pd.concat([df_kl,df_sel])"
   ]
  },
  {
   "cell_type": "code",
   "execution_count": 11,
   "metadata": {},
   "outputs": [
    {
     "name": "stdout",
     "output_type": "stream",
     "text": [
      "<class 'pandas.core.frame.DataFrame'>\n",
      "Int64Index: 41104 entries, 0 to 20596\n",
      "Data columns (total 14 columns):\n",
      "Unnamed: 0      41104 non-null int64\n",
      "Unnamed: 0.1    41104 non-null int64\n",
      "Area            41104 non-null object\n",
      "Price           41104 non-null object\n",
      "Bedroom         38414 non-null object\n",
      "Bathroom        38421 non-null object\n",
      "Type            38440 non-null object\n",
      "SquareFeet      39383 non-null object\n",
      "link            41104 non-null object\n",
      "Title           41104 non-null object\n",
      "Oth_Info        41104 non-null object\n",
      "Carpark         16316 non-null float64\n",
      "Facilities      25856 non-null object\n",
      "State           41104 non-null object\n",
      "dtypes: float64(1), int64(2), object(11)\n",
      "memory usage: 4.7+ MB\n"
     ]
    }
   ],
   "source": [
    "df.info()"
   ]
  },
  {
   "cell_type": "code",
   "execution_count": 12,
   "metadata": {},
   "outputs": [],
   "source": [
    "df=df.drop(['Unnamed: 0','Unnamed: 0.1','link'],axis=1)"
   ]
  },
  {
   "cell_type": "code",
   "execution_count": 13,
   "metadata": {},
   "outputs": [
    {
     "data": {
      "text/plain": [
       "Area              0\n",
       "Price             0\n",
       "Bedroom        2690\n",
       "Bathroom       2683\n",
       "Type           2664\n",
       "SquareFeet     1721\n",
       "Title             0\n",
       "Oth_Info          0\n",
       "Carpark       24788\n",
       "Facilities    15248\n",
       "State             0\n",
       "dtype: int64"
      ]
     },
     "execution_count": 13,
     "metadata": {},
     "output_type": "execute_result"
    }
   ],
   "source": [
    "df.isnull().sum()"
   ]
  },
  {
   "cell_type": "code",
   "execution_count": 14,
   "metadata": {},
   "outputs": [],
   "source": [
    "df['Bedroom']=df['Bedroom'].str.extract('(\\d+)')"
   ]
  },
  {
   "cell_type": "code",
   "execution_count": 15,
   "metadata": {},
   "outputs": [],
   "source": [
    "df['Bathroom']=df['Bathroom'].str.extract('(\\d+)')"
   ]
  },
  {
   "cell_type": "code",
   "execution_count": 16,
   "metadata": {},
   "outputs": [],
   "source": [
    "df['SquareFeet']=df['SquareFeet'].str.extract('(\\d+)')"
   ]
  },
  {
   "cell_type": "code",
   "execution_count": 17,
   "metadata": {},
   "outputs": [],
   "source": [
    "df['Price'] = df['Price'].apply(lambda x: re.sub(r\"\\s+\", \"\", x))"
   ]
  },
  {
   "cell_type": "code",
   "execution_count": 18,
   "metadata": {},
   "outputs": [],
   "source": [
    "#remove RM in price\n",
    "df['Price'] = df['Price'].apply(lambda x: x[2:])"
   ]
  },
  {
   "cell_type": "code",
   "execution_count": 19,
   "metadata": {},
   "outputs": [
    {
     "data": {
      "text/html": [
       "<div>\n",
       "<style scoped>\n",
       "    .dataframe tbody tr th:only-of-type {\n",
       "        vertical-align: middle;\n",
       "    }\n",
       "\n",
       "    .dataframe tbody tr th {\n",
       "        vertical-align: top;\n",
       "    }\n",
       "\n",
       "    .dataframe thead th {\n",
       "        text-align: right;\n",
       "    }\n",
       "</style>\n",
       "<table border=\"1\" class=\"dataframe\">\n",
       "  <thead>\n",
       "    <tr style=\"text-align: right;\">\n",
       "      <th></th>\n",
       "      <th>Area</th>\n",
       "      <th>Price</th>\n",
       "      <th>Bedroom</th>\n",
       "      <th>Bathroom</th>\n",
       "      <th>Type</th>\n",
       "      <th>SquareFeet</th>\n",
       "      <th>Title</th>\n",
       "      <th>Oth_Info</th>\n",
       "      <th>Carpark</th>\n",
       "      <th>Facilities</th>\n",
       "      <th>State</th>\n",
       "    </tr>\n",
       "  </thead>\n",
       "  <tbody>\n",
       "    <tr>\n",
       "      <td>0</td>\n",
       "      <td>OUG</td>\n",
       "      <td>3999000</td>\n",
       "      <td>8</td>\n",
       "      <td>8</td>\n",
       "      <td>Houses</td>\n",
       "      <td>7000</td>\n",
       "      <td>Freehold</td>\n",
       "      <td>Non Bumi Lot</td>\n",
       "      <td>NaN</td>\n",
       "      <td>NaN</td>\n",
       "      <td>Kuala Lumpur</td>\n",
       "    </tr>\n",
       "    <tr>\n",
       "      <td>1</td>\n",
       "      <td>Desa ParkCity</td>\n",
       "      <td>3300000</td>\n",
       "      <td>4</td>\n",
       "      <td>3</td>\n",
       "      <td>Houses</td>\n",
       "      <td>2379</td>\n",
       "      <td>Freehold</td>\n",
       "      <td>Non Bumi Lot</td>\n",
       "      <td>NaN</td>\n",
       "      <td>Swimming Pool, Gymnasium, Playground, Jogging ...</td>\n",
       "      <td>Kuala Lumpur</td>\n",
       "    </tr>\n",
       "    <tr>\n",
       "      <td>2</td>\n",
       "      <td>Wangsa Maju</td>\n",
       "      <td>590000</td>\n",
       "      <td>4</td>\n",
       "      <td>2</td>\n",
       "      <td>Apartments</td>\n",
       "      <td>1065</td>\n",
       "      <td>Leasehold</td>\n",
       "      <td>Non Bumi Lot</td>\n",
       "      <td>2.0</td>\n",
       "      <td>Swimming Pool, Gymnasium, Playground, Jogging ...</td>\n",
       "      <td>Kuala Lumpur</td>\n",
       "    </tr>\n",
       "    <tr>\n",
       "      <td>3</td>\n",
       "      <td>Wangsa Maju</td>\n",
       "      <td>590000</td>\n",
       "      <td>4</td>\n",
       "      <td>2</td>\n",
       "      <td>Apartments</td>\n",
       "      <td>1065</td>\n",
       "      <td>Leasehold</td>\n",
       "      <td>Non Bumi Lot</td>\n",
       "      <td>2.0</td>\n",
       "      <td>Swimming Pool, Gymnasium, Playground, Jogging ...</td>\n",
       "      <td>Kuala Lumpur</td>\n",
       "    </tr>\n",
       "    <tr>\n",
       "      <td>4</td>\n",
       "      <td>Ampang Hilir</td>\n",
       "      <td>460000</td>\n",
       "      <td>2</td>\n",
       "      <td>2</td>\n",
       "      <td>Apartments</td>\n",
       "      <td>743</td>\n",
       "      <td>Leasehold</td>\n",
       "      <td>Non Bumi Lot</td>\n",
       "      <td>1.0</td>\n",
       "      <td>Swimming Pool, Gymnasium, Tennis Court, Squash...</td>\n",
       "      <td>Kuala Lumpur</td>\n",
       "    </tr>\n",
       "  </tbody>\n",
       "</table>\n",
       "</div>"
      ],
      "text/plain": [
       "                     Area    Price Bedroom Bathroom          Type SquareFeet  \\\n",
       "0                 OUG      3999000       8        8       Houses        7000   \n",
       "1       Desa ParkCity      3300000       4        3       Houses        2379   \n",
       "2         Wangsa Maju       590000       4        2   Apartments        1065   \n",
       "3         Wangsa Maju       590000       4        2   Apartments        1065   \n",
       "4        Ampang Hilir       460000       2        2   Apartments         743   \n",
       "\n",
       "       Title      Oth_Info  Carpark  \\\n",
       "0   Freehold  Non Bumi Lot      NaN   \n",
       "1   Freehold  Non Bumi Lot      NaN   \n",
       "2  Leasehold  Non Bumi Lot      2.0   \n",
       "3  Leasehold  Non Bumi Lot      2.0   \n",
       "4  Leasehold  Non Bumi Lot      1.0   \n",
       "\n",
       "                                          Facilities         State  \n",
       "0                                                NaN  Kuala Lumpur  \n",
       "1  Swimming Pool, Gymnasium, Playground, Jogging ...  Kuala Lumpur  \n",
       "2  Swimming Pool, Gymnasium, Playground, Jogging ...  Kuala Lumpur  \n",
       "3  Swimming Pool, Gymnasium, Playground, Jogging ...  Kuala Lumpur  \n",
       "4  Swimming Pool, Gymnasium, Tennis Court, Squash...  Kuala Lumpur  "
      ]
     },
     "execution_count": 19,
     "metadata": {},
     "output_type": "execute_result"
    }
   ],
   "source": [
    "df.head()"
   ]
  },
  {
   "cell_type": "code",
   "execution_count": 20,
   "metadata": {},
   "outputs": [],
   "source": [
    "df['Bedroom'] = df['Bedroom'].fillna(0)"
   ]
  },
  {
   "cell_type": "code",
   "execution_count": 21,
   "metadata": {},
   "outputs": [],
   "source": [
    "df['Bathroom'] = df['Bathroom'].fillna(0)"
   ]
  },
  {
   "cell_type": "code",
   "execution_count": 22,
   "metadata": {},
   "outputs": [],
   "source": [
    "df['Carpark'] = df['Carpark'].fillna(0)"
   ]
  },
  {
   "cell_type": "code",
   "execution_count": 23,
   "metadata": {},
   "outputs": [
    {
     "data": {
      "text/html": [
       "<div>\n",
       "<style scoped>\n",
       "    .dataframe tbody tr th:only-of-type {\n",
       "        vertical-align: middle;\n",
       "    }\n",
       "\n",
       "    .dataframe tbody tr th {\n",
       "        vertical-align: top;\n",
       "    }\n",
       "\n",
       "    .dataframe thead th {\n",
       "        text-align: right;\n",
       "    }\n",
       "</style>\n",
       "<table border=\"1\" class=\"dataframe\">\n",
       "  <thead>\n",
       "    <tr style=\"text-align: right;\">\n",
       "      <th></th>\n",
       "      <th>Area</th>\n",
       "      <th>Price</th>\n",
       "      <th>Bedroom</th>\n",
       "      <th>Bathroom</th>\n",
       "      <th>Type</th>\n",
       "      <th>SquareFeet</th>\n",
       "      <th>Title</th>\n",
       "      <th>Oth_Info</th>\n",
       "      <th>Carpark</th>\n",
       "      <th>Facilities</th>\n",
       "      <th>State</th>\n",
       "    </tr>\n",
       "  </thead>\n",
       "  <tbody>\n",
       "    <tr>\n",
       "      <td>0</td>\n",
       "      <td>OUG</td>\n",
       "      <td>3999000</td>\n",
       "      <td>8</td>\n",
       "      <td>8</td>\n",
       "      <td>Houses</td>\n",
       "      <td>7000</td>\n",
       "      <td>Freehold</td>\n",
       "      <td>Non Bumi Lot</td>\n",
       "      <td>0.0</td>\n",
       "      <td>NaN</td>\n",
       "      <td>Kuala Lumpur</td>\n",
       "    </tr>\n",
       "    <tr>\n",
       "      <td>1</td>\n",
       "      <td>Desa ParkCity</td>\n",
       "      <td>3300000</td>\n",
       "      <td>4</td>\n",
       "      <td>3</td>\n",
       "      <td>Houses</td>\n",
       "      <td>2379</td>\n",
       "      <td>Freehold</td>\n",
       "      <td>Non Bumi Lot</td>\n",
       "      <td>0.0</td>\n",
       "      <td>Swimming Pool, Gymnasium, Playground, Jogging ...</td>\n",
       "      <td>Kuala Lumpur</td>\n",
       "    </tr>\n",
       "    <tr>\n",
       "      <td>2</td>\n",
       "      <td>Wangsa Maju</td>\n",
       "      <td>590000</td>\n",
       "      <td>4</td>\n",
       "      <td>2</td>\n",
       "      <td>Apartments</td>\n",
       "      <td>1065</td>\n",
       "      <td>Leasehold</td>\n",
       "      <td>Non Bumi Lot</td>\n",
       "      <td>2.0</td>\n",
       "      <td>Swimming Pool, Gymnasium, Playground, Jogging ...</td>\n",
       "      <td>Kuala Lumpur</td>\n",
       "    </tr>\n",
       "    <tr>\n",
       "      <td>3</td>\n",
       "      <td>Wangsa Maju</td>\n",
       "      <td>590000</td>\n",
       "      <td>4</td>\n",
       "      <td>2</td>\n",
       "      <td>Apartments</td>\n",
       "      <td>1065</td>\n",
       "      <td>Leasehold</td>\n",
       "      <td>Non Bumi Lot</td>\n",
       "      <td>2.0</td>\n",
       "      <td>Swimming Pool, Gymnasium, Playground, Jogging ...</td>\n",
       "      <td>Kuala Lumpur</td>\n",
       "    </tr>\n",
       "    <tr>\n",
       "      <td>4</td>\n",
       "      <td>Ampang Hilir</td>\n",
       "      <td>460000</td>\n",
       "      <td>2</td>\n",
       "      <td>2</td>\n",
       "      <td>Apartments</td>\n",
       "      <td>743</td>\n",
       "      <td>Leasehold</td>\n",
       "      <td>Non Bumi Lot</td>\n",
       "      <td>1.0</td>\n",
       "      <td>Swimming Pool, Gymnasium, Tennis Court, Squash...</td>\n",
       "      <td>Kuala Lumpur</td>\n",
       "    </tr>\n",
       "  </tbody>\n",
       "</table>\n",
       "</div>"
      ],
      "text/plain": [
       "                     Area    Price Bedroom Bathroom          Type SquareFeet  \\\n",
       "0                 OUG      3999000       8        8       Houses        7000   \n",
       "1       Desa ParkCity      3300000       4        3       Houses        2379   \n",
       "2         Wangsa Maju       590000       4        2   Apartments        1065   \n",
       "3         Wangsa Maju       590000       4        2   Apartments        1065   \n",
       "4        Ampang Hilir       460000       2        2   Apartments         743   \n",
       "\n",
       "       Title      Oth_Info  Carpark  \\\n",
       "0   Freehold  Non Bumi Lot      0.0   \n",
       "1   Freehold  Non Bumi Lot      0.0   \n",
       "2  Leasehold  Non Bumi Lot      2.0   \n",
       "3  Leasehold  Non Bumi Lot      2.0   \n",
       "4  Leasehold  Non Bumi Lot      1.0   \n",
       "\n",
       "                                          Facilities         State  \n",
       "0                                                NaN  Kuala Lumpur  \n",
       "1  Swimming Pool, Gymnasium, Playground, Jogging ...  Kuala Lumpur  \n",
       "2  Swimming Pool, Gymnasium, Playground, Jogging ...  Kuala Lumpur  \n",
       "3  Swimming Pool, Gymnasium, Playground, Jogging ...  Kuala Lumpur  \n",
       "4  Swimming Pool, Gymnasium, Tennis Court, Squash...  Kuala Lumpur  "
      ]
     },
     "execution_count": 23,
     "metadata": {},
     "output_type": "execute_result"
    }
   ],
   "source": [
    "df.head()"
   ]
  },
  {
   "cell_type": "code",
   "execution_count": 24,
   "metadata": {},
   "outputs": [],
   "source": [
    "df['Facilities'] = df['Facilities'].fillna('No Facilities')"
   ]
  },
  {
   "cell_type": "code",
   "execution_count": 25,
   "metadata": {},
   "outputs": [
    {
     "data": {
      "text/plain": [
       "Area             0\n",
       "Price            0\n",
       "Bedroom          0\n",
       "Bathroom         0\n",
       "Type          2664\n",
       "SquareFeet    1721\n",
       "Title            0\n",
       "Oth_Info         0\n",
       "Carpark          0\n",
       "Facilities       0\n",
       "State            0\n",
       "dtype: int64"
      ]
     },
     "execution_count": 25,
     "metadata": {},
     "output_type": "execute_result"
    }
   ],
   "source": [
    "df.isna().sum()"
   ]
  },
  {
   "cell_type": "code",
   "execution_count": 26,
   "metadata": {},
   "outputs": [
    {
     "data": {
      "text/plain": [
       " Apartments     21593\n",
       " Houses         16847\n",
       "Name: Type, dtype: int64"
      ]
     },
     "execution_count": 26,
     "metadata": {},
     "output_type": "execute_result"
    }
   ],
   "source": [
    "df['Type'].value_counts()"
   ]
  },
  {
   "cell_type": "code",
   "execution_count": 27,
   "metadata": {},
   "outputs": [],
   "source": [
    "df = df.dropna()"
   ]
  },
  {
   "cell_type": "code",
   "execution_count": 28,
   "metadata": {},
   "outputs": [
    {
     "data": {
      "text/plain": [
       "Area          0\n",
       "Price         0\n",
       "Bedroom       0\n",
       "Bathroom      0\n",
       "Type          0\n",
       "SquareFeet    0\n",
       "Title         0\n",
       "Oth_Info      0\n",
       "Carpark       0\n",
       "Facilities    0\n",
       "State         0\n",
       "dtype: int64"
      ]
     },
     "execution_count": 28,
     "metadata": {},
     "output_type": "execute_result"
    }
   ],
   "source": [
    "df.isna().sum()"
   ]
  },
  {
   "cell_type": "code",
   "execution_count": 29,
   "metadata": {},
   "outputs": [
    {
     "data": {
      "text/plain": [
       "(38439, 11)"
      ]
     },
     "execution_count": 29,
     "metadata": {},
     "output_type": "execute_result"
    }
   ],
   "source": [
    "df.shape"
   ]
  },
  {
   "cell_type": "code",
   "execution_count": 30,
   "metadata": {},
   "outputs": [
    {
     "name": "stdout",
     "output_type": "stream",
     "text": [
      "<class 'pandas.core.frame.DataFrame'>\n",
      "Int64Index: 38439 entries, 0 to 20596\n",
      "Data columns (total 11 columns):\n",
      "Area          38439 non-null object\n",
      "Price         38439 non-null object\n",
      "Bedroom       38439 non-null object\n",
      "Bathroom      38439 non-null object\n",
      "Type          38439 non-null object\n",
      "SquareFeet    38439 non-null object\n",
      "Title         38439 non-null object\n",
      "Oth_Info      38439 non-null object\n",
      "Carpark       38439 non-null float64\n",
      "Facilities    38439 non-null object\n",
      "State         38439 non-null object\n",
      "dtypes: float64(1), object(10)\n",
      "memory usage: 3.5+ MB\n"
     ]
    }
   ],
   "source": [
    "df.info()"
   ]
  },
  {
   "cell_type": "code",
   "execution_count": 31,
   "metadata": {},
   "outputs": [],
   "source": [
    "cols = ['Price','Bedroom', 'Bathroom', 'SquareFeet','Carpark']\n",
    "df[cols] = df[cols].astype('int')"
   ]
  },
  {
   "cell_type": "code",
   "execution_count": 32,
   "metadata": {},
   "outputs": [
    {
     "name": "stdout",
     "output_type": "stream",
     "text": [
      "<class 'pandas.core.frame.DataFrame'>\n",
      "Int64Index: 38439 entries, 0 to 20596\n",
      "Data columns (total 11 columns):\n",
      "Area          38439 non-null object\n",
      "Price         38439 non-null int32\n",
      "Bedroom       38439 non-null int32\n",
      "Bathroom      38439 non-null int32\n",
      "Type          38439 non-null object\n",
      "SquareFeet    38439 non-null int32\n",
      "Title         38439 non-null object\n",
      "Oth_Info      38439 non-null object\n",
      "Carpark       38439 non-null int32\n",
      "Facilities    38439 non-null object\n",
      "State         38439 non-null object\n",
      "dtypes: int32(5), object(6)\n",
      "memory usage: 2.8+ MB\n"
     ]
    }
   ],
   "source": [
    "df.info()"
   ]
  },
  {
   "cell_type": "code",
   "execution_count": 33,
   "metadata": {},
   "outputs": [
    {
     "data": {
      "text/html": [
       "<div>\n",
       "<style scoped>\n",
       "    .dataframe tbody tr th:only-of-type {\n",
       "        vertical-align: middle;\n",
       "    }\n",
       "\n",
       "    .dataframe tbody tr th {\n",
       "        vertical-align: top;\n",
       "    }\n",
       "\n",
       "    .dataframe thead th {\n",
       "        text-align: right;\n",
       "    }\n",
       "</style>\n",
       "<table border=\"1\" class=\"dataframe\">\n",
       "  <thead>\n",
       "    <tr style=\"text-align: right;\">\n",
       "      <th></th>\n",
       "      <th>Area</th>\n",
       "      <th>Price</th>\n",
       "      <th>Bedroom</th>\n",
       "      <th>Bathroom</th>\n",
       "      <th>Type</th>\n",
       "      <th>SquareFeet</th>\n",
       "      <th>Title</th>\n",
       "      <th>Oth_Info</th>\n",
       "      <th>Carpark</th>\n",
       "      <th>Facilities</th>\n",
       "      <th>State</th>\n",
       "    </tr>\n",
       "  </thead>\n",
       "  <tbody>\n",
       "    <tr>\n",
       "      <td>0</td>\n",
       "      <td>OUG</td>\n",
       "      <td>3999000</td>\n",
       "      <td>8</td>\n",
       "      <td>8</td>\n",
       "      <td>Houses</td>\n",
       "      <td>7000</td>\n",
       "      <td>Freehold</td>\n",
       "      <td>Non Bumi Lot</td>\n",
       "      <td>0</td>\n",
       "      <td>No Facilities</td>\n",
       "      <td>Kuala Lumpur</td>\n",
       "    </tr>\n",
       "    <tr>\n",
       "      <td>1</td>\n",
       "      <td>Desa ParkCity</td>\n",
       "      <td>3300000</td>\n",
       "      <td>4</td>\n",
       "      <td>3</td>\n",
       "      <td>Houses</td>\n",
       "      <td>2379</td>\n",
       "      <td>Freehold</td>\n",
       "      <td>Non Bumi Lot</td>\n",
       "      <td>0</td>\n",
       "      <td>Swimming Pool, Gymnasium, Playground, Jogging ...</td>\n",
       "      <td>Kuala Lumpur</td>\n",
       "    </tr>\n",
       "    <tr>\n",
       "      <td>2</td>\n",
       "      <td>Wangsa Maju</td>\n",
       "      <td>590000</td>\n",
       "      <td>4</td>\n",
       "      <td>2</td>\n",
       "      <td>Apartments</td>\n",
       "      <td>1065</td>\n",
       "      <td>Leasehold</td>\n",
       "      <td>Non Bumi Lot</td>\n",
       "      <td>2</td>\n",
       "      <td>Swimming Pool, Gymnasium, Playground, Jogging ...</td>\n",
       "      <td>Kuala Lumpur</td>\n",
       "    </tr>\n",
       "    <tr>\n",
       "      <td>3</td>\n",
       "      <td>Wangsa Maju</td>\n",
       "      <td>590000</td>\n",
       "      <td>4</td>\n",
       "      <td>2</td>\n",
       "      <td>Apartments</td>\n",
       "      <td>1065</td>\n",
       "      <td>Leasehold</td>\n",
       "      <td>Non Bumi Lot</td>\n",
       "      <td>2</td>\n",
       "      <td>Swimming Pool, Gymnasium, Playground, Jogging ...</td>\n",
       "      <td>Kuala Lumpur</td>\n",
       "    </tr>\n",
       "    <tr>\n",
       "      <td>4</td>\n",
       "      <td>Ampang Hilir</td>\n",
       "      <td>460000</td>\n",
       "      <td>2</td>\n",
       "      <td>2</td>\n",
       "      <td>Apartments</td>\n",
       "      <td>743</td>\n",
       "      <td>Leasehold</td>\n",
       "      <td>Non Bumi Lot</td>\n",
       "      <td>1</td>\n",
       "      <td>Swimming Pool, Gymnasium, Tennis Court, Squash...</td>\n",
       "      <td>Kuala Lumpur</td>\n",
       "    </tr>\n",
       "    <tr>\n",
       "      <td>5</td>\n",
       "      <td>Cheras</td>\n",
       "      <td>300000</td>\n",
       "      <td>3</td>\n",
       "      <td>2</td>\n",
       "      <td>Apartments</td>\n",
       "      <td>748</td>\n",
       "      <td>Leasehold</td>\n",
       "      <td>Bumi Lot</td>\n",
       "      <td>1</td>\n",
       "      <td>Mini Market, Playground, Jogging Track, 24 Hou...</td>\n",
       "      <td>Kuala Lumpur</td>\n",
       "    </tr>\n",
       "    <tr>\n",
       "      <td>6</td>\n",
       "      <td>Cheras</td>\n",
       "      <td>950000</td>\n",
       "      <td>7</td>\n",
       "      <td>5</td>\n",
       "      <td>Houses</td>\n",
       "      <td>2400</td>\n",
       "      <td>Leasehold</td>\n",
       "      <td>Non Bumi Lot</td>\n",
       "      <td>0</td>\n",
       "      <td>Mini Market, Playground, 24 Hour Security, Bal...</td>\n",
       "      <td>Kuala Lumpur</td>\n",
       "    </tr>\n",
       "    <tr>\n",
       "      <td>7</td>\n",
       "      <td>Bandar Tasik Selatan</td>\n",
       "      <td>199000</td>\n",
       "      <td>3</td>\n",
       "      <td>2</td>\n",
       "      <td>Apartments</td>\n",
       "      <td>650</td>\n",
       "      <td>Leasehold</td>\n",
       "      <td>Bumi Lot</td>\n",
       "      <td>0</td>\n",
       "      <td>No Facilities</td>\n",
       "      <td>Kuala Lumpur</td>\n",
       "    </tr>\n",
       "    <tr>\n",
       "      <td>8</td>\n",
       "      <td>Cheras</td>\n",
       "      <td>330000</td>\n",
       "      <td>3</td>\n",
       "      <td>2</td>\n",
       "      <td>Apartments</td>\n",
       "      <td>1075</td>\n",
       "      <td>Freehold</td>\n",
       "      <td>Non Bumi Lot</td>\n",
       "      <td>1</td>\n",
       "      <td>Swimming Pool, Gymnasium, Tennis Court, Squash...</td>\n",
       "      <td>Kuala Lumpur</td>\n",
       "    </tr>\n",
       "    <tr>\n",
       "      <td>9</td>\n",
       "      <td>Cheras</td>\n",
       "      <td>519000</td>\n",
       "      <td>4</td>\n",
       "      <td>3</td>\n",
       "      <td>Apartments</td>\n",
       "      <td>1001</td>\n",
       "      <td>Leasehold</td>\n",
       "      <td>Non Bumi Lot</td>\n",
       "      <td>2</td>\n",
       "      <td>Swimming Pool, Gymnasium, Tennis Court, Squash...</td>\n",
       "      <td>Kuala Lumpur</td>\n",
       "    </tr>\n",
       "  </tbody>\n",
       "</table>\n",
       "</div>"
      ],
      "text/plain": [
       "                            Area    Price  Bedroom  Bathroom          Type  \\\n",
       "0                        OUG      3999000        8         8       Houses    \n",
       "1              Desa ParkCity      3300000        4         3       Houses    \n",
       "2                Wangsa Maju       590000        4         2   Apartments    \n",
       "3                Wangsa Maju       590000        4         2   Apartments    \n",
       "4               Ampang Hilir       460000        2         2   Apartments    \n",
       "5                     Cheras       300000        3         2   Apartments    \n",
       "6                     Cheras       950000        7         5       Houses    \n",
       "7       Bandar Tasik Selatan       199000        3         2   Apartments    \n",
       "8                     Cheras       330000        3         2   Apartments    \n",
       "9                     Cheras       519000        4         3   Apartments    \n",
       "\n",
       "   SquareFeet      Title      Oth_Info  Carpark  \\\n",
       "0        7000   Freehold  Non Bumi Lot        0   \n",
       "1        2379   Freehold  Non Bumi Lot        0   \n",
       "2        1065  Leasehold  Non Bumi Lot        2   \n",
       "3        1065  Leasehold  Non Bumi Lot        2   \n",
       "4         743  Leasehold  Non Bumi Lot        1   \n",
       "5         748  Leasehold      Bumi Lot        1   \n",
       "6        2400  Leasehold  Non Bumi Lot        0   \n",
       "7         650  Leasehold      Bumi Lot        0   \n",
       "8        1075   Freehold  Non Bumi Lot        1   \n",
       "9        1001  Leasehold  Non Bumi Lot        2   \n",
       "\n",
       "                                          Facilities         State  \n",
       "0                                      No Facilities  Kuala Lumpur  \n",
       "1  Swimming Pool, Gymnasium, Playground, Jogging ...  Kuala Lumpur  \n",
       "2  Swimming Pool, Gymnasium, Playground, Jogging ...  Kuala Lumpur  \n",
       "3  Swimming Pool, Gymnasium, Playground, Jogging ...  Kuala Lumpur  \n",
       "4  Swimming Pool, Gymnasium, Tennis Court, Squash...  Kuala Lumpur  \n",
       "5  Mini Market, Playground, Jogging Track, 24 Hou...  Kuala Lumpur  \n",
       "6  Mini Market, Playground, 24 Hour Security, Bal...  Kuala Lumpur  \n",
       "7                                      No Facilities  Kuala Lumpur  \n",
       "8  Swimming Pool, Gymnasium, Tennis Court, Squash...  Kuala Lumpur  \n",
       "9  Swimming Pool, Gymnasium, Tennis Court, Squash...  Kuala Lumpur  "
      ]
     },
     "execution_count": 33,
     "metadata": {},
     "output_type": "execute_result"
    }
   ],
   "source": [
    "df.head(10)"
   ]
  },
  {
   "cell_type": "code",
   "execution_count": 34,
   "metadata": {},
   "outputs": [],
   "source": [
    "df.to_csv(\"mudah_property_clean.csv\",index=False)"
   ]
  }
 ],
 "metadata": {
  "kernelspec": {
   "display_name": "Python 3",
   "language": "python",
   "name": "python3"
  },
  "language_info": {
   "codemirror_mode": {
    "name": "ipython",
    "version": 3
   },
   "file_extension": ".py",
   "mimetype": "text/x-python",
   "name": "python",
   "nbconvert_exporter": "python",
   "pygments_lexer": "ipython3",
   "version": "3.7.1"
  }
 },
 "nbformat": 4,
 "nbformat_minor": 2
}
