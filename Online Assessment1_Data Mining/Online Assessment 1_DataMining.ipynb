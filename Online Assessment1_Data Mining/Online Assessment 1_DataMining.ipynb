{
 "cells": [
  {
   "cell_type": "code",
   "execution_count": 1,
   "metadata": {},
   "outputs": [],
   "source": [
    "#Name: Bong Sze Ting \n",
    "#matric no: 17036508/1 (WQD 180033)"
   ]
  },
  {
   "cell_type": "code",
   "execution_count": 2,
   "metadata": {},
   "outputs": [],
   "source": [
    "import pandas as pd\n",
    "import numpy as np\n",
    "import re"
   ]
  },
  {
   "cell_type": "code",
   "execution_count": 3,
   "metadata": {},
   "outputs": [],
   "source": [
    "#import property datasets\n",
    "df_kl=pd.read_csv('./mudah_kl_add.csv')\n",
    "df_sel=pd.read_csv('./mudah_sel_add.csv')"
   ]
  },
  {
   "cell_type": "code",
   "execution_count": 4,
   "metadata": {},
   "outputs": [
    {
     "data": {
      "text/html": [
       "<div>\n",
       "<style scoped>\n",
       "    .dataframe tbody tr th:only-of-type {\n",
       "        vertical-align: middle;\n",
       "    }\n",
       "\n",
       "    .dataframe tbody tr th {\n",
       "        vertical-align: top;\n",
       "    }\n",
       "\n",
       "    .dataframe thead th {\n",
       "        text-align: right;\n",
       "    }\n",
       "</style>\n",
       "<table border=\"1\" class=\"dataframe\">\n",
       "  <thead>\n",
       "    <tr style=\"text-align: right;\">\n",
       "      <th></th>\n",
       "      <th>Unnamed: 0</th>\n",
       "      <th>Unnamed: 0.1</th>\n",
       "      <th>Area</th>\n",
       "      <th>Price</th>\n",
       "      <th>Bedroom</th>\n",
       "      <th>Bathroom</th>\n",
       "      <th>Type</th>\n",
       "      <th>SquareFeet</th>\n",
       "      <th>link</th>\n",
       "      <th>Title</th>\n",
       "      <th>Oth_Info</th>\n",
       "      <th>Carpark</th>\n",
       "      <th>Facilities</th>\n",
       "    </tr>\n",
       "  </thead>\n",
       "  <tbody>\n",
       "    <tr>\n",
       "      <td>0</td>\n",
       "      <td>0</td>\n",
       "      <td>0</td>\n",
       "      <td>OUG</td>\n",
       "      <td>3999000</td>\n",
       "      <td>8 Bedrooms</td>\n",
       "      <td>8 Bathrooms</td>\n",
       "      <td>Houses</td>\n",
       "      <td>7000 sq.ft</td>\n",
       "      <td>https://www.mudah.my/Happy+Garden+Bungalow+3+S...</td>\n",
       "      <td>Freehold</td>\n",
       "      <td>Non Bumi Lot</td>\n",
       "      <td>NaN</td>\n",
       "      <td>NaN</td>\n",
       "    </tr>\n",
       "    <tr>\n",
       "      <td>1</td>\n",
       "      <td>1</td>\n",
       "      <td>1</td>\n",
       "      <td>Desa ParkCity</td>\n",
       "      <td>3300000</td>\n",
       "      <td>4 Bedrooms</td>\n",
       "      <td>3 Bathrooms</td>\n",
       "      <td>Houses</td>\n",
       "      <td>2379 sq.ft</td>\n",
       "      <td>https://www.mudah.my/Desa+park+city+zenia+end+...</td>\n",
       "      <td>Freehold</td>\n",
       "      <td>Non Bumi Lot</td>\n",
       "      <td>NaN</td>\n",
       "      <td>Swimming Pool, Gymnasium, Playground, Jogging ...</td>\n",
       "    </tr>\n",
       "    <tr>\n",
       "      <td>2</td>\n",
       "      <td>2</td>\n",
       "      <td>2</td>\n",
       "      <td>Wangsa Maju</td>\n",
       "      <td>590000</td>\n",
       "      <td>4 Bedrooms</td>\n",
       "      <td>2 Bathrooms</td>\n",
       "      <td>Apartments</td>\n",
       "      <td>1065 sq.ft</td>\n",
       "      <td>https://www.mudah.my/QN+Residence+Jalan+Wangsa...</td>\n",
       "      <td>Leasehold</td>\n",
       "      <td>Non Bumi Lot</td>\n",
       "      <td>2.0</td>\n",
       "      <td>Swimming Pool, Gymnasium, Playground, Jogging ...</td>\n",
       "    </tr>\n",
       "    <tr>\n",
       "      <td>3</td>\n",
       "      <td>3</td>\n",
       "      <td>2</td>\n",
       "      <td>Wangsa Maju</td>\n",
       "      <td>590000</td>\n",
       "      <td>4 Bedrooms</td>\n",
       "      <td>2 Bathrooms</td>\n",
       "      <td>Apartments</td>\n",
       "      <td>1065 sq.ft</td>\n",
       "      <td>https://www.mudah.my/QN+Residence+Jalan+Wangsa...</td>\n",
       "      <td>Leasehold</td>\n",
       "      <td>Non Bumi Lot</td>\n",
       "      <td>2.0</td>\n",
       "      <td>Swimming Pool, Gymnasium, Playground, Jogging ...</td>\n",
       "    </tr>\n",
       "    <tr>\n",
       "      <td>4</td>\n",
       "      <td>4</td>\n",
       "      <td>4</td>\n",
       "      <td>Ampang Hilir</td>\n",
       "      <td>460000</td>\n",
       "      <td>2 Bedrooms</td>\n",
       "      <td>2 Bathrooms</td>\n",
       "      <td>Apartments</td>\n",
       "      <td>743 sq.ft</td>\n",
       "      <td>https://www.mudah.my/PANDAN+PERDANA+new+condo+...</td>\n",
       "      <td>Leasehold</td>\n",
       "      <td>Non Bumi Lot</td>\n",
       "      <td>1.0</td>\n",
       "      <td>Swimming Pool, Gymnasium, Tennis Court, Squash...</td>\n",
       "    </tr>\n",
       "  </tbody>\n",
       "</table>\n",
       "</div>"
      ],
      "text/plain": [
       "   Unnamed: 0  Unnamed: 0.1                    Area    Price       Bedroom  \\\n",
       "0           0             0                 OUG      3999000   8 Bedrooms    \n",
       "1           1             1       Desa ParkCity      3300000   4 Bedrooms    \n",
       "2           2             2         Wangsa Maju       590000   4 Bedrooms    \n",
       "3           3             2         Wangsa Maju       590000   4 Bedrooms    \n",
       "4           4             4        Ampang Hilir       460000   2 Bedrooms    \n",
       "\n",
       "        Bathroom          Type  SquareFeet  \\\n",
       "0   8 Bathrooms        Houses   7000 sq.ft   \n",
       "1   3 Bathrooms        Houses   2379 sq.ft   \n",
       "2   2 Bathrooms    Apartments   1065 sq.ft   \n",
       "3   2 Bathrooms    Apartments   1065 sq.ft   \n",
       "4   2 Bathrooms    Apartments    743 sq.ft   \n",
       "\n",
       "                                                link      Title      Oth_Info  \\\n",
       "0  https://www.mudah.my/Happy+Garden+Bungalow+3+S...   Freehold  Non Bumi Lot   \n",
       "1  https://www.mudah.my/Desa+park+city+zenia+end+...   Freehold  Non Bumi Lot   \n",
       "2  https://www.mudah.my/QN+Residence+Jalan+Wangsa...  Leasehold  Non Bumi Lot   \n",
       "3  https://www.mudah.my/QN+Residence+Jalan+Wangsa...  Leasehold  Non Bumi Lot   \n",
       "4  https://www.mudah.my/PANDAN+PERDANA+new+condo+...  Leasehold  Non Bumi Lot   \n",
       "\n",
       "   Carpark                                         Facilities  \n",
       "0      NaN                                                NaN  \n",
       "1      NaN  Swimming Pool, Gymnasium, Playground, Jogging ...  \n",
       "2      2.0  Swimming Pool, Gymnasium, Playground, Jogging ...  \n",
       "3      2.0  Swimming Pool, Gymnasium, Playground, Jogging ...  \n",
       "4      1.0  Swimming Pool, Gymnasium, Tennis Court, Squash...  "
      ]
     },
     "execution_count": 4,
     "metadata": {},
     "output_type": "execute_result"
    }
   ],
   "source": [
    "#read the first 4 rows for kl dataset\n",
    "df_kl.head()"
   ]
  },
  {
   "cell_type": "code",
   "execution_count": 5,
   "metadata": {},
   "outputs": [
    {
     "data": {
      "text/html": [
       "<div>\n",
       "<style scoped>\n",
       "    .dataframe tbody tr th:only-of-type {\n",
       "        vertical-align: middle;\n",
       "    }\n",
       "\n",
       "    .dataframe tbody tr th {\n",
       "        vertical-align: top;\n",
       "    }\n",
       "\n",
       "    .dataframe thead th {\n",
       "        text-align: right;\n",
       "    }\n",
       "</style>\n",
       "<table border=\"1\" class=\"dataframe\">\n",
       "  <thead>\n",
       "    <tr style=\"text-align: right;\">\n",
       "      <th></th>\n",
       "      <th>Unnamed: 0</th>\n",
       "      <th>Unnamed: 0.1</th>\n",
       "      <th>Area</th>\n",
       "      <th>Price</th>\n",
       "      <th>Bedroom</th>\n",
       "      <th>Bathroom</th>\n",
       "      <th>Type</th>\n",
       "      <th>SquareFeet</th>\n",
       "      <th>link</th>\n",
       "      <th>Title</th>\n",
       "      <th>Oth_Info</th>\n",
       "      <th>Carpark</th>\n",
       "      <th>Facilities</th>\n",
       "    </tr>\n",
       "  </thead>\n",
       "  <tbody>\n",
       "    <tr>\n",
       "      <td>0</td>\n",
       "      <td>0</td>\n",
       "      <td>0</td>\n",
       "      <td>Kajang</td>\n",
       "      <td>138000</td>\n",
       "      <td>3 Bedrooms</td>\n",
       "      <td>2 Bathrooms</td>\n",
       "      <td>Apartments</td>\n",
       "      <td>800 sq.ft</td>\n",
       "      <td>https://www.mudah.my/Apartment+Cheras+Prima+Le...</td>\n",
       "      <td>Freehold</td>\n",
       "      <td>Non Bumi Lot</td>\n",
       "      <td>NaN</td>\n",
       "      <td>NaN</td>\n",
       "    </tr>\n",
       "    <tr>\n",
       "      <td>1</td>\n",
       "      <td>1</td>\n",
       "      <td>1</td>\n",
       "      <td>Subang Bestari</td>\n",
       "      <td>210000</td>\n",
       "      <td>3 Bedrooms</td>\n",
       "      <td>2 Bathrooms</td>\n",
       "      <td>Apartments</td>\n",
       "      <td>788 sq.ft</td>\n",
       "      <td>https://www.mudah.my/+Booking+RM1K+LEVEL+1+APA...</td>\n",
       "      <td>Leasehold</td>\n",
       "      <td>Non Bumi Lot</td>\n",
       "      <td>NaN</td>\n",
       "      <td>NaN</td>\n",
       "    </tr>\n",
       "    <tr>\n",
       "      <td>2</td>\n",
       "      <td>2</td>\n",
       "      <td>2</td>\n",
       "      <td>Semenyih</td>\n",
       "      <td>1003000</td>\n",
       "      <td>5 Bedrooms</td>\n",
       "      <td>5 Bathrooms</td>\n",
       "      <td>Houses</td>\n",
       "      <td>3020 sq.ft</td>\n",
       "      <td>https://www.mudah.my/+SPACIOUS+LAND+RM5K+BOOKI...</td>\n",
       "      <td>Freehold</td>\n",
       "      <td>Non Bumi Lot</td>\n",
       "      <td>NaN</td>\n",
       "      <td>NaN</td>\n",
       "    </tr>\n",
       "    <tr>\n",
       "      <td>3</td>\n",
       "      <td>3</td>\n",
       "      <td>3</td>\n",
       "      <td>Batu Caves</td>\n",
       "      <td>235000</td>\n",
       "      <td>3 Bedrooms</td>\n",
       "      <td>2 Bathrooms</td>\n",
       "      <td>Apartments</td>\n",
       "      <td>816 sq.ft</td>\n",
       "      <td>https://www.mudah.my/Sri+gotong+apartment+batu...</td>\n",
       "      <td>Leasehold</td>\n",
       "      <td>Non Bumi Lot</td>\n",
       "      <td>2.0</td>\n",
       "      <td>Mini Market, Playground</td>\n",
       "    </tr>\n",
       "    <tr>\n",
       "      <td>4</td>\n",
       "      <td>4</td>\n",
       "      <td>4</td>\n",
       "      <td>Seri Kembangan</td>\n",
       "      <td>270000</td>\n",
       "      <td>1 Bedroom</td>\n",
       "      <td>1 Bathroom</td>\n",
       "      <td>Apartments</td>\n",
       "      <td>475 sq.ft</td>\n",
       "      <td>https://www.mudah.my/One+South+Studio+Flexis+4...</td>\n",
       "      <td>Leasehold</td>\n",
       "      <td>Non Bumi Lot</td>\n",
       "      <td>1.0</td>\n",
       "      <td>Swimming Pool, Gymnasium, Tennis Court, Squash...</td>\n",
       "    </tr>\n",
       "  </tbody>\n",
       "</table>\n",
       "</div>"
      ],
      "text/plain": [
       "   Unnamed: 0  Unnamed: 0.1                     Area    Price       Bedroom  \\\n",
       "0           0             0               Kajang       138000   3 Bedrooms    \n",
       "1           1             1       Subang Bestari       210000   3 Bedrooms    \n",
       "2           2             2             Semenyih      1003000   5 Bedrooms    \n",
       "3           3             3           Batu Caves       235000   3 Bedrooms    \n",
       "4           4             4       Seri Kembangan       270000    1 Bedroom    \n",
       "\n",
       "        Bathroom          Type  SquareFeet  \\\n",
       "0   2 Bathrooms    Apartments    800 sq.ft   \n",
       "1   2 Bathrooms    Apartments    788 sq.ft   \n",
       "2   5 Bathrooms        Houses   3020 sq.ft   \n",
       "3   2 Bathrooms    Apartments    816 sq.ft   \n",
       "4    1 Bathroom    Apartments    475 sq.ft   \n",
       "\n",
       "                                                link      Title      Oth_Info  \\\n",
       "0  https://www.mudah.my/Apartment+Cheras+Prima+Le...   Freehold  Non Bumi Lot   \n",
       "1  https://www.mudah.my/+Booking+RM1K+LEVEL+1+APA...  Leasehold  Non Bumi Lot   \n",
       "2  https://www.mudah.my/+SPACIOUS+LAND+RM5K+BOOKI...   Freehold  Non Bumi Lot   \n",
       "3  https://www.mudah.my/Sri+gotong+apartment+batu...  Leasehold  Non Bumi Lot   \n",
       "4  https://www.mudah.my/One+South+Studio+Flexis+4...  Leasehold  Non Bumi Lot   \n",
       "\n",
       "   Carpark                                         Facilities  \n",
       "0      NaN                                                NaN  \n",
       "1      NaN                                                NaN  \n",
       "2      NaN                                                NaN  \n",
       "3      2.0                            Mini Market, Playground  \n",
       "4      1.0  Swimming Pool, Gymnasium, Tennis Court, Squash...  "
      ]
     },
     "execution_count": 5,
     "metadata": {},
     "output_type": "execute_result"
    }
   ],
   "source": [
    "#read the first 4 rows for selongor dataset\n",
    "df_sel.head()"
   ]
  },
  {
   "cell_type": "code",
   "execution_count": 6,
   "metadata": {},
   "outputs": [
    {
     "data": {
      "text/plain": [
       "Index(['Unnamed: 0', 'Unnamed: 0.1', 'Area', 'Price', 'Bedroom', 'Bathroom',\n",
       "       'Type', 'SquareFeet', 'link', 'Title', 'Oth_Info', 'Carpark',\n",
       "       'Facilities'],\n",
       "      dtype='object')"
      ]
     },
     "execution_count": 6,
     "metadata": {},
     "output_type": "execute_result"
    }
   ],
   "source": [
    "#check the columns name for KL dataset\n",
    "df_kl.columns"
   ]
  },
  {
   "cell_type": "code",
   "execution_count": 7,
   "metadata": {},
   "outputs": [
    {
     "data": {
      "text/plain": [
       "Index(['Unnamed: 0', 'Unnamed: 0.1', 'Area', 'Price', 'Bedroom', 'Bathroom',\n",
       "       'Type', 'SquareFeet', 'link', 'Title', 'Oth_Info', 'Carpark',\n",
       "       'Facilities'],\n",
       "      dtype='object')"
      ]
     },
     "execution_count": 7,
     "metadata": {},
     "output_type": "execute_result"
    }
   ],
   "source": [
    "#check the columns name for selangor dataset\n",
    "df_sel.columns"
   ]
  },
  {
   "cell_type": "code",
   "execution_count": 8,
   "metadata": {},
   "outputs": [
    {
     "data": {
      "text/plain": [
       "(20507, 13)"
      ]
     },
     "execution_count": 8,
     "metadata": {},
     "output_type": "execute_result"
    }
   ],
   "source": [
    "#check the number of rows and columns for kl dataset\n",
    "df_kl.shape"
   ]
  },
  {
   "cell_type": "code",
   "execution_count": 9,
   "metadata": {},
   "outputs": [
    {
     "data": {
      "text/plain": [
       "(20597, 13)"
      ]
     },
     "execution_count": 9,
     "metadata": {},
     "output_type": "execute_result"
    }
   ],
   "source": [
    "#check the number of rows and columns for selangor dataset\n",
    "df_sel.shape"
   ]
  },
  {
   "cell_type": "code",
   "execution_count": 10,
   "metadata": {},
   "outputs": [],
   "source": [
    "#both datasets have the same number of columns and columns name, thus combine two dataset into one dataset\n",
    "#before combine the two dataset, we have to create a new column to determine the state for each property. \n",
    "#in our case, we only have the properties from kl and selongor. "
   ]
  },
  {
   "cell_type": "code",
   "execution_count": 11,
   "metadata": {},
   "outputs": [],
   "source": [
    "df_kl['state']='Kuala Lumpur'\n",
    "df_sel['state']='Selongor'"
   ]
  },
  {
   "cell_type": "code",
   "execution_count": 12,
   "metadata": {},
   "outputs": [
    {
     "data": {
      "text/plain": [
       "Index(['Unnamed: 0', 'Unnamed: 0.1', 'Area', 'Price', 'Bedroom', 'Bathroom',\n",
       "       'Type', 'SquareFeet', 'link', 'Title', 'Oth_Info', 'Carpark',\n",
       "       'Facilities', 'state'],\n",
       "      dtype='object')"
      ]
     },
     "execution_count": 12,
     "metadata": {},
     "output_type": "execute_result"
    }
   ],
   "source": [
    "#check again the columns name for kl dataset\n",
    "df_kl.columns"
   ]
  },
  {
   "cell_type": "code",
   "execution_count": 13,
   "metadata": {},
   "outputs": [
    {
     "data": {
      "text/plain": [
       "Index(['Unnamed: 0', 'Unnamed: 0.1', 'Area', 'Price', 'Bedroom', 'Bathroom',\n",
       "       'Type', 'SquareFeet', 'link', 'Title', 'Oth_Info', 'Carpark',\n",
       "       'Facilities', 'state'],\n",
       "      dtype='object')"
      ]
     },
     "execution_count": 13,
     "metadata": {},
     "output_type": "execute_result"
    }
   ],
   "source": [
    "#check again the columns name for selongor dataset\n",
    "df_sel.columns"
   ]
  },
  {
   "cell_type": "code",
   "execution_count": 14,
   "metadata": {},
   "outputs": [],
   "source": [
    "#new column is added into both dataset. \n",
    "#next, join the two datasets\n",
    "df=pd.concat([df_kl,df_sel])"
   ]
  },
  {
   "cell_type": "code",
   "execution_count": 15,
   "metadata": {},
   "outputs": [
    {
     "data": {
      "text/plain": [
       "(41104, 14)"
      ]
     },
     "execution_count": 15,
     "metadata": {},
     "output_type": "execute_result"
    }
   ],
   "source": [
    "#check the number of rows and columns for joined dataset\n",
    "df.shape"
   ]
  },
  {
   "cell_type": "code",
   "execution_count": 16,
   "metadata": {},
   "outputs": [
    {
     "data": {
      "text/html": [
       "<div>\n",
       "<style scoped>\n",
       "    .dataframe tbody tr th:only-of-type {\n",
       "        vertical-align: middle;\n",
       "    }\n",
       "\n",
       "    .dataframe tbody tr th {\n",
       "        vertical-align: top;\n",
       "    }\n",
       "\n",
       "    .dataframe thead th {\n",
       "        text-align: right;\n",
       "    }\n",
       "</style>\n",
       "<table border=\"1\" class=\"dataframe\">\n",
       "  <thead>\n",
       "    <tr style=\"text-align: right;\">\n",
       "      <th></th>\n",
       "      <th>Unnamed: 0</th>\n",
       "      <th>Unnamed: 0.1</th>\n",
       "      <th>Area</th>\n",
       "      <th>Price</th>\n",
       "      <th>Bedroom</th>\n",
       "      <th>Bathroom</th>\n",
       "      <th>Type</th>\n",
       "      <th>SquareFeet</th>\n",
       "      <th>link</th>\n",
       "      <th>Title</th>\n",
       "      <th>Oth_Info</th>\n",
       "      <th>Carpark</th>\n",
       "      <th>Facilities</th>\n",
       "      <th>state</th>\n",
       "    </tr>\n",
       "  </thead>\n",
       "  <tbody>\n",
       "    <tr>\n",
       "      <td>0</td>\n",
       "      <td>0</td>\n",
       "      <td>0</td>\n",
       "      <td>OUG</td>\n",
       "      <td>3999000</td>\n",
       "      <td>8 Bedrooms</td>\n",
       "      <td>8 Bathrooms</td>\n",
       "      <td>Houses</td>\n",
       "      <td>7000 sq.ft</td>\n",
       "      <td>https://www.mudah.my/Happy+Garden+Bungalow+3+S...</td>\n",
       "      <td>Freehold</td>\n",
       "      <td>Non Bumi Lot</td>\n",
       "      <td>NaN</td>\n",
       "      <td>NaN</td>\n",
       "      <td>Kuala Lumpur</td>\n",
       "    </tr>\n",
       "    <tr>\n",
       "      <td>1</td>\n",
       "      <td>1</td>\n",
       "      <td>1</td>\n",
       "      <td>Desa ParkCity</td>\n",
       "      <td>3300000</td>\n",
       "      <td>4 Bedrooms</td>\n",
       "      <td>3 Bathrooms</td>\n",
       "      <td>Houses</td>\n",
       "      <td>2379 sq.ft</td>\n",
       "      <td>https://www.mudah.my/Desa+park+city+zenia+end+...</td>\n",
       "      <td>Freehold</td>\n",
       "      <td>Non Bumi Lot</td>\n",
       "      <td>NaN</td>\n",
       "      <td>Swimming Pool, Gymnasium, Playground, Jogging ...</td>\n",
       "      <td>Kuala Lumpur</td>\n",
       "    </tr>\n",
       "    <tr>\n",
       "      <td>2</td>\n",
       "      <td>2</td>\n",
       "      <td>2</td>\n",
       "      <td>Wangsa Maju</td>\n",
       "      <td>590000</td>\n",
       "      <td>4 Bedrooms</td>\n",
       "      <td>2 Bathrooms</td>\n",
       "      <td>Apartments</td>\n",
       "      <td>1065 sq.ft</td>\n",
       "      <td>https://www.mudah.my/QN+Residence+Jalan+Wangsa...</td>\n",
       "      <td>Leasehold</td>\n",
       "      <td>Non Bumi Lot</td>\n",
       "      <td>2.0</td>\n",
       "      <td>Swimming Pool, Gymnasium, Playground, Jogging ...</td>\n",
       "      <td>Kuala Lumpur</td>\n",
       "    </tr>\n",
       "    <tr>\n",
       "      <td>3</td>\n",
       "      <td>3</td>\n",
       "      <td>2</td>\n",
       "      <td>Wangsa Maju</td>\n",
       "      <td>590000</td>\n",
       "      <td>4 Bedrooms</td>\n",
       "      <td>2 Bathrooms</td>\n",
       "      <td>Apartments</td>\n",
       "      <td>1065 sq.ft</td>\n",
       "      <td>https://www.mudah.my/QN+Residence+Jalan+Wangsa...</td>\n",
       "      <td>Leasehold</td>\n",
       "      <td>Non Bumi Lot</td>\n",
       "      <td>2.0</td>\n",
       "      <td>Swimming Pool, Gymnasium, Playground, Jogging ...</td>\n",
       "      <td>Kuala Lumpur</td>\n",
       "    </tr>\n",
       "    <tr>\n",
       "      <td>4</td>\n",
       "      <td>4</td>\n",
       "      <td>4</td>\n",
       "      <td>Ampang Hilir</td>\n",
       "      <td>460000</td>\n",
       "      <td>2 Bedrooms</td>\n",
       "      <td>2 Bathrooms</td>\n",
       "      <td>Apartments</td>\n",
       "      <td>743 sq.ft</td>\n",
       "      <td>https://www.mudah.my/PANDAN+PERDANA+new+condo+...</td>\n",
       "      <td>Leasehold</td>\n",
       "      <td>Non Bumi Lot</td>\n",
       "      <td>1.0</td>\n",
       "      <td>Swimming Pool, Gymnasium, Tennis Court, Squash...</td>\n",
       "      <td>Kuala Lumpur</td>\n",
       "    </tr>\n",
       "  </tbody>\n",
       "</table>\n",
       "</div>"
      ],
      "text/plain": [
       "   Unnamed: 0  Unnamed: 0.1                    Area    Price       Bedroom  \\\n",
       "0           0             0                 OUG      3999000   8 Bedrooms    \n",
       "1           1             1       Desa ParkCity      3300000   4 Bedrooms    \n",
       "2           2             2         Wangsa Maju       590000   4 Bedrooms    \n",
       "3           3             2         Wangsa Maju       590000   4 Bedrooms    \n",
       "4           4             4        Ampang Hilir       460000   2 Bedrooms    \n",
       "\n",
       "        Bathroom          Type  SquareFeet  \\\n",
       "0   8 Bathrooms        Houses   7000 sq.ft   \n",
       "1   3 Bathrooms        Houses   2379 sq.ft   \n",
       "2   2 Bathrooms    Apartments   1065 sq.ft   \n",
       "3   2 Bathrooms    Apartments   1065 sq.ft   \n",
       "4   2 Bathrooms    Apartments    743 sq.ft   \n",
       "\n",
       "                                                link      Title      Oth_Info  \\\n",
       "0  https://www.mudah.my/Happy+Garden+Bungalow+3+S...   Freehold  Non Bumi Lot   \n",
       "1  https://www.mudah.my/Desa+park+city+zenia+end+...   Freehold  Non Bumi Lot   \n",
       "2  https://www.mudah.my/QN+Residence+Jalan+Wangsa...  Leasehold  Non Bumi Lot   \n",
       "3  https://www.mudah.my/QN+Residence+Jalan+Wangsa...  Leasehold  Non Bumi Lot   \n",
       "4  https://www.mudah.my/PANDAN+PERDANA+new+condo+...  Leasehold  Non Bumi Lot   \n",
       "\n",
       "   Carpark                                         Facilities         state  \n",
       "0      NaN                                                NaN  Kuala Lumpur  \n",
       "1      NaN  Swimming Pool, Gymnasium, Playground, Jogging ...  Kuala Lumpur  \n",
       "2      2.0  Swimming Pool, Gymnasium, Playground, Jogging ...  Kuala Lumpur  \n",
       "3      2.0  Swimming Pool, Gymnasium, Playground, Jogging ...  Kuala Lumpur  \n",
       "4      1.0  Swimming Pool, Gymnasium, Tennis Court, Squash...  Kuala Lumpur  "
      ]
     },
     "execution_count": 16,
     "metadata": {},
     "output_type": "execute_result"
    }
   ],
   "source": [
    "#read the first 4 rows of joined dataset\n",
    "df.head()"
   ]
  },
  {
   "cell_type": "code",
   "execution_count": 17,
   "metadata": {},
   "outputs": [],
   "source": [
    "# now the two datasets are joined together into one dataset"
   ]
  },
  {
   "cell_type": "code",
   "execution_count": 18,
   "metadata": {},
   "outputs": [
    {
     "name": "stdout",
     "output_type": "stream",
     "text": [
      "<class 'pandas.core.frame.DataFrame'>\n",
      "Int64Index: 41104 entries, 0 to 20596\n",
      "Data columns (total 14 columns):\n",
      "Unnamed: 0      41104 non-null int64\n",
      "Unnamed: 0.1    41104 non-null int64\n",
      "Area            41104 non-null object\n",
      "Price           41104 non-null int64\n",
      "Bedroom         38414 non-null object\n",
      "Bathroom        38421 non-null object\n",
      "Type            38440 non-null object\n",
      "SquareFeet      39383 non-null object\n",
      "link            41104 non-null object\n",
      "Title           41104 non-null object\n",
      "Oth_Info        41104 non-null object\n",
      "Carpark         16316 non-null float64\n",
      "Facilities      25856 non-null object\n",
      "state           41104 non-null object\n",
      "dtypes: float64(1), int64(3), object(10)\n",
      "memory usage: 4.7+ MB\n"
     ]
    }
   ],
   "source": [
    "#get the info of the joined dataset\n",
    "df.info()"
   ]
  },
  {
   "cell_type": "code",
   "execution_count": 19,
   "metadata": {},
   "outputs": [
    {
     "data": {
      "text/plain": [
       "Unnamed: 0          0\n",
       "Unnamed: 0.1        0\n",
       "Area                0\n",
       "Price               0\n",
       "Bedroom          2690\n",
       "Bathroom         2683\n",
       "Type             2664\n",
       "SquareFeet       1721\n",
       "link                0\n",
       "Title               0\n",
       "Oth_Info            0\n",
       "Carpark         24788\n",
       "Facilities      15248\n",
       "state               0\n",
       "dtype: int64"
      ]
     },
     "execution_count": 19,
     "metadata": {},
     "output_type": "execute_result"
    }
   ],
   "source": [
    "# check the missing values per columns\n",
    "df.isnull().sum()"
   ]
  },
  {
   "cell_type": "code",
   "execution_count": 20,
   "metadata": {},
   "outputs": [],
   "source": [
    "#the first two columns are unwanted columns, so will be removed\n",
    "#link column is not applicable for analysis so will be removed as well\n",
    "df=df.drop(['Unnamed: 0','Unnamed: 0.1','link'],axis=1)"
   ]
  },
  {
   "cell_type": "code",
   "execution_count": 21,
   "metadata": {},
   "outputs": [
    {
     "name": "stdout",
     "output_type": "stream",
     "text": [
      "<class 'pandas.core.frame.DataFrame'>\n",
      "Int64Index: 41104 entries, 0 to 20596\n",
      "Data columns (total 11 columns):\n",
      "Area          41104 non-null object\n",
      "Price         41104 non-null int64\n",
      "Bedroom       38414 non-null object\n",
      "Bathroom      38421 non-null object\n",
      "Type          38440 non-null object\n",
      "SquareFeet    39383 non-null object\n",
      "Title         41104 non-null object\n",
      "Oth_Info      41104 non-null object\n",
      "Carpark       16316 non-null float64\n",
      "Facilities    25856 non-null object\n",
      "state         41104 non-null object\n",
      "dtypes: float64(1), int64(1), object(9)\n",
      "memory usage: 3.8+ MB\n"
     ]
    }
   ],
   "source": [
    "df.info()"
   ]
  },
  {
   "cell_type": "code",
   "execution_count": 22,
   "metadata": {},
   "outputs": [],
   "source": [
    "#extract number from bedroom,bathroom,squarefeet columns"
   ]
  },
  {
   "cell_type": "code",
   "execution_count": 23,
   "metadata": {},
   "outputs": [],
   "source": [
    "df['Bedroom']=df['Bedroom'].str.extract('(\\d+)')"
   ]
  },
  {
   "cell_type": "code",
   "execution_count": 24,
   "metadata": {},
   "outputs": [],
   "source": [
    "df['Bathroom']=df['Bathroom'].str.extract('(\\d+)')"
   ]
  },
  {
   "cell_type": "code",
   "execution_count": 25,
   "metadata": {},
   "outputs": [],
   "source": [
    "df['SquareFeet']=df['SquareFeet'].str.extract('(\\d+)')"
   ]
  },
  {
   "cell_type": "code",
   "execution_count": 26,
   "metadata": {},
   "outputs": [
    {
     "data": {
      "text/plain": [
       "Area              0\n",
       "Price             0\n",
       "Bedroom        2690\n",
       "Bathroom       2683\n",
       "Type           2664\n",
       "SquareFeet     1721\n",
       "Title             0\n",
       "Oth_Info          0\n",
       "Carpark       24788\n",
       "Facilities    15248\n",
       "state             0\n",
       "dtype: int64"
      ]
     },
     "execution_count": 26,
     "metadata": {},
     "output_type": "execute_result"
    }
   ],
   "source": [
    "df.isnull().sum()"
   ]
  },
  {
   "cell_type": "code",
   "execution_count": 27,
   "metadata": {},
   "outputs": [],
   "source": [
    "#replace the missing values for bedroom, bathroom and carpark with zero "
   ]
  },
  {
   "cell_type": "code",
   "execution_count": 28,
   "metadata": {},
   "outputs": [],
   "source": [
    "df['Bedroom'] = df['Bedroom'].fillna(0)"
   ]
  },
  {
   "cell_type": "code",
   "execution_count": 29,
   "metadata": {},
   "outputs": [],
   "source": [
    "df['Bathroom'] = df['Bathroom'].fillna(0)"
   ]
  },
  {
   "cell_type": "code",
   "execution_count": 30,
   "metadata": {},
   "outputs": [],
   "source": [
    "df['Carpark'] = df['Carpark'].fillna(0)"
   ]
  },
  {
   "cell_type": "code",
   "execution_count": 31,
   "metadata": {},
   "outputs": [
    {
     "data": {
      "text/plain": [
       "Area              0\n",
       "Price             0\n",
       "Bedroom           0\n",
       "Bathroom          0\n",
       "Type           2664\n",
       "SquareFeet     1721\n",
       "Title             0\n",
       "Oth_Info          0\n",
       "Carpark           0\n",
       "Facilities    15248\n",
       "state             0\n",
       "dtype: int64"
      ]
     },
     "execution_count": 31,
     "metadata": {},
     "output_type": "execute_result"
    }
   ],
   "source": [
    "df.isnull().sum()"
   ]
  },
  {
   "cell_type": "code",
   "execution_count": 32,
   "metadata": {},
   "outputs": [
    {
     "data": {
      "text/plain": [
       " Apartments     21593\n",
       " Houses         16847\n",
       "Name: Type, dtype: int64"
      ]
     },
     "execution_count": 32,
     "metadata": {},
     "output_type": "execute_result"
    }
   ],
   "source": [
    "#check the unique type\n",
    "df['Type'].value_counts()"
   ]
  },
  {
   "cell_type": "code",
   "execution_count": 33,
   "metadata": {},
   "outputs": [],
   "source": [
    "#missing value for type column will replace with 'did not disclose'\n",
    "df['Type'] = df['Type'].fillna('Did not disclose')"
   ]
  },
  {
   "cell_type": "code",
   "execution_count": 34,
   "metadata": {},
   "outputs": [
    {
     "data": {
      "text/plain": [
       " Apartments         21593\n",
       " Houses             16847\n",
       "Did not disclose     2664\n",
       "Name: Type, dtype: int64"
      ]
     },
     "execution_count": 34,
     "metadata": {},
     "output_type": "execute_result"
    }
   ],
   "source": [
    "df['Type'].value_counts()"
   ]
  },
  {
   "cell_type": "code",
   "execution_count": 35,
   "metadata": {},
   "outputs": [
    {
     "data": {
      "text/plain": [
       "Area              0\n",
       "Price             0\n",
       "Bedroom           0\n",
       "Bathroom          0\n",
       "Type              0\n",
       "SquareFeet     1721\n",
       "Title             0\n",
       "Oth_Info          0\n",
       "Carpark           0\n",
       "Facilities    15248\n",
       "state             0\n",
       "dtype: int64"
      ]
     },
     "execution_count": 35,
     "metadata": {},
     "output_type": "execute_result"
    }
   ],
   "source": [
    "df.isnull().sum()"
   ]
  },
  {
   "cell_type": "code",
   "execution_count": 36,
   "metadata": {},
   "outputs": [],
   "source": [
    "#facilities column explain the facilities that having by each property, \n",
    "#thus the missing values will replaced with 'no facilities'\n",
    "df['Facilities'] = df['Facilities'].fillna('No Facilities')"
   ]
  },
  {
   "cell_type": "code",
   "execution_count": 37,
   "metadata": {},
   "outputs": [
    {
     "data": {
      "text/plain": [
       "Area             0\n",
       "Price            0\n",
       "Bedroom          0\n",
       "Bathroom         0\n",
       "Type             0\n",
       "SquareFeet    1721\n",
       "Title            0\n",
       "Oth_Info         0\n",
       "Carpark          0\n",
       "Facilities       0\n",
       "state            0\n",
       "dtype: int64"
      ]
     },
     "execution_count": 37,
     "metadata": {},
     "output_type": "execute_result"
    }
   ],
   "source": [
    "df.isnull().sum()"
   ]
  },
  {
   "cell_type": "code",
   "execution_count": 38,
   "metadata": {},
   "outputs": [
    {
     "data": {
      "text/plain": [
       "Area          0.00000\n",
       "Price         0.00000\n",
       "Bedroom       0.00000\n",
       "Bathroom      0.00000\n",
       "Type          0.00000\n",
       "SquareFeet    4.18694\n",
       "Title         0.00000\n",
       "Oth_Info      0.00000\n",
       "Carpark       0.00000\n",
       "Facilities    0.00000\n",
       "state         0.00000\n",
       "dtype: float64"
      ]
     },
     "execution_count": 38,
     "metadata": {},
     "output_type": "execute_result"
    }
   ],
   "source": [
    "#there is 1721 missing value for squarefeet, and it account for 4% of the total data\n",
    "#squarefeet is important variable for the further analysis.thus,the missing value will be romoved.\n",
    "\n",
    "100* df.isnull().sum()/len(df)"
   ]
  },
  {
   "cell_type": "code",
   "execution_count": 39,
   "metadata": {},
   "outputs": [],
   "source": [
    "df = df.dropna()"
   ]
  },
  {
   "cell_type": "code",
   "execution_count": 40,
   "metadata": {},
   "outputs": [
    {
     "data": {
      "text/plain": [
       "Area          0\n",
       "Price         0\n",
       "Bedroom       0\n",
       "Bathroom      0\n",
       "Type          0\n",
       "SquareFeet    0\n",
       "Title         0\n",
       "Oth_Info      0\n",
       "Carpark       0\n",
       "Facilities    0\n",
       "state         0\n",
       "dtype: int64"
      ]
     },
     "execution_count": 40,
     "metadata": {},
     "output_type": "execute_result"
    }
   ],
   "source": [
    "#no missing data in the dataset\n",
    "df.isnull().sum()"
   ]
  },
  {
   "cell_type": "code",
   "execution_count": 41,
   "metadata": {},
   "outputs": [
    {
     "data": {
      "text/html": [
       "<div>\n",
       "<style scoped>\n",
       "    .dataframe tbody tr th:only-of-type {\n",
       "        vertical-align: middle;\n",
       "    }\n",
       "\n",
       "    .dataframe tbody tr th {\n",
       "        vertical-align: top;\n",
       "    }\n",
       "\n",
       "    .dataframe thead th {\n",
       "        text-align: right;\n",
       "    }\n",
       "</style>\n",
       "<table border=\"1\" class=\"dataframe\">\n",
       "  <thead>\n",
       "    <tr style=\"text-align: right;\">\n",
       "      <th></th>\n",
       "      <th>Area</th>\n",
       "      <th>Price</th>\n",
       "      <th>Bedroom</th>\n",
       "      <th>Bathroom</th>\n",
       "      <th>Type</th>\n",
       "      <th>SquareFeet</th>\n",
       "      <th>Title</th>\n",
       "      <th>Oth_Info</th>\n",
       "      <th>Carpark</th>\n",
       "      <th>Facilities</th>\n",
       "      <th>state</th>\n",
       "    </tr>\n",
       "  </thead>\n",
       "  <tbody>\n",
       "    <tr>\n",
       "      <td>0</td>\n",
       "      <td>OUG</td>\n",
       "      <td>3999000</td>\n",
       "      <td>8</td>\n",
       "      <td>8</td>\n",
       "      <td>Houses</td>\n",
       "      <td>7000</td>\n",
       "      <td>Freehold</td>\n",
       "      <td>Non Bumi Lot</td>\n",
       "      <td>0.0</td>\n",
       "      <td>No Facilities</td>\n",
       "      <td>Kuala Lumpur</td>\n",
       "    </tr>\n",
       "    <tr>\n",
       "      <td>1</td>\n",
       "      <td>Desa ParkCity</td>\n",
       "      <td>3300000</td>\n",
       "      <td>4</td>\n",
       "      <td>3</td>\n",
       "      <td>Houses</td>\n",
       "      <td>2379</td>\n",
       "      <td>Freehold</td>\n",
       "      <td>Non Bumi Lot</td>\n",
       "      <td>0.0</td>\n",
       "      <td>Swimming Pool, Gymnasium, Playground, Jogging ...</td>\n",
       "      <td>Kuala Lumpur</td>\n",
       "    </tr>\n",
       "    <tr>\n",
       "      <td>2</td>\n",
       "      <td>Wangsa Maju</td>\n",
       "      <td>590000</td>\n",
       "      <td>4</td>\n",
       "      <td>2</td>\n",
       "      <td>Apartments</td>\n",
       "      <td>1065</td>\n",
       "      <td>Leasehold</td>\n",
       "      <td>Non Bumi Lot</td>\n",
       "      <td>2.0</td>\n",
       "      <td>Swimming Pool, Gymnasium, Playground, Jogging ...</td>\n",
       "      <td>Kuala Lumpur</td>\n",
       "    </tr>\n",
       "    <tr>\n",
       "      <td>3</td>\n",
       "      <td>Wangsa Maju</td>\n",
       "      <td>590000</td>\n",
       "      <td>4</td>\n",
       "      <td>2</td>\n",
       "      <td>Apartments</td>\n",
       "      <td>1065</td>\n",
       "      <td>Leasehold</td>\n",
       "      <td>Non Bumi Lot</td>\n",
       "      <td>2.0</td>\n",
       "      <td>Swimming Pool, Gymnasium, Playground, Jogging ...</td>\n",
       "      <td>Kuala Lumpur</td>\n",
       "    </tr>\n",
       "    <tr>\n",
       "      <td>4</td>\n",
       "      <td>Ampang Hilir</td>\n",
       "      <td>460000</td>\n",
       "      <td>2</td>\n",
       "      <td>2</td>\n",
       "      <td>Apartments</td>\n",
       "      <td>743</td>\n",
       "      <td>Leasehold</td>\n",
       "      <td>Non Bumi Lot</td>\n",
       "      <td>1.0</td>\n",
       "      <td>Swimming Pool, Gymnasium, Tennis Court, Squash...</td>\n",
       "      <td>Kuala Lumpur</td>\n",
       "    </tr>\n",
       "  </tbody>\n",
       "</table>\n",
       "</div>"
      ],
      "text/plain": [
       "                     Area    Price Bedroom Bathroom          Type SquareFeet  \\\n",
       "0                 OUG      3999000       8        8       Houses        7000   \n",
       "1       Desa ParkCity      3300000       4        3       Houses        2379   \n",
       "2         Wangsa Maju       590000       4        2   Apartments        1065   \n",
       "3         Wangsa Maju       590000       4        2   Apartments        1065   \n",
       "4        Ampang Hilir       460000       2        2   Apartments         743   \n",
       "\n",
       "       Title      Oth_Info  Carpark  \\\n",
       "0   Freehold  Non Bumi Lot      0.0   \n",
       "1   Freehold  Non Bumi Lot      0.0   \n",
       "2  Leasehold  Non Bumi Lot      2.0   \n",
       "3  Leasehold  Non Bumi Lot      2.0   \n",
       "4  Leasehold  Non Bumi Lot      1.0   \n",
       "\n",
       "                                          Facilities         state  \n",
       "0                                      No Facilities  Kuala Lumpur  \n",
       "1  Swimming Pool, Gymnasium, Playground, Jogging ...  Kuala Lumpur  \n",
       "2  Swimming Pool, Gymnasium, Playground, Jogging ...  Kuala Lumpur  \n",
       "3  Swimming Pool, Gymnasium, Playground, Jogging ...  Kuala Lumpur  \n",
       "4  Swimming Pool, Gymnasium, Tennis Court, Squash...  Kuala Lumpur  "
      ]
     },
     "execution_count": 41,
     "metadata": {},
     "output_type": "execute_result"
    }
   ],
   "source": [
    "df.head()"
   ]
  },
  {
   "cell_type": "code",
   "execution_count": 42,
   "metadata": {},
   "outputs": [
    {
     "name": "stdout",
     "output_type": "stream",
     "text": [
      "<class 'pandas.core.frame.DataFrame'>\n",
      "Int64Index: 39383 entries, 0 to 20596\n",
      "Data columns (total 11 columns):\n",
      "Area          39383 non-null object\n",
      "Price         39383 non-null int64\n",
      "Bedroom       39383 non-null object\n",
      "Bathroom      39383 non-null object\n",
      "Type          39383 non-null object\n",
      "SquareFeet    39383 non-null object\n",
      "Title         39383 non-null object\n",
      "Oth_Info      39383 non-null object\n",
      "Carpark       39383 non-null float64\n",
      "Facilities    39383 non-null object\n",
      "state         39383 non-null object\n",
      "dtypes: float64(1), int64(1), object(9)\n",
      "memory usage: 3.6+ MB\n"
     ]
    }
   ],
   "source": [
    "df.info()"
   ]
  },
  {
   "cell_type": "code",
   "execution_count": 43,
   "metadata": {},
   "outputs": [],
   "source": [
    "#now change the type for bedroom,bathroom squarefeet and carpark into integer\n",
    "cols = ['Bedroom', 'Bathroom', 'SquareFeet','Carpark']\n",
    "df[cols] = df[cols].astype('int')"
   ]
  },
  {
   "cell_type": "code",
   "execution_count": 44,
   "metadata": {},
   "outputs": [
    {
     "name": "stdout",
     "output_type": "stream",
     "text": [
      "<class 'pandas.core.frame.DataFrame'>\n",
      "Int64Index: 39383 entries, 0 to 20596\n",
      "Data columns (total 11 columns):\n",
      "Area          39383 non-null object\n",
      "Price         39383 non-null int64\n",
      "Bedroom       39383 non-null int32\n",
      "Bathroom      39383 non-null int32\n",
      "Type          39383 non-null object\n",
      "SquareFeet    39383 non-null int32\n",
      "Title         39383 non-null object\n",
      "Oth_Info      39383 non-null object\n",
      "Carpark       39383 non-null int32\n",
      "Facilities    39383 non-null object\n",
      "state         39383 non-null object\n",
      "dtypes: int32(4), int64(1), object(6)\n",
      "memory usage: 3.0+ MB\n"
     ]
    }
   ],
   "source": [
    "df.info()"
   ]
  },
  {
   "cell_type": "code",
   "execution_count": 45,
   "metadata": {},
   "outputs": [
    {
     "data": {
      "text/html": [
       "<div>\n",
       "<style scoped>\n",
       "    .dataframe tbody tr th:only-of-type {\n",
       "        vertical-align: middle;\n",
       "    }\n",
       "\n",
       "    .dataframe tbody tr th {\n",
       "        vertical-align: top;\n",
       "    }\n",
       "\n",
       "    .dataframe thead th {\n",
       "        text-align: right;\n",
       "    }\n",
       "</style>\n",
       "<table border=\"1\" class=\"dataframe\">\n",
       "  <thead>\n",
       "    <tr style=\"text-align: right;\">\n",
       "      <th></th>\n",
       "      <th>Area</th>\n",
       "      <th>Price</th>\n",
       "      <th>Bedroom</th>\n",
       "      <th>Bathroom</th>\n",
       "      <th>Type</th>\n",
       "      <th>SquareFeet</th>\n",
       "      <th>Title</th>\n",
       "      <th>Oth_Info</th>\n",
       "      <th>Carpark</th>\n",
       "      <th>Facilities</th>\n",
       "      <th>state</th>\n",
       "    </tr>\n",
       "  </thead>\n",
       "  <tbody>\n",
       "    <tr>\n",
       "      <td>0</td>\n",
       "      <td>OUG</td>\n",
       "      <td>3999000</td>\n",
       "      <td>8</td>\n",
       "      <td>8</td>\n",
       "      <td>Houses</td>\n",
       "      <td>7000</td>\n",
       "      <td>Freehold</td>\n",
       "      <td>Non Bumi Lot</td>\n",
       "      <td>0</td>\n",
       "      <td>No Facilities</td>\n",
       "      <td>Kuala Lumpur</td>\n",
       "    </tr>\n",
       "    <tr>\n",
       "      <td>1</td>\n",
       "      <td>Desa ParkCity</td>\n",
       "      <td>3300000</td>\n",
       "      <td>4</td>\n",
       "      <td>3</td>\n",
       "      <td>Houses</td>\n",
       "      <td>2379</td>\n",
       "      <td>Freehold</td>\n",
       "      <td>Non Bumi Lot</td>\n",
       "      <td>0</td>\n",
       "      <td>Swimming Pool, Gymnasium, Playground, Jogging ...</td>\n",
       "      <td>Kuala Lumpur</td>\n",
       "    </tr>\n",
       "    <tr>\n",
       "      <td>2</td>\n",
       "      <td>Wangsa Maju</td>\n",
       "      <td>590000</td>\n",
       "      <td>4</td>\n",
       "      <td>2</td>\n",
       "      <td>Apartments</td>\n",
       "      <td>1065</td>\n",
       "      <td>Leasehold</td>\n",
       "      <td>Non Bumi Lot</td>\n",
       "      <td>2</td>\n",
       "      <td>Swimming Pool, Gymnasium, Playground, Jogging ...</td>\n",
       "      <td>Kuala Lumpur</td>\n",
       "    </tr>\n",
       "    <tr>\n",
       "      <td>3</td>\n",
       "      <td>Wangsa Maju</td>\n",
       "      <td>590000</td>\n",
       "      <td>4</td>\n",
       "      <td>2</td>\n",
       "      <td>Apartments</td>\n",
       "      <td>1065</td>\n",
       "      <td>Leasehold</td>\n",
       "      <td>Non Bumi Lot</td>\n",
       "      <td>2</td>\n",
       "      <td>Swimming Pool, Gymnasium, Playground, Jogging ...</td>\n",
       "      <td>Kuala Lumpur</td>\n",
       "    </tr>\n",
       "    <tr>\n",
       "      <td>4</td>\n",
       "      <td>Ampang Hilir</td>\n",
       "      <td>460000</td>\n",
       "      <td>2</td>\n",
       "      <td>2</td>\n",
       "      <td>Apartments</td>\n",
       "      <td>743</td>\n",
       "      <td>Leasehold</td>\n",
       "      <td>Non Bumi Lot</td>\n",
       "      <td>1</td>\n",
       "      <td>Swimming Pool, Gymnasium, Tennis Court, Squash...</td>\n",
       "      <td>Kuala Lumpur</td>\n",
       "    </tr>\n",
       "  </tbody>\n",
       "</table>\n",
       "</div>"
      ],
      "text/plain": [
       "                     Area    Price  Bedroom  Bathroom          Type  \\\n",
       "0                 OUG      3999000        8         8       Houses    \n",
       "1       Desa ParkCity      3300000        4         3       Houses    \n",
       "2         Wangsa Maju       590000        4         2   Apartments    \n",
       "3         Wangsa Maju       590000        4         2   Apartments    \n",
       "4        Ampang Hilir       460000        2         2   Apartments    \n",
       "\n",
       "   SquareFeet      Title      Oth_Info  Carpark  \\\n",
       "0        7000   Freehold  Non Bumi Lot        0   \n",
       "1        2379   Freehold  Non Bumi Lot        0   \n",
       "2        1065  Leasehold  Non Bumi Lot        2   \n",
       "3        1065  Leasehold  Non Bumi Lot        2   \n",
       "4         743  Leasehold  Non Bumi Lot        1   \n",
       "\n",
       "                                          Facilities         state  \n",
       "0                                      No Facilities  Kuala Lumpur  \n",
       "1  Swimming Pool, Gymnasium, Playground, Jogging ...  Kuala Lumpur  \n",
       "2  Swimming Pool, Gymnasium, Playground, Jogging ...  Kuala Lumpur  \n",
       "3  Swimming Pool, Gymnasium, Playground, Jogging ...  Kuala Lumpur  \n",
       "4  Swimming Pool, Gymnasium, Tennis Court, Squash...  Kuala Lumpur  "
      ]
     },
     "execution_count": 45,
     "metadata": {},
     "output_type": "execute_result"
    }
   ],
   "source": [
    "df.head()"
   ]
  },
  {
   "cell_type": "code",
   "execution_count": null,
   "metadata": {},
   "outputs": [],
   "source": [
    "#the dataset now is cleaned and ready for further analysis"
   ]
  }
 ],
 "metadata": {
  "kernelspec": {
   "display_name": "Python 3",
   "language": "python",
   "name": "python3"
  },
  "language_info": {
   "codemirror_mode": {
    "name": "ipython",
    "version": 3
   },
   "file_extension": ".py",
   "mimetype": "text/x-python",
   "name": "python",
   "nbconvert_exporter": "python",
   "pygments_lexer": "ipython3",
   "version": "3.7.1"
  }
 },
 "nbformat": 4,
 "nbformat_minor": 2
}
