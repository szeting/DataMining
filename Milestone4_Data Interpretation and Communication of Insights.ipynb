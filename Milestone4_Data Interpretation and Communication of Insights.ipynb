{
 "cells": [
  {
   "cell_type": "code",
   "execution_count": 1,
   "metadata": {},
   "outputs": [],
   "source": [
    "#import library\n",
    "import pandas as pd\n",
    "import numpy as np\n",
    "import re\n",
    "from scipy import stats\n",
    "from matplotlib import pyplot as plt\n",
    "import seaborn as sns\n",
    "%matplotlib inline"
   ]
  },
  {
   "cell_type": "code",
   "execution_count": 2,
   "metadata": {},
   "outputs": [],
   "source": [
    "#import the clean dataset\n",
    "df=pd.read_csv('./mudah_property_clean.csv')"
   ]
  },
  {
   "cell_type": "code",
   "execution_count": 3,
   "metadata": {},
   "outputs": [
    {
     "data": {
      "text/html": [
       "<div>\n",
       "<style scoped>\n",
       "    .dataframe tbody tr th:only-of-type {\n",
       "        vertical-align: middle;\n",
       "    }\n",
       "\n",
       "    .dataframe tbody tr th {\n",
       "        vertical-align: top;\n",
       "    }\n",
       "\n",
       "    .dataframe thead th {\n",
       "        text-align: right;\n",
       "    }\n",
       "</style>\n",
       "<table border=\"1\" class=\"dataframe\">\n",
       "  <thead>\n",
       "    <tr style=\"text-align: right;\">\n",
       "      <th></th>\n",
       "      <th>Area</th>\n",
       "      <th>Price</th>\n",
       "      <th>Bedroom</th>\n",
       "      <th>Bathroom</th>\n",
       "      <th>Type</th>\n",
       "      <th>SquareFeet</th>\n",
       "      <th>Title</th>\n",
       "      <th>Oth_Info</th>\n",
       "      <th>Carpark</th>\n",
       "      <th>Facilities</th>\n",
       "      <th>State</th>\n",
       "    </tr>\n",
       "  </thead>\n",
       "  <tbody>\n",
       "    <tr>\n",
       "      <td>0</td>\n",
       "      <td>OUG</td>\n",
       "      <td>3999000</td>\n",
       "      <td>8</td>\n",
       "      <td>8</td>\n",
       "      <td>Houses</td>\n",
       "      <td>7000</td>\n",
       "      <td>Freehold</td>\n",
       "      <td>Non Bumi Lot</td>\n",
       "      <td>0</td>\n",
       "      <td>No Facilities</td>\n",
       "      <td>Kuala Lumpur</td>\n",
       "    </tr>\n",
       "    <tr>\n",
       "      <td>1</td>\n",
       "      <td>Desa ParkCity</td>\n",
       "      <td>3300000</td>\n",
       "      <td>4</td>\n",
       "      <td>3</td>\n",
       "      <td>Houses</td>\n",
       "      <td>2379</td>\n",
       "      <td>Freehold</td>\n",
       "      <td>Non Bumi Lot</td>\n",
       "      <td>0</td>\n",
       "      <td>Swimming Pool, Gymnasium, Playground, Jogging ...</td>\n",
       "      <td>Kuala Lumpur</td>\n",
       "    </tr>\n",
       "    <tr>\n",
       "      <td>2</td>\n",
       "      <td>Wangsa Maju</td>\n",
       "      <td>590000</td>\n",
       "      <td>4</td>\n",
       "      <td>2</td>\n",
       "      <td>Apartments</td>\n",
       "      <td>1065</td>\n",
       "      <td>Leasehold</td>\n",
       "      <td>Non Bumi Lot</td>\n",
       "      <td>2</td>\n",
       "      <td>Swimming Pool, Gymnasium, Playground, Jogging ...</td>\n",
       "      <td>Kuala Lumpur</td>\n",
       "    </tr>\n",
       "    <tr>\n",
       "      <td>3</td>\n",
       "      <td>Wangsa Maju</td>\n",
       "      <td>590000</td>\n",
       "      <td>4</td>\n",
       "      <td>2</td>\n",
       "      <td>Apartments</td>\n",
       "      <td>1065</td>\n",
       "      <td>Leasehold</td>\n",
       "      <td>Non Bumi Lot</td>\n",
       "      <td>2</td>\n",
       "      <td>Swimming Pool, Gymnasium, Playground, Jogging ...</td>\n",
       "      <td>Kuala Lumpur</td>\n",
       "    </tr>\n",
       "    <tr>\n",
       "      <td>4</td>\n",
       "      <td>Ampang Hilir</td>\n",
       "      <td>460000</td>\n",
       "      <td>2</td>\n",
       "      <td>2</td>\n",
       "      <td>Apartments</td>\n",
       "      <td>743</td>\n",
       "      <td>Leasehold</td>\n",
       "      <td>Non Bumi Lot</td>\n",
       "      <td>1</td>\n",
       "      <td>Swimming Pool, Gymnasium, Tennis Court, Squash...</td>\n",
       "      <td>Kuala Lumpur</td>\n",
       "    </tr>\n",
       "  </tbody>\n",
       "</table>\n",
       "</div>"
      ],
      "text/plain": [
       "                     Area    Price  Bedroom  Bathroom          Type  \\\n",
       "0                 OUG      3999000        8         8       Houses    \n",
       "1       Desa ParkCity      3300000        4         3       Houses    \n",
       "2         Wangsa Maju       590000        4         2   Apartments    \n",
       "3         Wangsa Maju       590000        4         2   Apartments    \n",
       "4        Ampang Hilir       460000        2         2   Apartments    \n",
       "\n",
       "   SquareFeet      Title      Oth_Info  Carpark  \\\n",
       "0        7000   Freehold  Non Bumi Lot        0   \n",
       "1        2379   Freehold  Non Bumi Lot        0   \n",
       "2        1065  Leasehold  Non Bumi Lot        2   \n",
       "3        1065  Leasehold  Non Bumi Lot        2   \n",
       "4         743  Leasehold  Non Bumi Lot        1   \n",
       "\n",
       "                                          Facilities         State  \n",
       "0                                      No Facilities  Kuala Lumpur  \n",
       "1  Swimming Pool, Gymnasium, Playground, Jogging ...  Kuala Lumpur  \n",
       "2  Swimming Pool, Gymnasium, Playground, Jogging ...  Kuala Lumpur  \n",
       "3  Swimming Pool, Gymnasium, Playground, Jogging ...  Kuala Lumpur  \n",
       "4  Swimming Pool, Gymnasium, Tennis Court, Squash...  Kuala Lumpur  "
      ]
     },
     "execution_count": 3,
     "metadata": {},
     "output_type": "execute_result"
    }
   ],
   "source": [
    "df.head()"
   ]
  },
  {
   "cell_type": "markdown",
   "metadata": {},
   "source": [
    "# Section 1: Exploratory Data Analysis\n",
    "\n",
    "**OVERALL GOAL: Get an understanding for which variables are important, view summary statistics, visualize the data**"
   ]
  },
  {
   "cell_type": "code",
   "execution_count": 4,
   "metadata": {},
   "outputs": [
    {
     "data": {
      "text/plain": [
       "(38439, 11)"
      ]
     },
     "execution_count": 4,
     "metadata": {},
     "output_type": "execute_result"
    }
   ],
   "source": [
    "#rows and columns\n",
    "df.shape"
   ]
  },
  {
   "cell_type": "code",
   "execution_count": 5,
   "metadata": {},
   "outputs": [
    {
     "name": "stdout",
     "output_type": "stream",
     "text": [
      "<class 'pandas.core.frame.DataFrame'>\n",
      "RangeIndex: 38439 entries, 0 to 38438\n",
      "Data columns (total 11 columns):\n",
      "Area          38439 non-null object\n",
      "Price         38439 non-null int64\n",
      "Bedroom       38439 non-null int64\n",
      "Bathroom      38439 non-null int64\n",
      "Type          38439 non-null object\n",
      "SquareFeet    38439 non-null int64\n",
      "Title         38439 non-null object\n",
      "Oth_Info      38439 non-null object\n",
      "Carpark       38439 non-null int64\n",
      "Facilities    38439 non-null object\n",
      "State         38439 non-null object\n",
      "dtypes: int64(5), object(6)\n",
      "memory usage: 3.2+ MB\n"
     ]
    }
   ],
   "source": [
    "df.info()"
   ]
  },
  {
   "cell_type": "markdown",
   "metadata": {},
   "source": [
    "**There is 38,439 instances and 11 variables in the dataset. All columns have 38,439 entries without missing values.**"
   ]
  },
  {
   "cell_type": "code",
   "execution_count": 6,
   "metadata": {},
   "outputs": [
    {
     "data": {
      "text/html": [
       "<div>\n",
       "<style scoped>\n",
       "    .dataframe tbody tr th:only-of-type {\n",
       "        vertical-align: middle;\n",
       "    }\n",
       "\n",
       "    .dataframe tbody tr th {\n",
       "        vertical-align: top;\n",
       "    }\n",
       "\n",
       "    .dataframe thead th {\n",
       "        text-align: right;\n",
       "    }\n",
       "</style>\n",
       "<table border=\"1\" class=\"dataframe\">\n",
       "  <thead>\n",
       "    <tr style=\"text-align: right;\">\n",
       "      <th></th>\n",
       "      <th>count</th>\n",
       "      <th>mean</th>\n",
       "      <th>std</th>\n",
       "      <th>min</th>\n",
       "      <th>25%</th>\n",
       "      <th>50%</th>\n",
       "      <th>75%</th>\n",
       "      <th>max</th>\n",
       "    </tr>\n",
       "  </thead>\n",
       "  <tbody>\n",
       "    <tr>\n",
       "      <td>Price</td>\n",
       "      <td>38439.0</td>\n",
       "      <td>614463.051250</td>\n",
       "      <td>1.226523e+06</td>\n",
       "      <td>750.0</td>\n",
       "      <td>300000.0</td>\n",
       "      <td>430000.0</td>\n",
       "      <td>639000.0</td>\n",
       "      <td>110000000.0</td>\n",
       "    </tr>\n",
       "    <tr>\n",
       "      <td>Bedroom</td>\n",
       "      <td>38439.0</td>\n",
       "      <td>3.481022</td>\n",
       "      <td>1.052772e+00</td>\n",
       "      <td>0.0</td>\n",
       "      <td>3.0</td>\n",
       "      <td>3.0</td>\n",
       "      <td>4.0</td>\n",
       "      <td>10.0</td>\n",
       "    </tr>\n",
       "    <tr>\n",
       "      <td>Bathroom</td>\n",
       "      <td>38439.0</td>\n",
       "      <td>2.573532</td>\n",
       "      <td>1.153001e+00</td>\n",
       "      <td>0.0</td>\n",
       "      <td>2.0</td>\n",
       "      <td>2.0</td>\n",
       "      <td>3.0</td>\n",
       "      <td>10.0</td>\n",
       "    </tr>\n",
       "    <tr>\n",
       "      <td>SquareFeet</td>\n",
       "      <td>38439.0</td>\n",
       "      <td>1817.449335</td>\n",
       "      <td>1.130091e+04</td>\n",
       "      <td>0.0</td>\n",
       "      <td>872.0</td>\n",
       "      <td>1196.0</td>\n",
       "      <td>1750.0</td>\n",
       "      <td>1150000.0</td>\n",
       "    </tr>\n",
       "    <tr>\n",
       "      <td>Carpark</td>\n",
       "      <td>38439.0</td>\n",
       "      <td>0.589427</td>\n",
       "      <td>7.963825e-01</td>\n",
       "      <td>0.0</td>\n",
       "      <td>0.0</td>\n",
       "      <td>0.0</td>\n",
       "      <td>1.0</td>\n",
       "      <td>10.0</td>\n",
       "    </tr>\n",
       "  </tbody>\n",
       "</table>\n",
       "</div>"
      ],
      "text/plain": [
       "              count           mean           std    min       25%       50%  \\\n",
       "Price       38439.0  614463.051250  1.226523e+06  750.0  300000.0  430000.0   \n",
       "Bedroom     38439.0       3.481022  1.052772e+00    0.0       3.0       3.0   \n",
       "Bathroom    38439.0       2.573532  1.153001e+00    0.0       2.0       2.0   \n",
       "SquareFeet  38439.0    1817.449335  1.130091e+04    0.0     872.0    1196.0   \n",
       "Carpark     38439.0       0.589427  7.963825e-01    0.0       0.0       0.0   \n",
       "\n",
       "                 75%          max  \n",
       "Price       639000.0  110000000.0  \n",
       "Bedroom          4.0         10.0  \n",
       "Bathroom         3.0         10.0  \n",
       "SquareFeet    1750.0    1150000.0  \n",
       "Carpark          1.0         10.0  "
      ]
     },
     "execution_count": 6,
     "metadata": {},
     "output_type": "execute_result"
    }
   ],
   "source": [
    "#summary statistic of continuous variables\n",
    "df.describe().transpose()"
   ]
  },
  {
   "cell_type": "markdown",
   "metadata": {},
   "source": [
    "**Bedroom,bathroom and carpark have the maximum value of 10. There is zero value for square feet, which is not reasonable to have 0 square feet for a property. Besides, there is 0 bedroom and bathroom in the dataset, invalid data entry for bedroom and bathroom. Correction of invalid data will be conducted. For carpark, the median is 0. Thus, we will analyse further the 0 carpark in the dataset. In addition, price has the maximum value of  RM 110,000,000 and square feet has the maximum value of 1,150,000.**"
   ]
  },
  {
   "cell_type": "markdown",
   "metadata": {},
   "source": [
    "**The zero value for bedroom, bathroom and square feet will be corrected with the median value correspond to their property type**"
   ]
  },
  {
   "cell_type": "code",
   "execution_count": 7,
   "metadata": {},
   "outputs": [
    {
     "data": {
      "text/html": [
       "<div>\n",
       "<style scoped>\n",
       "    .dataframe tbody tr th:only-of-type {\n",
       "        vertical-align: middle;\n",
       "    }\n",
       "\n",
       "    .dataframe tbody tr th {\n",
       "        vertical-align: top;\n",
       "    }\n",
       "\n",
       "    .dataframe thead th {\n",
       "        text-align: right;\n",
       "    }\n",
       "</style>\n",
       "<table border=\"1\" class=\"dataframe\">\n",
       "  <thead>\n",
       "    <tr style=\"text-align: right;\">\n",
       "      <th></th>\n",
       "      <th>Price</th>\n",
       "      <th>Bedroom</th>\n",
       "      <th>Bathroom</th>\n",
       "      <th>SquareFeet</th>\n",
       "      <th>Carpark</th>\n",
       "    </tr>\n",
       "    <tr>\n",
       "      <th>Type</th>\n",
       "      <th></th>\n",
       "      <th></th>\n",
       "      <th></th>\n",
       "      <th></th>\n",
       "      <th></th>\n",
       "    </tr>\n",
       "  </thead>\n",
       "  <tbody>\n",
       "    <tr>\n",
       "      <td>Apartments</td>\n",
       "      <td>339949.5</td>\n",
       "      <td>3.0</td>\n",
       "      <td>2.0</td>\n",
       "      <td>926.0</td>\n",
       "      <td>1.0</td>\n",
       "    </tr>\n",
       "    <tr>\n",
       "      <td>Houses</td>\n",
       "      <td>580000.0</td>\n",
       "      <td>4.0</td>\n",
       "      <td>3.0</td>\n",
       "      <td>1800.0</td>\n",
       "      <td>0.0</td>\n",
       "    </tr>\n",
       "  </tbody>\n",
       "</table>\n",
       "</div>"
      ],
      "text/plain": [
       "                 Price  Bedroom  Bathroom  SquareFeet  Carpark\n",
       "Type                                                          \n",
       " Apartments   339949.5      3.0       2.0       926.0      1.0\n",
       " Houses       580000.0      4.0       3.0      1800.0      0.0"
      ]
     },
     "execution_count": 7,
     "metadata": {},
     "output_type": "execute_result"
    }
   ],
   "source": [
    "df.groupby('Type').median()"
   ]
  },
  {
   "cell_type": "markdown",
   "metadata": {},
   "source": [
    "**Before replace the zero with median value, we replace the 0 with na for Bedroom, Bathroom and SquareFeet**"
   ]
  },
  {
   "cell_type": "code",
   "execution_count": 8,
   "metadata": {},
   "outputs": [],
   "source": [
    "df[['Bedroom','Bathroom','SquareFeet']]=df[['Bedroom','Bathroom','SquareFeet']].replace(0,np.nan)"
   ]
  },
  {
   "cell_type": "code",
   "execution_count": 9,
   "metadata": {},
   "outputs": [
    {
     "data": {
      "text/plain": [
       "Area           0\n",
       "Price          0\n",
       "Bedroom       25\n",
       "Bathroom      18\n",
       "Type           0\n",
       "SquareFeet     2\n",
       "Title          0\n",
       "Oth_Info       0\n",
       "Carpark        0\n",
       "Facilities     0\n",
       "State          0\n",
       "dtype: int64"
      ]
     },
     "execution_count": 9,
     "metadata": {},
     "output_type": "execute_result"
    }
   ],
   "source": [
    "df.isnull().sum()"
   ]
  },
  {
   "cell_type": "markdown",
   "metadata": {},
   "source": [
    "**Now bedroom has 25 missing values, bathroom has 18 and 2 for square feet.**"
   ]
  },
  {
   "cell_type": "markdown",
   "metadata": {},
   "source": [
    "**Replace the missing value with the median corresponding to their type (houses,apartments)**"
   ]
  },
  {
   "cell_type": "code",
   "execution_count": 10,
   "metadata": {},
   "outputs": [],
   "source": [
    "df['Bedroom'] = df['Bedroom'].fillna(df.groupby('Type')['Bedroom'].transform('median')).astype('int')\n",
    "df['Bathroom'] = df['Bathroom'].fillna(df.groupby('Type')['Bathroom'].transform('median')).astype('int')\n",
    "df['SquareFeet'] = df['SquareFeet'].fillna(df.groupby('Type')['SquareFeet'].transform('median')).astype('int')"
   ]
  },
  {
   "cell_type": "code",
   "execution_count": 11,
   "metadata": {},
   "outputs": [
    {
     "data": {
      "text/plain": [
       "Area          0\n",
       "Price         0\n",
       "Bedroom       0\n",
       "Bathroom      0\n",
       "Type          0\n",
       "SquareFeet    0\n",
       "Title         0\n",
       "Oth_Info      0\n",
       "Carpark       0\n",
       "Facilities    0\n",
       "State         0\n",
       "dtype: int64"
      ]
     },
     "execution_count": 11,
     "metadata": {},
     "output_type": "execute_result"
    }
   ],
   "source": [
    "#check if the missing values are filled\n",
    "df.isnull().sum()"
   ]
  },
  {
   "cell_type": "code",
   "execution_count": 12,
   "metadata": {},
   "outputs": [
    {
     "data": {
      "text/html": [
       "<div>\n",
       "<style scoped>\n",
       "    .dataframe tbody tr th:only-of-type {\n",
       "        vertical-align: middle;\n",
       "    }\n",
       "\n",
       "    .dataframe tbody tr th {\n",
       "        vertical-align: top;\n",
       "    }\n",
       "\n",
       "    .dataframe thead th {\n",
       "        text-align: right;\n",
       "    }\n",
       "</style>\n",
       "<table border=\"1\" class=\"dataframe\">\n",
       "  <thead>\n",
       "    <tr style=\"text-align: right;\">\n",
       "      <th></th>\n",
       "      <th>count</th>\n",
       "      <th>mean</th>\n",
       "      <th>std</th>\n",
       "      <th>min</th>\n",
       "      <th>25%</th>\n",
       "      <th>50%</th>\n",
       "      <th>75%</th>\n",
       "      <th>max</th>\n",
       "    </tr>\n",
       "  </thead>\n",
       "  <tbody>\n",
       "    <tr>\n",
       "      <td>Price</td>\n",
       "      <td>38439.0</td>\n",
       "      <td>614463.051250</td>\n",
       "      <td>1.226523e+06</td>\n",
       "      <td>750.0</td>\n",
       "      <td>300000.0</td>\n",
       "      <td>430000.0</td>\n",
       "      <td>639000.0</td>\n",
       "      <td>110000000.0</td>\n",
       "    </tr>\n",
       "    <tr>\n",
       "      <td>Bedroom</td>\n",
       "      <td>38439.0</td>\n",
       "      <td>3.483441</td>\n",
       "      <td>1.049099e+00</td>\n",
       "      <td>1.0</td>\n",
       "      <td>3.0</td>\n",
       "      <td>3.0</td>\n",
       "      <td>4.0</td>\n",
       "      <td>10.0</td>\n",
       "    </tr>\n",
       "    <tr>\n",
       "      <td>Bathroom</td>\n",
       "      <td>38439.0</td>\n",
       "      <td>2.574781</td>\n",
       "      <td>1.151702e+00</td>\n",
       "      <td>1.0</td>\n",
       "      <td>2.0</td>\n",
       "      <td>2.0</td>\n",
       "      <td>3.0</td>\n",
       "      <td>10.0</td>\n",
       "    </tr>\n",
       "    <tr>\n",
       "      <td>SquareFeet</td>\n",
       "      <td>38439.0</td>\n",
       "      <td>1817.497516</td>\n",
       "      <td>1.130090e+04</td>\n",
       "      <td>1.0</td>\n",
       "      <td>872.0</td>\n",
       "      <td>1196.0</td>\n",
       "      <td>1750.0</td>\n",
       "      <td>1150000.0</td>\n",
       "    </tr>\n",
       "    <tr>\n",
       "      <td>Carpark</td>\n",
       "      <td>38439.0</td>\n",
       "      <td>0.589427</td>\n",
       "      <td>7.963825e-01</td>\n",
       "      <td>0.0</td>\n",
       "      <td>0.0</td>\n",
       "      <td>0.0</td>\n",
       "      <td>1.0</td>\n",
       "      <td>10.0</td>\n",
       "    </tr>\n",
       "  </tbody>\n",
       "</table>\n",
       "</div>"
      ],
      "text/plain": [
       "              count           mean           std    min       25%       50%  \\\n",
       "Price       38439.0  614463.051250  1.226523e+06  750.0  300000.0  430000.0   \n",
       "Bedroom     38439.0       3.483441  1.049099e+00    1.0       3.0       3.0   \n",
       "Bathroom    38439.0       2.574781  1.151702e+00    1.0       2.0       2.0   \n",
       "SquareFeet  38439.0    1817.497516  1.130090e+04    1.0     872.0    1196.0   \n",
       "Carpark     38439.0       0.589427  7.963825e-01    0.0       0.0       0.0   \n",
       "\n",
       "                 75%          max  \n",
       "Price       639000.0  110000000.0  \n",
       "Bedroom          4.0         10.0  \n",
       "Bathroom         3.0         10.0  \n",
       "SquareFeet    1750.0    1150000.0  \n",
       "Carpark          1.0         10.0  "
      ]
     },
     "execution_count": 12,
     "metadata": {},
     "output_type": "execute_result"
    }
   ],
   "source": [
    "#summary statistic of continuous variables after the 0 value is replace with their corresponding median value\n",
    "df.describe().transpose()"
   ]
  },
  {
   "cell_type": "markdown",
   "metadata": {},
   "source": [
    "**No zero values for bedroom, bathroom and square feet. Now, lets check for the carpark.**"
   ]
  },
  {
   "cell_type": "code",
   "execution_count": 13,
   "metadata": {},
   "outputs": [
    {
     "data": {
      "text/html": [
       "<div>\n",
       "<style scoped>\n",
       "    .dataframe tbody tr th:only-of-type {\n",
       "        vertical-align: middle;\n",
       "    }\n",
       "\n",
       "    .dataframe tbody tr th {\n",
       "        vertical-align: top;\n",
       "    }\n",
       "\n",
       "    .dataframe thead th {\n",
       "        text-align: right;\n",
       "    }\n",
       "</style>\n",
       "<table border=\"1\" class=\"dataframe\">\n",
       "  <thead>\n",
       "    <tr style=\"text-align: right;\">\n",
       "      <th></th>\n",
       "      <th>count</th>\n",
       "      <th>mean</th>\n",
       "      <th>std</th>\n",
       "      <th>min</th>\n",
       "      <th>25%</th>\n",
       "      <th>50%</th>\n",
       "      <th>75%</th>\n",
       "      <th>max</th>\n",
       "    </tr>\n",
       "    <tr>\n",
       "      <th>Type</th>\n",
       "      <th></th>\n",
       "      <th></th>\n",
       "      <th></th>\n",
       "      <th></th>\n",
       "      <th></th>\n",
       "      <th></th>\n",
       "      <th></th>\n",
       "      <th></th>\n",
       "    </tr>\n",
       "  </thead>\n",
       "  <tbody>\n",
       "    <tr>\n",
       "      <td>Apartments</td>\n",
       "      <td>21592.0</td>\n",
       "      <td>1.049324</td>\n",
       "      <td>0.804049</td>\n",
       "      <td>0.0</td>\n",
       "      <td>1.0</td>\n",
       "      <td>1.0</td>\n",
       "      <td>2.0</td>\n",
       "      <td>10.0</td>\n",
       "    </tr>\n",
       "    <tr>\n",
       "      <td>Houses</td>\n",
       "      <td>16847.0</td>\n",
       "      <td>0.000000</td>\n",
       "      <td>0.000000</td>\n",
       "      <td>0.0</td>\n",
       "      <td>0.0</td>\n",
       "      <td>0.0</td>\n",
       "      <td>0.0</td>\n",
       "      <td>0.0</td>\n",
       "    </tr>\n",
       "  </tbody>\n",
       "</table>\n",
       "</div>"
      ],
      "text/plain": [
       "                count      mean       std  min  25%  50%  75%   max\n",
       "Type                                                               \n",
       " Apartments   21592.0  1.049324  0.804049  0.0  1.0  1.0  2.0  10.0\n",
       " Houses       16847.0  0.000000  0.000000  0.0  0.0  0.0  0.0   0.0"
      ]
     },
     "execution_count": 13,
     "metadata": {},
     "output_type": "execute_result"
    }
   ],
   "source": [
    "df.groupby('Type').describe()['Carpark']"
   ]
  },
  {
   "cell_type": "markdown",
   "metadata": {},
   "source": [
    "**No carpark data for houses type, all carpark data for houses are zero. The carpark data only applicable for apartments. Thus, we will not going to correct the zero value for carpark variable.**"
   ]
  },
  {
   "cell_type": "code",
   "execution_count": 14,
   "metadata": {},
   "outputs": [
    {
     "name": "stderr",
     "output_type": "stream",
     "text": [
      "C:\\Users\\ASUS\\Anaconda3\\lib\\site-packages\\scipy\\stats\\stats.py:1713: FutureWarning: Using a non-tuple sequence for multidimensional indexing is deprecated; use `arr[tuple(seq)]` instead of `arr[seq]`. In the future this will be interpreted as an array index, `arr[np.array(seq)]`, which will result either in an error or a different result.\n",
      "  return np.add.reduce(sorted[indexer] * weights, axis=axis) / sumval\n"
     ]
    },
    {
     "data": {
      "text/plain": [
       "<matplotlib.axes._subplots.AxesSubplot at 0x20e0bdb0b70>"
      ]
     },
     "execution_count": 14,
     "metadata": {},
     "output_type": "execute_result"
    },
    {
     "data": {
      "image/png": "[encoded data removed]",
      "text/plain": [
       "<Figure size 720x288 with 1 Axes>"
      ]
     },
     "metadata": {
      "needs_background": "light"
     },
     "output_type": "display_data"
    }
   ],
   "source": [
    "#distribution plot for price\n",
    "plt.figure(figsize=(10,4))\n",
    "sns.distplot(df['Price'])"
   ]
  },
  {
   "cell_type": "code",
   "execution_count": 15,
   "metadata": {},
   "outputs": [
    {
     "data": {
      "text/plain": [
       "<matplotlib.axes._subplots.AxesSubplot at 0x20e0c2ab400>"
      ]
     },
     "execution_count": 15,
     "metadata": {},
     "output_type": "execute_result"
    },
    {
     "data": {
      "image/png": "[encoded data removed]",
      "text/plain": [
       "<Figure size 720x288 with 1 Axes>"
      ]
     },
     "metadata": {
      "needs_background": "light"
     },
     "output_type": "display_data"
    }
   ],
   "source": [
    "#boxplot for price\n",
    "plt.figure(figsize=(10,4))\n",
    "sns.boxplot(x='Price',data=df)"
   ]
  },
  {
   "cell_type": "markdown",
   "metadata": {},
   "source": [
    "**From the distribution plot and boxplot for price, there is many outliers and is highly skewed to the right. We cant see the min, max, median, 1st quartile and 3rd quartile from the boxplot.**"
   ]
  },
  {
   "cell_type": "code",
   "execution_count": 16,
   "metadata": {},
   "outputs": [
    {
     "data": {
      "text/plain": [
       "<matplotlib.axes._subplots.AxesSubplot at 0x20e0bcaaba8>"
      ]
     },
     "execution_count": 16,
     "metadata": {},
     "output_type": "execute_result"
    },
    {
     "data": {
      "image/png": "[encoded data removed]",
      "text/plain": [
       "<Figure size 720x288 with 1 Axes>"
      ]
     },
     "metadata": {
      "needs_background": "light"
     },
     "output_type": "display_data"
    }
   ],
   "source": [
    "#distribution plot for price\n",
    "plt.figure(figsize=(10,4))\n",
    "sns.distplot(df['SquareFeet'])"
   ]
  },
  {
   "cell_type": "code",
   "execution_count": 17,
   "metadata": {},
   "outputs": [
    {
     "data": {
      "text/plain": [
       "<matplotlib.axes._subplots.AxesSubplot at 0x20e0bcaa7f0>"
      ]
     },
     "execution_count": 17,
     "metadata": {},
     "output_type": "execute_result"
    },
    {
     "data": {
      "image/png": "[encoded data removed]",
      "text/plain": [
       "<Figure size 720x288 with 1 Axes>"
      ]
     },
     "metadata": {
      "needs_background": "light"
     },
     "output_type": "display_data"
    }
   ],
   "source": [
    "#boxplot for square feet\n",
    "plt.figure(figsize=(10,4))\n",
    "sns.boxplot(x='SquareFeet',data=df)"
   ]
  },
  {
   "cell_type": "markdown",
   "metadata": {},
   "source": [
    "**Same goes to square feet, from the distribution plot and boxplot, there are many outliers and is highly skewed to the right. We cant see the min, max, median, 1st quartile and 3rd quartile from the boxplot.**"
   ]
  },
  {
   "cell_type": "code",
   "execution_count": 18,
   "metadata": {},
   "outputs": [
    {
     "data": {
      "text/plain": [
       "<matplotlib.axes._subplots.AxesSubplot at 0x20e0c01e198>"
      ]
     },
     "execution_count": 18,
     "metadata": {},
     "output_type": "execute_result"
    },
    {
     "data": {
      "image/png": "[encoded data removed]",
      "text/plain": [
       "<Figure size 720x288 with 1 Axes>"
      ]
     },
     "metadata": {
      "needs_background": "light"
     },
     "output_type": "display_data"
    }
   ],
   "source": [
    "#boxplot for bedroom\n",
    "plt.figure(figsize=(10,4))\n",
    "sns.boxplot(x='Bedroom',data=df)"
   ]
  },
  {
   "cell_type": "code",
   "execution_count": 19,
   "metadata": {},
   "outputs": [
    {
     "data": {
      "text/plain": [
       "<matplotlib.axes._subplots.AxesSubplot at 0x20e0c074cc0>"
      ]
     },
     "execution_count": 19,
     "metadata": {},
     "output_type": "execute_result"
    },
    {
     "data": {
      "image/png": "[encoded data removed]",
      "text/plain": [
       "<Figure size 720x288 with 1 Axes>"
      ]
     },
     "metadata": {
      "needs_background": "light"
     },
     "output_type": "display_data"
    }
   ],
   "source": [
    "#boxplot for bathroom\n",
    "plt.figure(figsize=(10,4))\n",
    "sns.boxplot(x='Bathroom',data=df)"
   ]
  },
  {
   "cell_type": "code",
   "execution_count": 20,
   "metadata": {},
   "outputs": [
    {
     "data": {
      "text/plain": [
       "<matplotlib.axes._subplots.AxesSubplot at 0x20e0c0cdc50>"
      ]
     },
     "execution_count": 20,
     "metadata": {},
     "output_type": "execute_result"
    },
    {
     "data": {
      "image/png": "[encoded data removed]",
      "text/plain": [
       "<Figure size 720x288 with 1 Axes>"
      ]
     },
     "metadata": {
      "needs_background": "light"
     },
     "output_type": "display_data"
    }
   ],
   "source": [
    "#boxplot for carpark\n",
    "plt.figure(figsize=(10,4))\n",
    "sns.boxplot(x='Carpark',data=df)"
   ]
  },
  {
   "cell_type": "markdown",
   "metadata": {},
   "source": [
    "**Outliers happened in bedroom, bathroom and carpark.**"
   ]
  },
  {
   "cell_type": "code",
   "execution_count": 21,
   "metadata": {},
   "outputs": [
    {
     "data": {
      "text/plain": [
       "<matplotlib.axes._subplots.AxesSubplot at 0x20e0c0ba630>"
      ]
     },
     "execution_count": 21,
     "metadata": {},
     "output_type": "execute_result"
    },
    {
     "data": {
      "image/png": "[encoded data removed]",
      "text/plain": [
       "<Figure size 864x504 with 2 Axes>"
      ]
     },
     "metadata": {
      "needs_background": "light"
     },
     "output_type": "display_data"
    }
   ],
   "source": [
    "#explore correlation between the continuous variables\n",
    "plt.figure(figsize=(12,7))\n",
    "sns.heatmap(df.corr(),annot=True,cmap='viridis')"
   ]
  },
  {
   "cell_type": "markdown",
   "metadata": {},
   "source": [
    "**From the heatmap above, bedroom and bathroom are highly correlated with each other. However, the correlation between price and square feet is very weak.**"
   ]
  },
  {
   "cell_type": "code",
   "execution_count": 22,
   "metadata": {},
   "outputs": [
    {
     "data": {
      "text/plain": [
       "<matplotlib.axes._subplots.AxesSubplot at 0x20e0c22b5f8>"
      ]
     },
     "execution_count": 22,
     "metadata": {},
     "output_type": "execute_result"
    },
    {
     "data": {
      "image/png": "[encoded data removed]",
      "text/plain": [
       "<Figure size 720x360 with 1 Axes>"
      ]
     },
     "metadata": {
      "needs_background": "light"
     },
     "output_type": "display_data"
    }
   ],
   "source": [
    "#high correlation between bathroom and bedroom \n",
    "#scatterplot for bathroom and bedroom \n",
    "plt.figure(figsize=(10,5))\n",
    "sns.scatterplot(x='Bedroom',y='Bathroom',data=df,marker=\"+\")"
   ]
  },
  {
   "cell_type": "markdown",
   "metadata": {},
   "source": [
    "**Scatter plot for bedroom and bathroom, show a positive correlation. When the number of bedroom increase, number of bathroom will also increase.**"
   ]
  },
  {
   "cell_type": "code",
   "execution_count": 23,
   "metadata": {},
   "outputs": [
    {
     "data": {
      "text/plain": [
       "<matplotlib.axes._subplots.AxesSubplot at 0x20e0c41ea90>"
      ]
     },
     "execution_count": 23,
     "metadata": {},
     "output_type": "execute_result"
    },
    {
     "data": {
      "image/png": "[encoded data removed]",
      "text/plain": [
       "<Figure size 432x288 with 1 Axes>"
      ]
     },
     "metadata": {
      "needs_background": "light"
     },
     "output_type": "display_data"
    }
   ],
   "source": [
    "df.corr()['Price'].sort_values().drop('Price').plot(kind='bar')"
   ]
  },
  {
   "cell_type": "markdown",
   "metadata": {},
   "source": [
    "**From the bar chart above, bathroom and bedroom have moderate correlation with the price. The correlation between square feet and price is the lowest. However, negative correlation between carpark and price. This might due to the 0 value in carpark for houses type.**"
   ]
  },
  {
   "cell_type": "code",
   "execution_count": 24,
   "metadata": {},
   "outputs": [
    {
     "data": {
      "text/plain": [
       "<matplotlib.axes._subplots.AxesSubplot at 0x20e0c318a20>"
      ]
     },
     "execution_count": 24,
     "metadata": {},
     "output_type": "execute_result"
    },
    {
     "data": {
      "image/png": "[encoded data removed]",
      "text/plain": [
       "<Figure size 864x360 with 1 Axes>"
      ]
     },
     "metadata": {
      "needs_background": "light"
     },
     "output_type": "display_data"
    }
   ],
   "source": [
    "#scatterplot for price and square feet\n",
    "plt.figure(figsize=(12,5))\n",
    "sns.scatterplot(x='SquareFeet',y='Price',data=df)"
   ]
  },
  {
   "cell_type": "markdown",
   "metadata": {},
   "source": [
    "**The scatter plot for square feet and price above cant show any significant insight. This might due to the outliers in square feet and price. Thus, in later part, we will going to remove the outliers.**"
   ]
  },
  {
   "cell_type": "markdown",
   "metadata": {},
   "source": [
    "**Remove the outliers for 'Price','Bedroom','Bathroom','SquareFeet','Carpark' by using Standard Deviation Method**"
   ]
  },
  {
   "cell_type": "code",
   "execution_count": 25,
   "metadata": {},
   "outputs": [
    {
     "data": {
      "text/plain": [
       "array([[2.75949289, 4.30523409, 4.71067346, 0.45859797, 0.74014067],\n",
       "       [2.18958169, 0.49238951, 0.36921434, 0.04968717, 0.74014067],\n",
       "       [0.0199453 , 0.49238951, 0.49907749, 0.06658826, 1.77124806],\n",
       "       ...,\n",
       "       [0.10147766, 0.46082163, 0.49907749, 0.00597283, 0.74014067],\n",
       "       [0.2890021 , 0.46082163, 0.49907749, 0.08163151, 0.5155537 ],\n",
       "       [0.2890021 , 0.46082163, 0.49907749, 0.08163151, 0.5155537 ]])"
      ]
     },
     "execution_count": 25,
     "metadata": {},
     "output_type": "execute_result"
    }
   ],
   "source": [
    "#z-score for price,bedroom,bathroom,sqft and carpark\n",
    "z_scores = stats.zscore(df[['Price','Bedroom','Bathroom','SquareFeet','Carpark']])\n",
    "\n",
    "abs_z_scores = np.abs(z_scores)\n",
    "abs_z_scores"
   ]
  },
  {
   "cell_type": "code",
   "execution_count": 26,
   "metadata": {},
   "outputs": [
    {
     "data": {
      "text/html": [
       "<div>\n",
       "<style scoped>\n",
       "    .dataframe tbody tr th:only-of-type {\n",
       "        vertical-align: middle;\n",
       "    }\n",
       "\n",
       "    .dataframe tbody tr th {\n",
       "        vertical-align: top;\n",
       "    }\n",
       "\n",
       "    .dataframe thead th {\n",
       "        text-align: right;\n",
       "    }\n",
       "</style>\n",
       "<table border=\"1\" class=\"dataframe\">\n",
       "  <thead>\n",
       "    <tr style=\"text-align: right;\">\n",
       "      <th></th>\n",
       "      <th>z-score_price</th>\n",
       "      <th>z-score_bedroom</th>\n",
       "      <th>z-score_bathroom</th>\n",
       "      <th>z-score_sqft</th>\n",
       "      <th>z-score_carpark</th>\n",
       "    </tr>\n",
       "  </thead>\n",
       "  <tbody>\n",
       "    <tr>\n",
       "      <td>0</td>\n",
       "      <td>2.759493</td>\n",
       "      <td>4.305234</td>\n",
       "      <td>4.710673</td>\n",
       "      <td>0.458598</td>\n",
       "      <td>0.740141</td>\n",
       "    </tr>\n",
       "    <tr>\n",
       "      <td>1</td>\n",
       "      <td>2.189582</td>\n",
       "      <td>0.492390</td>\n",
       "      <td>0.369214</td>\n",
       "      <td>0.049687</td>\n",
       "      <td>0.740141</td>\n",
       "    </tr>\n",
       "    <tr>\n",
       "      <td>2</td>\n",
       "      <td>0.019945</td>\n",
       "      <td>0.492390</td>\n",
       "      <td>0.499077</td>\n",
       "      <td>0.066588</td>\n",
       "      <td>1.771248</td>\n",
       "    </tr>\n",
       "    <tr>\n",
       "      <td>3</td>\n",
       "      <td>0.019945</td>\n",
       "      <td>0.492390</td>\n",
       "      <td>0.499077</td>\n",
       "      <td>0.066588</td>\n",
       "      <td>1.771248</td>\n",
       "    </tr>\n",
       "    <tr>\n",
       "      <td>4</td>\n",
       "      <td>0.125937</td>\n",
       "      <td>1.414033</td>\n",
       "      <td>0.499077</td>\n",
       "      <td>0.095082</td>\n",
       "      <td>0.515554</td>\n",
       "    </tr>\n",
       "  </tbody>\n",
       "</table>\n",
       "</div>"
      ],
      "text/plain": [
       "   z-score_price  z-score_bedroom  z-score_bathroom  z-score_sqft  \\\n",
       "0       2.759493         4.305234          4.710673      0.458598   \n",
       "1       2.189582         0.492390          0.369214      0.049687   \n",
       "2       0.019945         0.492390          0.499077      0.066588   \n",
       "3       0.019945         0.492390          0.499077      0.066588   \n",
       "4       0.125937         1.414033          0.499077      0.095082   \n",
       "\n",
       "   z-score_carpark  \n",
       "0         0.740141  \n",
       "1         0.740141  \n",
       "2         1.771248  \n",
       "3         1.771248  \n",
       "4         0.515554  "
      ]
     },
     "execution_count": 26,
     "metadata": {},
     "output_type": "execute_result"
    }
   ],
   "source": [
    "#create a dataframe for the z scores\n",
    "df_z=pd.DataFrame({'z-score_price':abs_z_scores[:,0],'z-score_bedroom':abs_z_scores[:,1],\n",
    "                   'z-score_bathroom':abs_z_scores[:,2],'z-score_sqft':abs_z_scores[:,3],\n",
    "                  'z-score_carpark':abs_z_scores[:,4]})\n",
    "df_z.head()"
   ]
  },
  {
   "cell_type": "code",
   "execution_count": 27,
   "metadata": {},
   "outputs": [
    {
     "data": {
      "text/html": [
       "<div>\n",
       "<style scoped>\n",
       "    .dataframe tbody tr th:only-of-type {\n",
       "        vertical-align: middle;\n",
       "    }\n",
       "\n",
       "    .dataframe tbody tr th {\n",
       "        vertical-align: top;\n",
       "    }\n",
       "\n",
       "    .dataframe thead th {\n",
       "        text-align: right;\n",
       "    }\n",
       "</style>\n",
       "<table border=\"1\" class=\"dataframe\">\n",
       "  <thead>\n",
       "    <tr style=\"text-align: right;\">\n",
       "      <th></th>\n",
       "      <th>Area</th>\n",
       "      <th>Price</th>\n",
       "      <th>Bedroom</th>\n",
       "      <th>Bathroom</th>\n",
       "      <th>Type</th>\n",
       "      <th>SquareFeet</th>\n",
       "      <th>Title</th>\n",
       "      <th>Oth_Info</th>\n",
       "      <th>Carpark</th>\n",
       "      <th>Facilities</th>\n",
       "      <th>State</th>\n",
       "      <th>z-score_price</th>\n",
       "      <th>z-score_bedroom</th>\n",
       "      <th>z-score_bathroom</th>\n",
       "      <th>z-score_sqft</th>\n",
       "      <th>z-score_carpark</th>\n",
       "    </tr>\n",
       "  </thead>\n",
       "  <tbody>\n",
       "    <tr>\n",
       "      <td>0</td>\n",
       "      <td>OUG</td>\n",
       "      <td>3999000</td>\n",
       "      <td>8</td>\n",
       "      <td>8</td>\n",
       "      <td>Houses</td>\n",
       "      <td>7000</td>\n",
       "      <td>Freehold</td>\n",
       "      <td>Non Bumi Lot</td>\n",
       "      <td>0</td>\n",
       "      <td>No Facilities</td>\n",
       "      <td>Kuala Lumpur</td>\n",
       "      <td>2.759493</td>\n",
       "      <td>4.305234</td>\n",
       "      <td>4.710673</td>\n",
       "      <td>0.458598</td>\n",
       "      <td>0.740141</td>\n",
       "    </tr>\n",
       "    <tr>\n",
       "      <td>1</td>\n",
       "      <td>Desa ParkCity</td>\n",
       "      <td>3300000</td>\n",
       "      <td>4</td>\n",
       "      <td>3</td>\n",
       "      <td>Houses</td>\n",
       "      <td>2379</td>\n",
       "      <td>Freehold</td>\n",
       "      <td>Non Bumi Lot</td>\n",
       "      <td>0</td>\n",
       "      <td>Swimming Pool, Gymnasium, Playground, Jogging ...</td>\n",
       "      <td>Kuala Lumpur</td>\n",
       "      <td>2.189582</td>\n",
       "      <td>0.492390</td>\n",
       "      <td>0.369214</td>\n",
       "      <td>0.049687</td>\n",
       "      <td>0.740141</td>\n",
       "    </tr>\n",
       "    <tr>\n",
       "      <td>2</td>\n",
       "      <td>Wangsa Maju</td>\n",
       "      <td>590000</td>\n",
       "      <td>4</td>\n",
       "      <td>2</td>\n",
       "      <td>Apartments</td>\n",
       "      <td>1065</td>\n",
       "      <td>Leasehold</td>\n",
       "      <td>Non Bumi Lot</td>\n",
       "      <td>2</td>\n",
       "      <td>Swimming Pool, Gymnasium, Playground, Jogging ...</td>\n",
       "      <td>Kuala Lumpur</td>\n",
       "      <td>0.019945</td>\n",
       "      <td>0.492390</td>\n",
       "      <td>0.499077</td>\n",
       "      <td>0.066588</td>\n",
       "      <td>1.771248</td>\n",
       "    </tr>\n",
       "    <tr>\n",
       "      <td>3</td>\n",
       "      <td>Wangsa Maju</td>\n",
       "      <td>590000</td>\n",
       "      <td>4</td>\n",
       "      <td>2</td>\n",
       "      <td>Apartments</td>\n",
       "      <td>1065</td>\n",
       "      <td>Leasehold</td>\n",
       "      <td>Non Bumi Lot</td>\n",
       "      <td>2</td>\n",
       "      <td>Swimming Pool, Gymnasium, Playground, Jogging ...</td>\n",
       "      <td>Kuala Lumpur</td>\n",
       "      <td>0.019945</td>\n",
       "      <td>0.492390</td>\n",
       "      <td>0.499077</td>\n",
       "      <td>0.066588</td>\n",
       "      <td>1.771248</td>\n",
       "    </tr>\n",
       "    <tr>\n",
       "      <td>4</td>\n",
       "      <td>Ampang Hilir</td>\n",
       "      <td>460000</td>\n",
       "      <td>2</td>\n",
       "      <td>2</td>\n",
       "      <td>Apartments</td>\n",
       "      <td>743</td>\n",
       "      <td>Leasehold</td>\n",
       "      <td>Non Bumi Lot</td>\n",
       "      <td>1</td>\n",
       "      <td>Swimming Pool, Gymnasium, Tennis Court, Squash...</td>\n",
       "      <td>Kuala Lumpur</td>\n",
       "      <td>0.125937</td>\n",
       "      <td>1.414033</td>\n",
       "      <td>0.499077</td>\n",
       "      <td>0.095082</td>\n",
       "      <td>0.515554</td>\n",
       "    </tr>\n",
       "  </tbody>\n",
       "</table>\n",
       "</div>"
      ],
      "text/plain": [
       "                     Area    Price  Bedroom  Bathroom          Type  \\\n",
       "0                 OUG      3999000        8         8       Houses    \n",
       "1       Desa ParkCity      3300000        4         3       Houses    \n",
       "2         Wangsa Maju       590000        4         2   Apartments    \n",
       "3         Wangsa Maju       590000        4         2   Apartments    \n",
       "4        Ampang Hilir       460000        2         2   Apartments    \n",
       "\n",
       "   SquareFeet      Title      Oth_Info  Carpark  \\\n",
       "0        7000   Freehold  Non Bumi Lot        0   \n",
       "1        2379   Freehold  Non Bumi Lot        0   \n",
       "2        1065  Leasehold  Non Bumi Lot        2   \n",
       "3        1065  Leasehold  Non Bumi Lot        2   \n",
       "4         743  Leasehold  Non Bumi Lot        1   \n",
       "\n",
       "                                          Facilities         State  \\\n",
       "0                                      No Facilities  Kuala Lumpur   \n",
       "1  Swimming Pool, Gymnasium, Playground, Jogging ...  Kuala Lumpur   \n",
       "2  Swimming Pool, Gymnasium, Playground, Jogging ...  Kuala Lumpur   \n",
       "3  Swimming Pool, Gymnasium, Playground, Jogging ...  Kuala Lumpur   \n",
       "4  Swimming Pool, Gymnasium, Tennis Court, Squash...  Kuala Lumpur   \n",
       "\n",
       "   z-score_price  z-score_bedroom  z-score_bathroom  z-score_sqft  \\\n",
       "0       2.759493         4.305234          4.710673      0.458598   \n",
       "1       2.189582         0.492390          0.369214      0.049687   \n",
       "2       0.019945         0.492390          0.499077      0.066588   \n",
       "3       0.019945         0.492390          0.499077      0.066588   \n",
       "4       0.125937         1.414033          0.499077      0.095082   \n",
       "\n",
       "   z-score_carpark  \n",
       "0         0.740141  \n",
       "1         0.740141  \n",
       "2         1.771248  \n",
       "3         1.771248  \n",
       "4         0.515554  "
      ]
     },
     "execution_count": 27,
     "metadata": {},
     "output_type": "execute_result"
    }
   ],
   "source": [
    "#merge the z-score dataframe with the original dataframe\n",
    "df_new=pd.concat([df,df_z],axis=1)\n",
    "df_new.head()"
   ]
  },
  {
   "cell_type": "code",
   "execution_count": 28,
   "metadata": {},
   "outputs": [
    {
     "data": {
      "text/html": [
       "<div>\n",
       "<style scoped>\n",
       "    .dataframe tbody tr th:only-of-type {\n",
       "        vertical-align: middle;\n",
       "    }\n",
       "\n",
       "    .dataframe tbody tr th {\n",
       "        vertical-align: top;\n",
       "    }\n",
       "\n",
       "    .dataframe thead th {\n",
       "        text-align: right;\n",
       "    }\n",
       "</style>\n",
       "<table border=\"1\" class=\"dataframe\">\n",
       "  <thead>\n",
       "    <tr style=\"text-align: right;\">\n",
       "      <th></th>\n",
       "      <th>Area</th>\n",
       "      <th>Price</th>\n",
       "      <th>Bedroom</th>\n",
       "      <th>Bathroom</th>\n",
       "      <th>Type</th>\n",
       "      <th>SquareFeet</th>\n",
       "      <th>Title</th>\n",
       "      <th>Oth_Info</th>\n",
       "      <th>Carpark</th>\n",
       "      <th>Facilities</th>\n",
       "      <th>State</th>\n",
       "      <th>z-score_price</th>\n",
       "      <th>z-score_bedroom</th>\n",
       "      <th>z-score_bathroom</th>\n",
       "      <th>z-score_sqft</th>\n",
       "      <th>z-score_carpark</th>\n",
       "    </tr>\n",
       "  </thead>\n",
       "  <tbody>\n",
       "    <tr>\n",
       "      <td>1</td>\n",
       "      <td>Desa ParkCity</td>\n",
       "      <td>3300000</td>\n",
       "      <td>4</td>\n",
       "      <td>3</td>\n",
       "      <td>Houses</td>\n",
       "      <td>2379</td>\n",
       "      <td>Freehold</td>\n",
       "      <td>Non Bumi Lot</td>\n",
       "      <td>0</td>\n",
       "      <td>Swimming Pool, Gymnasium, Playground, Jogging ...</td>\n",
       "      <td>Kuala Lumpur</td>\n",
       "      <td>2.189582</td>\n",
       "      <td>0.492390</td>\n",
       "      <td>0.369214</td>\n",
       "      <td>0.049687</td>\n",
       "      <td>0.740141</td>\n",
       "    </tr>\n",
       "    <tr>\n",
       "      <td>2</td>\n",
       "      <td>Wangsa Maju</td>\n",
       "      <td>590000</td>\n",
       "      <td>4</td>\n",
       "      <td>2</td>\n",
       "      <td>Apartments</td>\n",
       "      <td>1065</td>\n",
       "      <td>Leasehold</td>\n",
       "      <td>Non Bumi Lot</td>\n",
       "      <td>2</td>\n",
       "      <td>Swimming Pool, Gymnasium, Playground, Jogging ...</td>\n",
       "      <td>Kuala Lumpur</td>\n",
       "      <td>0.019945</td>\n",
       "      <td>0.492390</td>\n",
       "      <td>0.499077</td>\n",
       "      <td>0.066588</td>\n",
       "      <td>1.771248</td>\n",
       "    </tr>\n",
       "    <tr>\n",
       "      <td>3</td>\n",
       "      <td>Wangsa Maju</td>\n",
       "      <td>590000</td>\n",
       "      <td>4</td>\n",
       "      <td>2</td>\n",
       "      <td>Apartments</td>\n",
       "      <td>1065</td>\n",
       "      <td>Leasehold</td>\n",
       "      <td>Non Bumi Lot</td>\n",
       "      <td>2</td>\n",
       "      <td>Swimming Pool, Gymnasium, Playground, Jogging ...</td>\n",
       "      <td>Kuala Lumpur</td>\n",
       "      <td>0.019945</td>\n",
       "      <td>0.492390</td>\n",
       "      <td>0.499077</td>\n",
       "      <td>0.066588</td>\n",
       "      <td>1.771248</td>\n",
       "    </tr>\n",
       "    <tr>\n",
       "      <td>4</td>\n",
       "      <td>Ampang Hilir</td>\n",
       "      <td>460000</td>\n",
       "      <td>2</td>\n",
       "      <td>2</td>\n",
       "      <td>Apartments</td>\n",
       "      <td>743</td>\n",
       "      <td>Leasehold</td>\n",
       "      <td>Non Bumi Lot</td>\n",
       "      <td>1</td>\n",
       "      <td>Swimming Pool, Gymnasium, Tennis Court, Squash...</td>\n",
       "      <td>Kuala Lumpur</td>\n",
       "      <td>0.125937</td>\n",
       "      <td>1.414033</td>\n",
       "      <td>0.499077</td>\n",
       "      <td>0.095082</td>\n",
       "      <td>0.515554</td>\n",
       "    </tr>\n",
       "    <tr>\n",
       "      <td>5</td>\n",
       "      <td>Cheras</td>\n",
       "      <td>300000</td>\n",
       "      <td>3</td>\n",
       "      <td>2</td>\n",
       "      <td>Apartments</td>\n",
       "      <td>748</td>\n",
       "      <td>Leasehold</td>\n",
       "      <td>Bumi Lot</td>\n",
       "      <td>1</td>\n",
       "      <td>Mini Market, Playground, Jogging Track, 24 Hou...</td>\n",
       "      <td>Kuala Lumpur</td>\n",
       "      <td>0.256389</td>\n",
       "      <td>0.460822</td>\n",
       "      <td>0.499077</td>\n",
       "      <td>0.094639</td>\n",
       "      <td>0.515554</td>\n",
       "    </tr>\n",
       "  </tbody>\n",
       "</table>\n",
       "</div>"
      ],
      "text/plain": [
       "                     Area    Price  Bedroom  Bathroom          Type  \\\n",
       "1       Desa ParkCity      3300000        4         3       Houses    \n",
       "2         Wangsa Maju       590000        4         2   Apartments    \n",
       "3         Wangsa Maju       590000        4         2   Apartments    \n",
       "4        Ampang Hilir       460000        2         2   Apartments    \n",
       "5              Cheras       300000        3         2   Apartments    \n",
       "\n",
       "   SquareFeet      Title      Oth_Info  Carpark  \\\n",
       "1        2379   Freehold  Non Bumi Lot        0   \n",
       "2        1065  Leasehold  Non Bumi Lot        2   \n",
       "3        1065  Leasehold  Non Bumi Lot        2   \n",
       "4         743  Leasehold  Non Bumi Lot        1   \n",
       "5         748  Leasehold      Bumi Lot        1   \n",
       "\n",
       "                                          Facilities         State  \\\n",
       "1  Swimming Pool, Gymnasium, Playground, Jogging ...  Kuala Lumpur   \n",
       "2  Swimming Pool, Gymnasium, Playground, Jogging ...  Kuala Lumpur   \n",
       "3  Swimming Pool, Gymnasium, Playground, Jogging ...  Kuala Lumpur   \n",
       "4  Swimming Pool, Gymnasium, Tennis Court, Squash...  Kuala Lumpur   \n",
       "5  Mini Market, Playground, Jogging Track, 24 Hou...  Kuala Lumpur   \n",
       "\n",
       "   z-score_price  z-score_bedroom  z-score_bathroom  z-score_sqft  \\\n",
       "1       2.189582         0.492390          0.369214      0.049687   \n",
       "2       0.019945         0.492390          0.499077      0.066588   \n",
       "3       0.019945         0.492390          0.499077      0.066588   \n",
       "4       0.125937         1.414033          0.499077      0.095082   \n",
       "5       0.256389         0.460822          0.499077      0.094639   \n",
       "\n",
       "   z-score_carpark  \n",
       "1         0.740141  \n",
       "2         1.771248  \n",
       "3         1.771248  \n",
       "4         0.515554  \n",
       "5         0.515554  "
      ]
     },
     "execution_count": 28,
     "metadata": {},
     "output_type": "execute_result"
    }
   ],
   "source": [
    "#z-score higher than 3 will be removed\n",
    "threshold = 3\n",
    "df_new=df_new[(df_new['z-score_price']<3)&(df_new['z-score_bedroom']<3)&(df_new['z-score_bathroom']<3)&\n",
    "      (df_new['z-score_sqft']<3)&(df_new['z-score_carpark']<3)]\n",
    "df_new.head()"
   ]
  },
  {
   "cell_type": "code",
   "execution_count": 29,
   "metadata": {},
   "outputs": [
    {
     "data": {
      "text/html": [
       "<div>\n",
       "<style scoped>\n",
       "    .dataframe tbody tr th:only-of-type {\n",
       "        vertical-align: middle;\n",
       "    }\n",
       "\n",
       "    .dataframe tbody tr th {\n",
       "        vertical-align: top;\n",
       "    }\n",
       "\n",
       "    .dataframe thead th {\n",
       "        text-align: right;\n",
       "    }\n",
       "</style>\n",
       "<table border=\"1\" class=\"dataframe\">\n",
       "  <thead>\n",
       "    <tr style=\"text-align: right;\">\n",
       "      <th></th>\n",
       "      <th>Area</th>\n",
       "      <th>Price</th>\n",
       "      <th>Bedroom</th>\n",
       "      <th>Bathroom</th>\n",
       "      <th>Type</th>\n",
       "      <th>SquareFeet</th>\n",
       "      <th>Title</th>\n",
       "      <th>Oth_Info</th>\n",
       "      <th>Carpark</th>\n",
       "      <th>Facilities</th>\n",
       "      <th>State</th>\n",
       "    </tr>\n",
       "  </thead>\n",
       "  <tbody>\n",
       "    <tr>\n",
       "      <td>1</td>\n",
       "      <td>Desa ParkCity</td>\n",
       "      <td>3300000</td>\n",
       "      <td>4</td>\n",
       "      <td>3</td>\n",
       "      <td>Houses</td>\n",
       "      <td>2379</td>\n",
       "      <td>Freehold</td>\n",
       "      <td>Non Bumi Lot</td>\n",
       "      <td>0</td>\n",
       "      <td>Swimming Pool, Gymnasium, Playground, Jogging ...</td>\n",
       "      <td>Kuala Lumpur</td>\n",
       "    </tr>\n",
       "    <tr>\n",
       "      <td>2</td>\n",
       "      <td>Wangsa Maju</td>\n",
       "      <td>590000</td>\n",
       "      <td>4</td>\n",
       "      <td>2</td>\n",
       "      <td>Apartments</td>\n",
       "      <td>1065</td>\n",
       "      <td>Leasehold</td>\n",
       "      <td>Non Bumi Lot</td>\n",
       "      <td>2</td>\n",
       "      <td>Swimming Pool, Gymnasium, Playground, Jogging ...</td>\n",
       "      <td>Kuala Lumpur</td>\n",
       "    </tr>\n",
       "    <tr>\n",
       "      <td>3</td>\n",
       "      <td>Wangsa Maju</td>\n",
       "      <td>590000</td>\n",
       "      <td>4</td>\n",
       "      <td>2</td>\n",
       "      <td>Apartments</td>\n",
       "      <td>1065</td>\n",
       "      <td>Leasehold</td>\n",
       "      <td>Non Bumi Lot</td>\n",
       "      <td>2</td>\n",
       "      <td>Swimming Pool, Gymnasium, Playground, Jogging ...</td>\n",
       "      <td>Kuala Lumpur</td>\n",
       "    </tr>\n",
       "    <tr>\n",
       "      <td>4</td>\n",
       "      <td>Ampang Hilir</td>\n",
       "      <td>460000</td>\n",
       "      <td>2</td>\n",
       "      <td>2</td>\n",
       "      <td>Apartments</td>\n",
       "      <td>743</td>\n",
       "      <td>Leasehold</td>\n",
       "      <td>Non Bumi Lot</td>\n",
       "      <td>1</td>\n",
       "      <td>Swimming Pool, Gymnasium, Tennis Court, Squash...</td>\n",
       "      <td>Kuala Lumpur</td>\n",
       "    </tr>\n",
       "    <tr>\n",
       "      <td>5</td>\n",
       "      <td>Cheras</td>\n",
       "      <td>300000</td>\n",
       "      <td>3</td>\n",
       "      <td>2</td>\n",
       "      <td>Apartments</td>\n",
       "      <td>748</td>\n",
       "      <td>Leasehold</td>\n",
       "      <td>Bumi Lot</td>\n",
       "      <td>1</td>\n",
       "      <td>Mini Market, Playground, Jogging Track, 24 Hou...</td>\n",
       "      <td>Kuala Lumpur</td>\n",
       "    </tr>\n",
       "  </tbody>\n",
       "</table>\n",
       "</div>"
      ],
      "text/plain": [
       "                     Area    Price  Bedroom  Bathroom          Type  \\\n",
       "1       Desa ParkCity      3300000        4         3       Houses    \n",
       "2         Wangsa Maju       590000        4         2   Apartments    \n",
       "3         Wangsa Maju       590000        4         2   Apartments    \n",
       "4        Ampang Hilir       460000        2         2   Apartments    \n",
       "5              Cheras       300000        3         2   Apartments    \n",
       "\n",
       "   SquareFeet      Title      Oth_Info  Carpark  \\\n",
       "1        2379   Freehold  Non Bumi Lot        0   \n",
       "2        1065  Leasehold  Non Bumi Lot        2   \n",
       "3        1065  Leasehold  Non Bumi Lot        2   \n",
       "4         743  Leasehold  Non Bumi Lot        1   \n",
       "5         748  Leasehold      Bumi Lot        1   \n",
       "\n",
       "                                          Facilities         State  \n",
       "1  Swimming Pool, Gymnasium, Playground, Jogging ...  Kuala Lumpur  \n",
       "2  Swimming Pool, Gymnasium, Playground, Jogging ...  Kuala Lumpur  \n",
       "3  Swimming Pool, Gymnasium, Playground, Jogging ...  Kuala Lumpur  \n",
       "4  Swimming Pool, Gymnasium, Tennis Court, Squash...  Kuala Lumpur  \n",
       "5  Mini Market, Playground, Jogging Track, 24 Hou...  Kuala Lumpur  "
      ]
     },
     "execution_count": 29,
     "metadata": {},
     "output_type": "execute_result"
    }
   ],
   "source": [
    "#after remove the outlier, remove the z-score columns \n",
    "df_new=df_new.drop(['z-score_price','z-score_bedroom','z-score_bathroom','z-score_sqft','z-score_carpark'],axis=1)\n",
    "df_new.head()"
   ]
  },
  {
   "cell_type": "code",
   "execution_count": 30,
   "metadata": {},
   "outputs": [
    {
     "data": {
      "text/plain": [
       "(37007, 11)"
      ]
     },
     "execution_count": 30,
     "metadata": {},
     "output_type": "execute_result"
    }
   ],
   "source": [
    "df_new.shape"
   ]
  },
  {
   "cell_type": "code",
   "execution_count": 31,
   "metadata": {},
   "outputs": [
    {
     "data": {
      "text/html": [
       "<div>\n",
       "<style scoped>\n",
       "    .dataframe tbody tr th:only-of-type {\n",
       "        vertical-align: middle;\n",
       "    }\n",
       "\n",
       "    .dataframe tbody tr th {\n",
       "        vertical-align: top;\n",
       "    }\n",
       "\n",
       "    .dataframe thead th {\n",
       "        text-align: right;\n",
       "    }\n",
       "</style>\n",
       "<table border=\"1\" class=\"dataframe\">\n",
       "  <thead>\n",
       "    <tr style=\"text-align: right;\">\n",
       "      <th></th>\n",
       "      <th>count</th>\n",
       "      <th>mean</th>\n",
       "      <th>std</th>\n",
       "      <th>min</th>\n",
       "      <th>25%</th>\n",
       "      <th>50%</th>\n",
       "      <th>75%</th>\n",
       "      <th>max</th>\n",
       "    </tr>\n",
       "  </thead>\n",
       "  <tbody>\n",
       "    <tr>\n",
       "      <td>Price</td>\n",
       "      <td>37007.0</td>\n",
       "      <td>527964.166698</td>\n",
       "      <td>413209.900482</td>\n",
       "      <td>750.0</td>\n",
       "      <td>299800.0</td>\n",
       "      <td>420000.0</td>\n",
       "      <td>600000.0</td>\n",
       "      <td>4250000.0</td>\n",
       "    </tr>\n",
       "    <tr>\n",
       "      <td>Bedroom</td>\n",
       "      <td>37007.0</td>\n",
       "      <td>3.395952</td>\n",
       "      <td>0.895700</td>\n",
       "      <td>1.0</td>\n",
       "      <td>3.0</td>\n",
       "      <td>3.0</td>\n",
       "      <td>4.0</td>\n",
       "      <td>6.0</td>\n",
       "    </tr>\n",
       "    <tr>\n",
       "      <td>Bathroom</td>\n",
       "      <td>37007.0</td>\n",
       "      <td>2.472019</td>\n",
       "      <td>0.958169</td>\n",
       "      <td>1.0</td>\n",
       "      <td>2.0</td>\n",
       "      <td>2.0</td>\n",
       "      <td>3.0</td>\n",
       "      <td>6.0</td>\n",
       "    </tr>\n",
       "    <tr>\n",
       "      <td>SquareFeet</td>\n",
       "      <td>37007.0</td>\n",
       "      <td>1476.336288</td>\n",
       "      <td>1062.906229</td>\n",
       "      <td>1.0</td>\n",
       "      <td>860.0</td>\n",
       "      <td>1163.0</td>\n",
       "      <td>1650.0</td>\n",
       "      <td>32704.0</td>\n",
       "    </tr>\n",
       "    <tr>\n",
       "      <td>Carpark</td>\n",
       "      <td>37007.0</td>\n",
       "      <td>0.564164</td>\n",
       "      <td>0.722126</td>\n",
       "      <td>0.0</td>\n",
       "      <td>0.0</td>\n",
       "      <td>0.0</td>\n",
       "      <td>1.0</td>\n",
       "      <td>2.0</td>\n",
       "    </tr>\n",
       "  </tbody>\n",
       "</table>\n",
       "</div>"
      ],
      "text/plain": [
       "              count           mean            std    min       25%       50%  \\\n",
       "Price       37007.0  527964.166698  413209.900482  750.0  299800.0  420000.0   \n",
       "Bedroom     37007.0       3.395952       0.895700    1.0       3.0       3.0   \n",
       "Bathroom    37007.0       2.472019       0.958169    1.0       2.0       2.0   \n",
       "SquareFeet  37007.0    1476.336288    1062.906229    1.0     860.0    1163.0   \n",
       "Carpark     37007.0       0.564164       0.722126    0.0       0.0       0.0   \n",
       "\n",
       "                 75%        max  \n",
       "Price       600000.0  4250000.0  \n",
       "Bedroom          4.0        6.0  \n",
       "Bathroom         3.0        6.0  \n",
       "SquareFeet    1650.0    32704.0  \n",
       "Carpark          1.0        2.0  "
      ]
     },
     "execution_count": 31,
     "metadata": {},
     "output_type": "execute_result"
    }
   ],
   "source": [
    "df_new.describe().transpose()"
   ]
  },
  {
   "cell_type": "markdown",
   "metadata": {},
   "source": [
    "**After the outliers are removed, maximum value for bedroom and bathroom now is 6, and maximum value for carpark is 2. The maximum value for price and square feet are changed too.**"
   ]
  },
  {
   "cell_type": "code",
   "execution_count": 32,
   "metadata": {},
   "outputs": [
    {
     "data": {
      "text/plain": [
       "<matplotlib.axes._subplots.AxesSubplot at 0x20e0c0677b8>"
      ]
     },
     "execution_count": 32,
     "metadata": {},
     "output_type": "execute_result"
    },
    {
     "data": {
      "image/png": "[encoded data removed]",
      "text/plain": [
       "<Figure size 576x360 with 1 Axes>"
      ]
     },
     "metadata": {
      "needs_background": "light"
     },
     "output_type": "display_data"
    }
   ],
   "source": [
    "#create a countplot for the state\n",
    "plt.figure(figsize=(8,5))\n",
    "sns.countplot(x='State',hue='Type',data=df_new)"
   ]
  },
  {
   "cell_type": "markdown",
   "metadata": {},
   "source": [
    "**In our dataset, apartments property is higher than houses property in Kuala Lumpur. While, there is more houses property in Selangor compared to apartments.**"
   ]
  },
  {
   "cell_type": "code",
   "execution_count": 33,
   "metadata": {},
   "outputs": [
    {
     "data": {
      "text/plain": [
       "Selongor        18763\n",
       "Kuala Lumpur    18244\n",
       "Name: State, dtype: int64"
      ]
     },
     "execution_count": 33,
     "metadata": {},
     "output_type": "execute_result"
    }
   ],
   "source": [
    "#count the number of properties in Kl and Selangor\n",
    "df_new['State'].value_counts()"
   ]
  },
  {
   "cell_type": "markdown",
   "metadata": {},
   "source": [
    "**Total 18,763 properties in Selangor and 18,244 properties in Kuala Lumpur.**"
   ]
  },
  {
   "cell_type": "code",
   "execution_count": 34,
   "metadata": {},
   "outputs": [
    {
     "data": {
      "text/plain": [
       "<matplotlib.axes._subplots.AxesSubplot at 0x20e0c4367b8>"
      ]
     },
     "execution_count": 34,
     "metadata": {},
     "output_type": "execute_result"
    },
    {
     "data": {
      "image/png": "[encoded data removed]",
      "text/plain": [
       "<Figure size 576x360 with 1 Axes>"
      ]
     },
     "metadata": {
      "needs_background": "light"
     },
     "output_type": "display_data"
    }
   ],
   "source": [
    "#create a countplot for the type of property\n",
    "plt.figure(figsize=(8,5))\n",
    "sns.countplot(x='Type',data=df_new)"
   ]
  },
  {
   "cell_type": "code",
   "execution_count": 35,
   "metadata": {},
   "outputs": [
    {
     "data": {
      "text/plain": [
       " Apartments     21043\n",
       " Houses         15964\n",
       "Name: Type, dtype: int64"
      ]
     },
     "execution_count": 35,
     "metadata": {},
     "output_type": "execute_result"
    }
   ],
   "source": [
    "#count the number of houses and apartments properties \n",
    "df_new['Type'].value_counts()"
   ]
  },
  {
   "cell_type": "markdown",
   "metadata": {},
   "source": [
    "**In our dataset, apartment property is higher than house. 57% for apartment and 43% for house**"
   ]
  },
  {
   "cell_type": "code",
   "execution_count": 36,
   "metadata": {},
   "outputs": [
    {
     "data": {
      "text/plain": [
       "<matplotlib.axes._subplots.AxesSubplot at 0x20e0c304fd0>"
      ]
     },
     "execution_count": 36,
     "metadata": {},
     "output_type": "execute_result"
    },
    {
     "data": {
      "image/png": "[encoded data removed]",
      "text/plain": [
       "<Figure size 576x360 with 1 Axes>"
      ]
     },
     "metadata": {
      "needs_background": "light"
     },
     "output_type": "display_data"
    }
   ],
   "source": [
    "#create a countplot for the title (either freehold/leasehold)\n",
    "plt.figure(figsize=(8,5))\n",
    "sns.countplot(x='Type',hue='Title',data=df_new)"
   ]
  },
  {
   "cell_type": "markdown",
   "metadata": {},
   "source": [
    "**Most of the houses are freehold. Houses with freehold is higher than houses with leasehold. In addition, the number of apartments with leasehold is slightly higher than freehold.**"
   ]
  },
  {
   "cell_type": "code",
   "execution_count": 37,
   "metadata": {},
   "outputs": [
    {
     "data": {
      "text/plain": [
       "<matplotlib.axes._subplots.AxesSubplot at 0x20e0c905cf8>"
      ]
     },
     "execution_count": 37,
     "metadata": {},
     "output_type": "execute_result"
    },
    {
     "data": {
      "image/png": "[encoded data removed]",
      "text/plain": [
       "<Figure size 576x360 with 1 Axes>"
      ]
     },
     "metadata": {
      "needs_background": "light"
     },
     "output_type": "display_data"
    }
   ],
   "source": [
    "#create a countplot for the Oth_Info \n",
    "plt.figure(figsize=(8,5))\n",
    "sns.countplot(x='Oth_Info',hue='Type',data=df_new)"
   ]
  },
  {
   "cell_type": "markdown",
   "metadata": {},
   "source": [
    "**Non bumi lot has the highest number properties followed by bumi lot and malay reserved. The number of apartments is higher than houses for non bumi and bumi lot. But there are more houses for malay reserved compare to apartment.**"
   ]
  },
  {
   "cell_type": "code",
   "execution_count": 38,
   "metadata": {},
   "outputs": [
    {
     "data": {
      "text/plain": [
       "<matplotlib.axes._subplots.AxesSubplot at 0x20e0d345240>"
      ]
     },
     "execution_count": 38,
     "metadata": {},
     "output_type": "execute_result"
    },
    {
     "data": {
      "image/png": "[encoded data removed]",
      "text/plain": [
       "<Figure size 720x360 with 1 Axes>"
      ]
     },
     "metadata": {
      "needs_background": "light"
     },
     "output_type": "display_data"
    }
   ],
   "source": [
    "#distribution plot for price after the outliers are removed\n",
    "plt.figure(figsize=(10,5))\n",
    "sns.distplot(df_new['Price'])"
   ]
  },
  {
   "cell_type": "markdown",
   "metadata": {},
   "source": [
    "**After the outliers are removed, the distribution plot for price is improved. Most of the properties have the price within RM 1,000,000.**"
   ]
  },
  {
   "cell_type": "code",
   "execution_count": 39,
   "metadata": {},
   "outputs": [
    {
     "data": {
      "text/plain": [
       "<matplotlib.axes._subplots.AxesSubplot at 0x20e0d345390>"
      ]
     },
     "execution_count": 39,
     "metadata": {},
     "output_type": "execute_result"
    },
    {
     "data": {
      "image/png": "[encoded data removed]",
      "text/plain": [
       "<Figure size 720x360 with 1 Axes>"
      ]
     },
     "metadata": {
      "needs_background": "light"
     },
     "output_type": "display_data"
    }
   ],
   "source": [
    "#distribution plot for square feet after the outliers are removed\n",
    "plt.figure(figsize=(10,5))\n",
    "sns.distplot(df_new['SquareFeet'])"
   ]
  },
  {
   "cell_type": "markdown",
   "metadata": {},
   "source": [
    "**After the outliers are removed, the distribution plot for square feet is improved. Most of the properties have the square feet within 5,000 sqft.**"
   ]
  },
  {
   "cell_type": "code",
   "execution_count": 40,
   "metadata": {},
   "outputs": [
    {
     "data": {
      "text/plain": [
       "<matplotlib.axes._subplots.AxesSubplot at 0x20e0d35bcf8>"
      ]
     },
     "execution_count": 40,
     "metadata": {},
     "output_type": "execute_result"
    },
    {
     "data": {
      "image/png": "[encoded data removed]",
      "text/plain": [
       "<Figure size 864x504 with 2 Axes>"
      ]
     },
     "metadata": {
      "needs_background": "light"
     },
     "output_type": "display_data"
    }
   ],
   "source": [
    "#explore correlation between the continuous feature variables after the outliers are removed\n",
    "plt.figure(figsize=(12,7))\n",
    "sns.heatmap(df_new.corr(),annot=True,cmap='viridis')"
   ]
  },
  {
   "cell_type": "markdown",
   "metadata": {},
   "source": [
    "**After the outliers are removed, the correlation between price and square feet is improved. However, the correlation between bedroom and bathroom is still the highest.**"
   ]
  },
  {
   "cell_type": "code",
   "execution_count": 41,
   "metadata": {},
   "outputs": [
    {
     "data": {
      "text/plain": [
       "<matplotlib.axes._subplots.AxesSubplot at 0x20e0d92af60>"
      ]
     },
     "execution_count": 41,
     "metadata": {},
     "output_type": "execute_result"
    },
    {
     "data": {
      "image/png": "[encoded data removed]",
      "text/plain": [
       "<Figure size 432x288 with 1 Axes>"
      ]
     },
     "metadata": {
      "needs_background": "light"
     },
     "output_type": "display_data"
    }
   ],
   "source": [
    "df_new.corr()['Price'].sort_values().drop('Price').plot(kind='bar')"
   ]
  },
  {
   "cell_type": "markdown",
   "metadata": {},
   "source": [
    "**Now the price and square feet are highly correlated, followed by bathroom and bedroom. Negative correlation between price and carpark.**"
   ]
  },
  {
   "cell_type": "code",
   "execution_count": 42,
   "metadata": {},
   "outputs": [
    {
     "data": {
      "text/plain": [
       "<matplotlib.axes._subplots.AxesSubplot at 0x20e0d78c748>"
      ]
     },
     "execution_count": 42,
     "metadata": {},
     "output_type": "execute_result"
    },
    {
     "data": {
      "image/png": "[encoded data removed]",
      "text/plain": [
       "<Figure size 792x432 with 1 Axes>"
      ]
     },
     "metadata": {
      "needs_background": "light"
     },
     "output_type": "display_data"
    }
   ],
   "source": [
    "#scatterplot for price and square feet after the outliers are removed\n",
    "plt.figure(figsize=(11,6))\n",
    "sns.scatterplot(x='SquareFeet',y='Price',hue='State',data=df_new)"
   ]
  },
  {
   "cell_type": "markdown",
   "metadata": {},
   "source": [
    "**Scatter plot for square feet and price. When square feet is increased, the price also increased. Another insight we can see from this scatter plot is the price of property in Kuala Lumpur is higher than Selangor.**"
   ]
  },
  {
   "cell_type": "code",
   "execution_count": 43,
   "metadata": {},
   "outputs": [
    {
     "data": {
      "text/plain": [
       "<matplotlib.axes._subplots.AxesSubplot at 0x20e0da9d748>"
      ]
     },
     "execution_count": 43,
     "metadata": {},
     "output_type": "execute_result"
    },
    {
     "data": {
      "image/png": "[encoded data removed]",
      "text/plain": [
       "<Figure size 792x432 with 1 Axes>"
      ]
     },
     "metadata": {
      "needs_background": "light"
     },
     "output_type": "display_data"
    }
   ],
   "source": [
    "#scatterplot for price and square feet after the outliers are removed\n",
    "plt.figure(figsize=(11,6))\n",
    "sns.scatterplot(x='SquareFeet',y='Price',hue='Type',data=df_new)"
   ]
  },
  {
   "cell_type": "markdown",
   "metadata": {},
   "source": [
    "**Most of the houses have larger square feet than apartments. But the price for most of the apartments are higher than houses for the same square feet.**"
   ]
  },
  {
   "cell_type": "code",
   "execution_count": 44,
   "metadata": {
    "scrolled": true
   },
   "outputs": [
    {
     "data": {
      "text/plain": [
       "<matplotlib.axes._subplots.AxesSubplot at 0x20e0d68ee10>"
      ]
     },
     "execution_count": 44,
     "metadata": {},
     "output_type": "execute_result"
    },
    {
     "data": {
      "image/png": "[encoded data removed]",
      "text/plain": [
       "<Figure size 720x288 with 1 Axes>"
      ]
     },
     "metadata": {
      "needs_background": "light"
     },
     "output_type": "display_data"
    }
   ],
   "source": [
    "#boxplot for price after the outliers are removed\n",
    "plt.figure(figsize=(10,4))\n",
    "sns.boxplot(x='Price',y='State',data=df_new)"
   ]
  },
  {
   "cell_type": "markdown",
   "metadata": {},
   "source": [
    "**Kuala Lumpur has slightly higher price median than Selangor.**"
   ]
  },
  {
   "cell_type": "code",
   "execution_count": 45,
   "metadata": {},
   "outputs": [
    {
     "data": {
      "text/plain": [
       "<matplotlib.axes._subplots.AxesSubplot at 0x20e0d8073c8>"
      ]
     },
     "execution_count": 45,
     "metadata": {},
     "output_type": "execute_result"
    },
    {
     "data": {
      "image/png": "[encoded data removed]",
      "text/plain": [
       "<Figure size 720x288 with 1 Axes>"
      ]
     },
     "metadata": {
      "needs_background": "light"
     },
     "output_type": "display_data"
    }
   ],
   "source": [
    "#boxplot for price after the outliers are removed\n",
    "plt.figure(figsize=(10,4))\n",
    "sns.boxplot(x='Price',y='Type',data=df_new)"
   ]
  },
  {
   "cell_type": "markdown",
   "metadata": {},
   "source": [
    "**The price for house has higher maximum, median values than apartment.**"
   ]
  },
  {
   "cell_type": "code",
   "execution_count": 46,
   "metadata": {},
   "outputs": [
    {
     "data": {
      "text/plain": [
       "<matplotlib.axes._subplots.AxesSubplot at 0x20e0d8e1ef0>"
      ]
     },
     "execution_count": 46,
     "metadata": {},
     "output_type": "execute_result"
    },
    {
     "data": {
      "image/png": "[encoded data removed]",
      "text/plain": [
       "<Figure size 720x288 with 1 Axes>"
      ]
     },
     "metadata": {
      "needs_background": "light"
     },
     "output_type": "display_data"
    }
   ],
   "source": [
    "#boxplot for square feet after the outliers are removed\n",
    "plt.figure(figsize=(10,4))\n",
    "sns.boxplot(x='SquareFeet',y='Type',data=df_new)"
   ]
  },
  {
   "cell_type": "markdown",
   "metadata": {},
   "source": [
    "**The square feet for house has higher median, maximum value than apartment.**"
   ]
  },
  {
   "cell_type": "code",
   "execution_count": 47,
   "metadata": {},
   "outputs": [
    {
     "data": {
      "text/plain": [
       "<seaborn.axisgrid.FacetGrid at 0x20e0d34e278>"
      ]
     },
     "execution_count": 47,
     "metadata": {},
     "output_type": "execute_result"
    },
    {
     "data": {
      "text/plain": [
       "<Figure size 360x360 with 0 Axes>"
      ]
     },
     "metadata": {},
     "output_type": "display_data"
    },
    {
     "data": {
      "image/png": "[encoded data removed]",
      "text/plain": [
       "<Figure size 460.75x360 with 1 Axes>"
      ]
     },
     "metadata": {
      "needs_background": "light"
     },
     "output_type": "display_data"
    }
   ],
   "source": [
    "#counter plot for bedroom\n",
    "plt.figure(figsize=(5,5))\n",
    "sns.catplot(x=\"Bedroom\", kind=\"count\", hue='Type', palette=\"ch:.25\", data=df_new)"
   ]
  },
  {
   "cell_type": "markdown",
   "metadata": {},
   "source": [
    "**Most of the properties in our dataset have 3 bedrooms. Besides, most of the apartments have 3 bedrooms and most of the houses have 4 bedrooms.**"
   ]
  },
  {
   "cell_type": "code",
   "execution_count": 48,
   "metadata": {},
   "outputs": [
    {
     "data": {
      "text/plain": [
       "<seaborn.axisgrid.FacetGrid at 0x20e0d81ea58>"
      ]
     },
     "execution_count": 48,
     "metadata": {},
     "output_type": "execute_result"
    },
    {
     "data": {
      "text/plain": [
       "<Figure size 360x360 with 0 Axes>"
      ]
     },
     "metadata": {},
     "output_type": "display_data"
    },
    {
     "data": {
      "image/png": "[encoded data removed]",
      "text/plain": [
       "<Figure size 460.75x360 with 1 Axes>"
      ]
     },
     "metadata": {
      "needs_background": "light"
     },
     "output_type": "display_data"
    }
   ],
   "source": [
    "#counter plot for bedroom\n",
    "plt.figure(figsize=(5,5))\n",
    "sns.catplot(x=\"Bathroom\", kind=\"count\", hue='Type', palette=\"ch:.25\", data=df_new)"
   ]
  },
  {
   "cell_type": "markdown",
   "metadata": {},
   "source": [
    "**Most of the apartments have 2 bathrooms and most of the houses have 3 bathrooms.**"
   ]
  },
  {
   "cell_type": "code",
   "execution_count": 49,
   "metadata": {},
   "outputs": [
    {
     "data": {
      "text/plain": [
       "<seaborn.axisgrid.FacetGrid at 0x20e0db49d68>"
      ]
     },
     "execution_count": 49,
     "metadata": {},
     "output_type": "execute_result"
    },
    {
     "data": {
      "image/png": "[encoded data removed]",
      "text/plain": [
       "<Figure size 360x360 with 1 Axes>"
      ]
     },
     "metadata": {
      "needs_background": "light"
     },
     "output_type": "display_data"
    }
   ],
   "source": [
    "#counter plot for carpark\n",
    "sns.catplot(x=\"Carpark\", kind=\"count\", palette=\"ch:.25\", data=df_new)"
   ]
  },
  {
   "cell_type": "markdown",
   "metadata": {},
   "source": [
    "**Most of the properties in our dataset has no carpark data, this come from houses type property.**"
   ]
  },
  {
   "cell_type": "code",
   "execution_count": 50,
   "metadata": {},
   "outputs": [
    {
     "data": {
      "text/plain": [
       "<seaborn.axisgrid.FacetGrid at 0x20e0fcc3860>"
      ]
     },
     "execution_count": 50,
     "metadata": {},
     "output_type": "execute_result"
    },
    {
     "data": {
      "image/png": "[encoded data removed]",
      "text/plain": [
       "<Figure size 460.75x360 with 1 Axes>"
      ]
     },
     "metadata": {
      "needs_background": "light"
     },
     "output_type": "display_data"
    }
   ],
   "source": [
    "#counter plot for carpark\n",
    "sns.catplot(x=\"Carpark\", kind=\"count\", hue='Type', palette=\"ch:.25\", data=df_new)"
   ]
  },
  {
   "cell_type": "markdown",
   "metadata": {},
   "source": [
    "**From the chart above, we can see that all houses property do not have carpark data. Most of the apartments have only 1 carpark.**"
   ]
  },
  {
   "cell_type": "code",
   "execution_count": 51,
   "metadata": {},
   "outputs": [
    {
     "data": {
      "text/plain": [
       "155"
      ]
     },
     "execution_count": 51,
     "metadata": {},
     "output_type": "execute_result"
    }
   ],
   "source": [
    "#number of unique area\n",
    "df_new['Area'].nunique()"
   ]
  },
  {
   "cell_type": "code",
   "execution_count": 52,
   "metadata": {},
   "outputs": [
    {
     "data": {
      "text/plain": [
       "     Cheras             4194\n",
       "     Shah Alam          1835\n",
       "     Setapak            1761\n",
       "     Kajang             1515\n",
       "     Klang              1443\n",
       "     Kepong             1389\n",
       "     Puchong            1382\n",
       "     Bangi              1101\n",
       "     Rawang             1075\n",
       "     Wangsa Maju        1031\n",
       "Name: Area, dtype: int64"
      ]
     },
     "execution_count": 52,
     "metadata": {},
     "output_type": "execute_result"
    }
   ],
   "source": [
    "#count for each title\n",
    "df_new['Area'].value_counts().head(10)"
   ]
  },
  {
   "cell_type": "markdown",
   "metadata": {},
   "source": [
    "**We have 155 unique area in our dataset, Cheras has the highest number of property.**"
   ]
  },
  {
   "cell_type": "code",
   "execution_count": 53,
   "metadata": {},
   "outputs": [
    {
     "data": {
      "text/html": [
       "<div>\n",
       "<style scoped>\n",
       "    .dataframe tbody tr th:only-of-type {\n",
       "        vertical-align: middle;\n",
       "    }\n",
       "\n",
       "    .dataframe tbody tr th {\n",
       "        vertical-align: top;\n",
       "    }\n",
       "\n",
       "    .dataframe thead th {\n",
       "        text-align: right;\n",
       "    }\n",
       "</style>\n",
       "<table border=\"1\" class=\"dataframe\">\n",
       "  <thead>\n",
       "    <tr style=\"text-align: right;\">\n",
       "      <th></th>\n",
       "      <th></th>\n",
       "      <th>Price</th>\n",
       "      <th>Bedroom</th>\n",
       "      <th>Bathroom</th>\n",
       "      <th>SquareFeet</th>\n",
       "      <th>Carpark</th>\n",
       "    </tr>\n",
       "    <tr>\n",
       "      <th>Type</th>\n",
       "      <th>State</th>\n",
       "      <th></th>\n",
       "      <th></th>\n",
       "      <th></th>\n",
       "      <th></th>\n",
       "      <th></th>\n",
       "    </tr>\n",
       "  </thead>\n",
       "  <tbody>\n",
       "    <tr>\n",
       "      <td rowspan=\"2\" valign=\"top\">Apartments</td>\n",
       "      <td>Kuala Lumpur</td>\n",
       "      <td>380000</td>\n",
       "      <td>3</td>\n",
       "      <td>2</td>\n",
       "      <td>950</td>\n",
       "      <td>1</td>\n",
       "    </tr>\n",
       "    <tr>\n",
       "      <td>Selongor</td>\n",
       "      <td>269000</td>\n",
       "      <td>3</td>\n",
       "      <td>2</td>\n",
       "      <td>852</td>\n",
       "      <td>1</td>\n",
       "    </tr>\n",
       "    <tr>\n",
       "      <td rowspan=\"2\" valign=\"top\">Houses</td>\n",
       "      <td>Kuala Lumpur</td>\n",
       "      <td>700000</td>\n",
       "      <td>4</td>\n",
       "      <td>3</td>\n",
       "      <td>1760</td>\n",
       "      <td>0</td>\n",
       "    </tr>\n",
       "    <tr>\n",
       "      <td>Selongor</td>\n",
       "      <td>520000</td>\n",
       "      <td>4</td>\n",
       "      <td>3</td>\n",
       "      <td>1738</td>\n",
       "      <td>0</td>\n",
       "    </tr>\n",
       "  </tbody>\n",
       "</table>\n",
       "</div>"
      ],
      "text/plain": [
       "                            Price  Bedroom  Bathroom  SquareFeet  Carpark\n",
       "Type         State                                                       \n",
       " Apartments  Kuala Lumpur  380000        3         2         950        1\n",
       "             Selongor      269000        3         2         852        1\n",
       " Houses      Kuala Lumpur  700000        4         3        1760        0\n",
       "             Selongor      520000        4         3        1738        0"
      ]
     },
     "execution_count": 53,
     "metadata": {},
     "output_type": "execute_result"
    }
   ],
   "source": [
    "df_new.groupby(['Type','State']).median()"
   ]
  },
  {
   "cell_type": "markdown",
   "metadata": {},
   "source": [
    "# Section 2: Predictive Modelling: Linear Regression \n",
    "**Build a linear regression model to predict the house price in Klang Valley. Price is the target variable. Type, Title, Other Info and State are categorical variables, encoding categorical variable is needed. Convert these columns: ['Type','Title','Oth_Info','State'] into dummy variables and concatenate them with the original data frame.**"
   ]
  },
  {
   "cell_type": "code",
   "execution_count": 54,
   "metadata": {},
   "outputs": [
    {
     "data": {
      "text/html": [
       "<div>\n",
       "<style scoped>\n",
       "    .dataframe tbody tr th:only-of-type {\n",
       "        vertical-align: middle;\n",
       "    }\n",
       "\n",
       "    .dataframe tbody tr th {\n",
       "        vertical-align: top;\n",
       "    }\n",
       "\n",
       "    .dataframe thead th {\n",
       "        text-align: right;\n",
       "    }\n",
       "</style>\n",
       "<table border=\"1\" class=\"dataframe\">\n",
       "  <thead>\n",
       "    <tr style=\"text-align: right;\">\n",
       "      <th></th>\n",
       "      <th>Price</th>\n",
       "      <th>Bedroom</th>\n",
       "      <th>Bathroom</th>\n",
       "      <th>SquareFeet</th>\n",
       "      <th>Carpark</th>\n",
       "      <th>Type_ Houses</th>\n",
       "      <th>Title_Leasehold</th>\n",
       "      <th>Oth_Info_Malay Reserved</th>\n",
       "      <th>Oth_Info_Non Bumi Lot</th>\n",
       "      <th>State_Selongor</th>\n",
       "    </tr>\n",
       "  </thead>\n",
       "  <tbody>\n",
       "    <tr>\n",
       "      <td>1</td>\n",
       "      <td>3300000</td>\n",
       "      <td>4</td>\n",
       "      <td>3</td>\n",
       "      <td>2379</td>\n",
       "      <td>0</td>\n",
       "      <td>1</td>\n",
       "      <td>0</td>\n",
       "      <td>0</td>\n",
       "      <td>1</td>\n",
       "      <td>0</td>\n",
       "    </tr>\n",
       "    <tr>\n",
       "      <td>2</td>\n",
       "      <td>590000</td>\n",
       "      <td>4</td>\n",
       "      <td>2</td>\n",
       "      <td>1065</td>\n",
       "      <td>2</td>\n",
       "      <td>0</td>\n",
       "      <td>1</td>\n",
       "      <td>0</td>\n",
       "      <td>1</td>\n",
       "      <td>0</td>\n",
       "    </tr>\n",
       "    <tr>\n",
       "      <td>3</td>\n",
       "      <td>590000</td>\n",
       "      <td>4</td>\n",
       "      <td>2</td>\n",
       "      <td>1065</td>\n",
       "      <td>2</td>\n",
       "      <td>0</td>\n",
       "      <td>1</td>\n",
       "      <td>0</td>\n",
       "      <td>1</td>\n",
       "      <td>0</td>\n",
       "    </tr>\n",
       "    <tr>\n",
       "      <td>4</td>\n",
       "      <td>460000</td>\n",
       "      <td>2</td>\n",
       "      <td>2</td>\n",
       "      <td>743</td>\n",
       "      <td>1</td>\n",
       "      <td>0</td>\n",
       "      <td>1</td>\n",
       "      <td>0</td>\n",
       "      <td>1</td>\n",
       "      <td>0</td>\n",
       "    </tr>\n",
       "    <tr>\n",
       "      <td>5</td>\n",
       "      <td>300000</td>\n",
       "      <td>3</td>\n",
       "      <td>2</td>\n",
       "      <td>748</td>\n",
       "      <td>1</td>\n",
       "      <td>0</td>\n",
       "      <td>1</td>\n",
       "      <td>0</td>\n",
       "      <td>0</td>\n",
       "      <td>0</td>\n",
       "    </tr>\n",
       "  </tbody>\n",
       "</table>\n",
       "</div>"
      ],
      "text/plain": [
       "     Price  Bedroom  Bathroom  SquareFeet  Carpark  Type_ Houses   \\\n",
       "1  3300000        4         3        2379        0              1   \n",
       "2   590000        4         2        1065        2              0   \n",
       "3   590000        4         2        1065        2              0   \n",
       "4   460000        2         2         743        1              0   \n",
       "5   300000        3         2         748        1              0   \n",
       "\n",
       "   Title_Leasehold  Oth_Info_Malay Reserved  Oth_Info_Non Bumi Lot  \\\n",
       "1                0                        0                      1   \n",
       "2                1                        0                      1   \n",
       "3                1                        0                      1   \n",
       "4                1                        0                      1   \n",
       "5                1                        0                      0   \n",
       "\n",
       "   State_Selongor  \n",
       "1               0  \n",
       "2               0  \n",
       "3               0  \n",
       "4               0  \n",
       "5               0  "
      ]
     },
     "execution_count": 54,
     "metadata": {},
     "output_type": "execute_result"
    }
   ],
   "source": [
    "dummies = pd.get_dummies(df_new[['Type','Title','Oth_Info','State']],drop_first=True)\n",
    "df_dummy = df_new.drop(['Type','Title','Oth_Info','State','Area','Facilities'],axis=1)\n",
    "df_dummy = pd.concat([df_dummy,dummies],axis=1)\n",
    "df_dummy.head()"
   ]
  },
  {
   "cell_type": "code",
   "execution_count": 55,
   "metadata": {},
   "outputs": [
    {
     "data": {
      "text/plain": [
       "<matplotlib.axes._subplots.AxesSubplot at 0x20e0d89a9e8>"
      ]
     },
     "execution_count": 55,
     "metadata": {},
     "output_type": "execute_result"
    },
    {
     "data": {
      "image/png": "[encoded data removed]",
      "text/plain": [
       "<Figure size 864x504 with 2 Axes>"
      ]
     },
     "metadata": {
      "needs_background": "light"
     },
     "output_type": "display_data"
    }
   ],
   "source": [
    "plt.figure(figsize=(12,7))\n",
    "sns.heatmap(df_dummy.corr(),annot=True,cmap='viridis')"
   ]
  },
  {
   "cell_type": "code",
   "execution_count": 56,
   "metadata": {},
   "outputs": [
    {
     "data": {
      "text/plain": [
       "<matplotlib.axes._subplots.AxesSubplot at 0x20e11489f28>"
      ]
     },
     "execution_count": 56,
     "metadata": {},
     "output_type": "execute_result"
    },
    {
     "data": {
      "image/png": "[encoded data removed]",
      "text/plain": [
       "<Figure size 432x288 with 1 Axes>"
      ]
     },
     "metadata": {
      "needs_background": "light"
     },
     "output_type": "display_data"
    }
   ],
   "source": [
    "df_dummy.corr()['Price'].sort_values().drop('Price').plot(kind='bar')"
   ]
  },
  {
   "cell_type": "markdown",
   "metadata": {},
   "source": [
    "**Scaling and Train Test Split. Split the data into 70% for train set and 30% for test set**"
   ]
  },
  {
   "cell_type": "code",
   "execution_count": 57,
   "metadata": {},
   "outputs": [],
   "source": [
    "#price as target variable\n",
    "#sqft,bathroom,bedroom,carpark,title,state,oth_info and type as independent variables\n",
    "X = df_dummy.drop(['Price'],axis=1)\n",
    "y = df_dummy['Price']"
   ]
  },
  {
   "cell_type": "code",
   "execution_count": 58,
   "metadata": {},
   "outputs": [],
   "source": [
    "from sklearn.model_selection import train_test_split"
   ]
  },
  {
   "cell_type": "code",
   "execution_count": 59,
   "metadata": {},
   "outputs": [],
   "source": [
    "X_train, X_test, y_train, y_test = train_test_split(X, y, test_size=0.3, random_state=100)"
   ]
  },
  {
   "cell_type": "code",
   "execution_count": 60,
   "metadata": {},
   "outputs": [],
   "source": [
    "from sklearn.preprocessing import MinMaxScaler"
   ]
  },
  {
   "cell_type": "code",
   "execution_count": 61,
   "metadata": {},
   "outputs": [
    {
     "name": "stderr",
     "output_type": "stream",
     "text": [
      "C:\\Users\\ASUS\\Anaconda3\\lib\\site-packages\\sklearn\\preprocessing\\data.py:334: DataConversionWarning: Data with input dtype uint8, int32, int64 were all converted to float64 by MinMaxScaler.\n",
      "  return self.partial_fit(X, y)\n"
     ]
    }
   ],
   "source": [
    "scaler = MinMaxScaler()\n",
    "\n",
    "X_train=scaler.fit_transform(X_train)\n",
    "X_test=scaler.transform(X_test)"
   ]
  },
  {
   "cell_type": "code",
   "execution_count": 62,
   "metadata": {},
   "outputs": [
    {
     "data": {
      "text/plain": [
       "(25904, 9)"
      ]
     },
     "execution_count": 62,
     "metadata": {},
     "output_type": "execute_result"
    }
   ],
   "source": [
    "X_train.shape"
   ]
  },
  {
   "cell_type": "code",
   "execution_count": 63,
   "metadata": {},
   "outputs": [
    {
     "data": {
      "text/plain": [
       "(11103, 9)"
      ]
     },
     "execution_count": 63,
     "metadata": {},
     "output_type": "execute_result"
    }
   ],
   "source": [
    "X_test.shape"
   ]
  },
  {
   "cell_type": "markdown",
   "metadata": {},
   "source": [
    "**Training the model. Two model will be used, linear regression and neural network regression.**"
   ]
  },
  {
   "cell_type": "code",
   "execution_count": 64,
   "metadata": {},
   "outputs": [],
   "source": [
    "#regression model\n",
    "from sklearn.linear_model import LinearRegression"
   ]
  },
  {
   "cell_type": "code",
   "execution_count": 65,
   "metadata": {},
   "outputs": [],
   "source": [
    "lm = LinearRegression()"
   ]
  },
  {
   "cell_type": "code",
   "execution_count": 66,
   "metadata": {},
   "outputs": [
    {
     "data": {
      "text/plain": [
       "LinearRegression(copy_X=True, fit_intercept=True, n_jobs=None,\n",
       "         normalize=False)"
      ]
     },
     "execution_count": 66,
     "metadata": {},
     "output_type": "execute_result"
    }
   ],
   "source": [
    "lm.fit(X_train,y_train)"
   ]
  },
  {
   "cell_type": "code",
   "execution_count": 67,
   "metadata": {},
   "outputs": [],
   "source": [
    "#ANN regression model\n",
    "from tensorflow.keras.models import Sequential\n",
    "from tensorflow.keras.layers import Dense, Activation\n",
    "from tensorflow.keras.optimizers import Adam"
   ]
  },
  {
   "cell_type": "code",
   "execution_count": 68,
   "metadata": {},
   "outputs": [
    {
     "name": "stdout",
     "output_type": "stream",
     "text": [
      "WARNING:tensorflow:From C:\\Users\\ASUS\\Anaconda3\\lib\\site-packages\\tensorflow\\python\\ops\\resource_variable_ops.py:435: colocate_with (from tensorflow.python.framework.ops) is deprecated and will be removed in a future version.\n",
      "Instructions for updating:\n",
      "Colocations handled automatically by placer.\n"
     ]
    }
   ],
   "source": [
    "model = Sequential()\n",
    "\n",
    "model.add(Dense(9,activation='relu'))\n",
    "model.add(Dense(9,activation='relu'))\n",
    "model.add(Dense(9,activation='relu'))\n",
    "model.add(Dense(9,activation='relu'))\n",
    "model.add(Dense(9,activation='relu'))\n",
    "model.add(Dense(9,activation='relu'))\n",
    "model.add(Dense(9,activation='relu'))\n",
    "model.add(Dense(9,activation='relu'))\n",
    "model.add(Dense(9,activation='relu'))\n",
    "model.add(Dense(9,activation='relu'))\n",
    "model.add(Dense(1))\n",
    "\n",
    "model.compile(optimizer='adam',loss='mse')"
   ]
  },
  {
   "cell_type": "code",
   "execution_count": 69,
   "metadata": {},
   "outputs": [
    {
     "name": "stdout",
     "output_type": "stream",
     "text": [
      "WARNING:tensorflow:From C:\\Users\\ASUS\\Anaconda3\\lib\\site-packages\\tensorflow\\python\\keras\\utils\\losses_utils.py:170: to_float (from tensorflow.python.ops.math_ops) is deprecated and will be removed in a future version.\n",
      "Instructions for updating:\n",
      "Use tf.cast instead.\n",
      "Train on 25904 samples, validate on 11103 samples\n",
      "WARNING:tensorflow:From C:\\Users\\ASUS\\Anaconda3\\lib\\site-packages\\tensorflow\\python\\ops\\math_ops.py:3066: to_int32 (from tensorflow.python.ops.math_ops) is deprecated and will be removed in a future version.\n",
      "Instructions for updating:\n",
      "Use tf.cast instead.\n",
      "Epoch 1/400\n",
      "25904/25904 [==============================] - 5s 185us/sample - loss: 438080322956.5707 - val_loss: 319439784728.6016\n",
      "Epoch 2/400\n",
      "25904/25904 [==============================] - 1s 39us/sample - loss: 155186541032.2816 - val_loss: 134894303866.3396\n",
      "Epoch 3/400\n",
      "25904/25904 [==============================] - 1s 42us/sample - loss: 123034403271.3922 - val_loss: 116055981269.8752\n",
      "Epoch 4/400\n",
      "25904/25904 [==============================] - 1s 35us/sample - loss: 105337109217.4824 - val_loss: 100605767306.2949\n",
      "Epoch 5/400\n",
      "25904/25904 [==============================] - 1s 37us/sample - loss: 90901670415.4960 - val_loss: 89543902562.6141\n",
      "Epoch 6/400\n",
      "25904/25904 [==============================] - 1s 38us/sample - loss: 80980576765.7863 - val_loss: 82994950876.2850\n",
      "Epoch 7/400\n",
      "25904/25904 [==============================] - 1s 45us/sample - loss: 75318482980.6844 - val_loss: 79772057751.9906\n",
      "Epoch 8/400\n",
      "25904/25904 [==============================] - 1s 37us/sample - loss: 72126214708.1804 - val_loss: 79006018079.9568\n",
      "Epoch 9/400\n",
      "25904/25904 [==============================] - 1s 43us/sample - loss: 70076772769.4429 - val_loss: 76067259642.2127\n",
      "Epoch 10/400\n",
      "25904/25904 [==============================] - 1s 40us/sample - loss: 68227035294.7548 - val_loss: 75319265520.7133\n",
      "Epoch 11/400\n",
      "25904/25904 [==============================] - 1s 40us/sample - loss: 66878568861.6479 - val_loss: 74691101331.6098\n",
      "Epoch 12/400\n",
      "25904/25904 [==============================] - 1s 39us/sample - loss: 65654906031.1995 - val_loss: 73064392887.5324\n",
      "Epoch 13/400\n",
      "25904/25904 [==============================] - 1s 50us/sample - loss: 64791447678.4978 - val_loss: 72938897152.7148\n",
      "Epoch 14/400\n",
      "25904/25904 [==============================] - 1s 46us/sample - loss: 64013836123.5528 - val_loss: 72647774348.5544\n",
      "Epoch 15/400\n",
      "25904/25904 [==============================] - 2s 63us/sample - loss: 63442596616.6967 - val_loss: 72560979019.5342\n",
      "Epoch 16/400\n",
      "25904/25904 [==============================] - 2s 69us/sample - loss: 62996451487.3873 - val_loss: 71848601584.6903\n",
      "Epoch 17/400\n",
      "25904/25904 [==============================] - 1s 52us/sample - loss: 62618720586.1594 - val_loss: 71490797810.3734\n",
      "Epoch 18/400\n",
      "25904/25904 [==============================] - 1s 43us/sample - loss: 62305897323.3650 - val_loss: 71303175968.8099\n",
      "Epoch 19/400\n",
      "25904/25904 [==============================] - 1s 52us/sample - loss: 61906180150.3941 - val_loss: 72089733519.7132\n",
      "Epoch 20/400\n",
      "25904/25904 [==============================] - 1s 38us/sample - loss: 61791067732.4373 - val_loss: 71231050725.8997\n",
      "Epoch 21/400\n",
      "25904/25904 [==============================] - 1s 45us/sample - loss: 61594087375.9308 - val_loss: 71209414847.8328\n",
      "Epoch 22/400\n",
      "25904/25904 [==============================] - 1s 38us/sample - loss: 61331242644.9512 - val_loss: 71150676361.4418\n",
      "Epoch 23/400\n",
      "25904/25904 [==============================] - 1s 37us/sample - loss: 61302056728.5090 - val_loss: 71121315518.1266\n",
      "Epoch 24/400\n",
      "25904/25904 [==============================] - 1s 36us/sample - loss: 60929073255.7282 - val_loss: 71025948988.7086\n",
      "Epoch 25/400\n",
      "25904/25904 [==============================] - 1s 35us/sample - loss: 60804039514.9203 - val_loss: 70911620740.9457\n",
      "Epoch 26/400\n",
      "25904/25904 [==============================] - 1s 36us/sample - loss: 60731311299.4392 - val_loss: 71372996817.9094\n",
      "Epoch 27/400\n",
      "25904/25904 [==============================] - 1s 35us/sample - loss: 60537993260.2742 - val_loss: 71054638988.9003\n",
      "Epoch 28/400\n",
      "25904/25904 [==============================] - 1s 38us/sample - loss: 60464428799.2094 - val_loss: 70974209738.8540\n",
      "Epoch 29/400\n",
      "25904/25904 [==============================] - 1s 49us/sample - loss: 60485836032.1581 - val_loss: 71014568272.8142\n",
      "Epoch 30/400\n",
      "25904/25904 [==============================] - 2s 74us/sample - loss: 60618790829.7764 - val_loss: 71545518068.7483\n",
      "Epoch 31/400\n",
      "25904/25904 [==============================] - 1s 42us/sample - loss: 60224322895.8518 - val_loss: 70831441051.0341\n",
      "Epoch 32/400\n",
      "25904/25904 [==============================] - 2s 62us/sample - loss: 60178083943.7282 - val_loss: 70716734274.2884\n",
      "Epoch 33/400\n",
      "25904/25904 [==============================] - 2s 60us/sample - loss: 60055408872.7560 - val_loss: 71219454692.7699\n",
      "Epoch 34/400\n",
      "25904/25904 [==============================] - 1s 45us/sample - loss: 60012124801.3440 - val_loss: 70831582349.2000\n",
      "Epoch 35/400\n",
      "25904/25904 [==============================] - 1s 41us/sample - loss: 60017906536.8351 - val_loss: 70862170362.3050\n",
      "Epoch 36/400\n",
      "25904/25904 [==============================] - ETA: 0s - loss: 59962843065.029 - 1s 42us/sample - loss: 60063682764.9265 - val_loss: 70501433118.2275\n",
      "Epoch 37/400\n",
      "25904/25904 [==============================] - 1s 40us/sample - loss: 59699607300.2693 - val_loss: 70605555926.5208\n",
      "Epoch 38/400\n",
      "25904/25904 [==============================] - 1s 43us/sample - loss: 59657941242.4657 - val_loss: 70863741271.8235\n",
      "Epoch 39/400\n",
      "25904/25904 [==============================] - 1s 50us/sample - loss: 59606003294.5571 - val_loss: 70539728584.6405\n",
      "Epoch 40/400\n",
      "25904/25904 [==============================] - 1s 45us/sample - loss: 59641853003.2662 - val_loss: 70458401612.8023\n",
      "Epoch 41/400\n",
      "25904/25904 [==============================] - 1s 55us/sample - loss: 59670367044.1507 - val_loss: 70359541789.6972\n",
      "Epoch 42/400\n",
      "25904/25904 [==============================] - 1s 56us/sample - loss: 59661137870.6658 - val_loss: 70360556086.6447\n",
      "Epoch 43/400\n",
      "25904/25904 [==============================] - 2s 64us/sample - loss: 59753014219.5034 - val_loss: 70598525544.8164\n",
      "Epoch 44/400\n",
      "25904/25904 [==============================] - 1s 53us/sample - loss: 59415020385.2452 - val_loss: 70251178695.4416\n",
      "Epoch 45/400\n",
      "25904/25904 [==============================] - 1s 55us/sample - loss: 59494254810.8413 - val_loss: 70375761939.3677\n",
      "Epoch 46/400\n",
      "25904/25904 [==============================] - ETA: 0s - loss: 59580013990.845 - 1s 42us/sample - loss: 59526245436.0865 - val_loss: 71003097564.0775\n",
      "Epoch 47/400\n",
      "25904/25904 [==============================] - 1s 42us/sample - loss: 59269438121.8233 - val_loss: 70561859466.5024\n",
      "Epoch 48/400\n",
      "25904/25904 [==============================] - 1s 48us/sample - loss: 59308615534.5275 - val_loss: 69878740882.6184\n",
      "Epoch 49/400\n",
      "25904/25904 [==============================] - 1s 47us/sample - loss: 59198040314.4657 - val_loss: 69994553009.0303\n",
      "Epoch 50/400\n",
      "25904/25904 [==============================] - 1s 55us/sample - loss: 59193525534.5176 - val_loss: 69821916123.9391\n",
      "Epoch 51/400\n",
      "25904/25904 [==============================] - 1s 47us/sample - loss: 59043419125.2477 - val_loss: 70081457632.5966\n",
      "Epoch 52/400\n",
      "25904/25904 [==============================] - 1s 40us/sample - loss: 59059384122.6634 - val_loss: 69629146701.2404\n",
      "Epoch 53/400\n",
      "25904/25904 [==============================] - 1s 44us/sample - loss: 58936292241.3144 - val_loss: 69708286014.1612\n",
      "Epoch 54/400\n",
      "25904/25904 [==============================] - 1s 44us/sample - loss: 59121732894.5176 - val_loss: 69314271689.2631\n",
      "Epoch 55/400\n",
      "25904/25904 [==============================] - 1s 47us/sample - loss: 58708848394.5942 - val_loss: 69365918283.4881\n",
      "Epoch 56/400\n",
      "25904/25904 [==============================] - 1s 47us/sample - loss: 59030410205.2131 - val_loss: 69042731894.6735\n",
      "Epoch 57/400\n",
      "25904/25904 [==============================] - 1s 38us/sample - loss: 58801342219.8592 - val_loss: 69074026357.2901\n",
      "Epoch 58/400\n",
      "25904/25904 [==============================] - 1s 41us/sample - loss: 58863691273.8036 - val_loss: 69270191644.7288\n",
      "Epoch 59/400\n"
     ]
    },
    {
     "name": "stdout",
     "output_type": "stream",
     "text": [
      "25904/25904 [==============================] - 1s 40us/sample - loss: 58702930918.0679 - val_loss: 70583808424.6146\n",
      "Epoch 60/400\n",
      "25904/25904 [==============================] - 1s 39us/sample - loss: 58617221658.8808 - val_loss: 69052052795.1408\n",
      "Epoch 61/400\n",
      "25904/25904 [==============================] - 1s 45us/sample - loss: 58752057321.2304 - val_loss: 68864986748.8297\n",
      "Epoch 62/400\n",
      "25904/25904 [==============================] - 1s 43us/sample - loss: 58630534706.2829 - val_loss: 68713674209.5189\n",
      "Epoch 63/400\n",
      "25904/25904 [==============================] - 1s 44us/sample - loss: 58384055252.3582 - val_loss: 69574386566.3522\n",
      "Epoch 64/400\n",
      "25904/25904 [==============================] - 1s 42us/sample - loss: 58450114055.2736 - val_loss: 68496538392.6016\n",
      "Epoch 65/400\n",
      "25904/25904 [==============================] - 1s 41us/sample - loss: 58475020384.1384 - val_loss: 68487629540.2165\n",
      "Epoch 66/400\n",
      "25904/25904 [==============================] - 1s 37us/sample - loss: 58385469219.8938 - val_loss: 68720096293.3521\n",
      "Epoch 67/400\n",
      "25904/25904 [==============================] - 1s 42us/sample - loss: 58268085976.6275 - val_loss: 68635166355.8865\n",
      "Epoch 68/400\n",
      "25904/25904 [==============================] - 1s 54us/sample - loss: 58204242598.0284 - val_loss: 68217570848.6024\n",
      "Epoch 69/400\n",
      "25904/25904 [==============================] - 2s 71us/sample - loss: 58189775675.2959 - val_loss: 68063661444.7382\n",
      "Epoch 70/400\n",
      "25904/25904 [==============================] - 2s 59us/sample - loss: 58144764751.5355 - val_loss: 68085450797.1914\n",
      "Epoch 71/400\n",
      "25904/25904 [==============================] - 1s 43us/sample - loss: 57840194143.1896 - val_loss: 68300972455.5079\n",
      "Epoch 72/400\n",
      "25904/25904 [==============================] - 1s 46us/sample - loss: 57741607263.6640 - val_loss: 68038701278.4523\n",
      "Epoch 73/400\n",
      "25904/25904 [==============================] - 2s 63us/sample - loss: 57740936161.0080 - val_loss: 68692850170.9736\n",
      "Epoch 74/400\n",
      "25904/25904 [==============================] - 1s 45us/sample - loss: 57738793696.2174 - val_loss: 68565395593.0498\n",
      "Epoch 75/400\n",
      "25904/25904 [==============================] - 1s 43us/sample - loss: 57763163346.6189 - val_loss: 67772776794.7747\n",
      "Epoch 76/400\n",
      "25904/25904 [==============================] - 1s 50us/sample - loss: 57499543764.5164 - val_loss: 67294276088.1146\n",
      "Epoch 77/400\n",
      "25904/25904 [==============================] - 2s 63us/sample - loss: 57361780051.6467 - val_loss: 67494193292.1855\n",
      "Epoch 78/400\n",
      "25904/25904 [==============================] - 1s 45us/sample - loss: 57409129797.7319 - val_loss: 67197966073.1521\n",
      "Epoch 79/400\n",
      "25904/25904 [==============================] - 1s 48us/sample - loss: 57215623284.3780 - val_loss: 67352596449.0116\n",
      "Epoch 80/400\n",
      "25904/25904 [==============================] - 1s 51us/sample - loss: 57262250028.2742 - val_loss: 67100716362.8194\n",
      "Epoch 81/400\n",
      "25904/25904 [==============================] - 1s 49us/sample - loss: 57220135601.4132 - val_loss: 66745668062.4754\n",
      "Epoch 82/400\n",
      "25904/25904 [==============================] - 1s 55us/sample - loss: 57041534849.5022 - val_loss: 66700566677.2238\n",
      "Epoch 83/400\n",
      "25904/25904 [==============================] - 1s 42us/sample - loss: 57145235639.4219 - val_loss: 67333338173.7001\n",
      "Epoch 84/400\n",
      "25904/25904 [==============================] - 1s 46us/sample - loss: 57115212495.7727 - val_loss: 67344988566.7225\n",
      "Epoch 85/400\n",
      "25904/25904 [==============================] - 1s 42us/sample - loss: 56977416123.6912 - val_loss: 66266731708.4204\n",
      "Epoch 86/400\n",
      "25904/25904 [==============================] - 1s 41us/sample - loss: 56879123116.3533 - val_loss: 67137046534.4559\n",
      "Epoch 87/400\n",
      "25904/25904 [==============================] - 1s 53us/sample - loss: 56889698613.9197 - val_loss: 66323557092.2165\n",
      "Epoch 88/400\n",
      "25904/25904 [==============================] - 1s 41us/sample - loss: 56848430487.9555 - val_loss: 66276754518.4170\n",
      "Epoch 89/400\n",
      "25904/25904 [==============================] - 1s 39us/sample - loss: 56634427125.0896 - val_loss: 65965679196.2734\n",
      "Epoch 90/400\n",
      "25904/25904 [==============================] - 1s 38us/sample - loss: 56344278120.3607 - val_loss: 65811277996.6496\n",
      "Epoch 91/400\n",
      "25904/25904 [==============================] - 1s 38us/sample - loss: 56484029796.0914 - val_loss: 65941886385.1917\n",
      "Epoch 92/400\n",
      "25904/25904 [==============================] - 1s 40us/sample - loss: 56231805051.9679 - val_loss: 65530600812.7591\n",
      "Epoch 93/400\n",
      "25904/25904 [==============================] - 1s 38us/sample - loss: 56369333281.5219 - val_loss: 65649971836.3686\n",
      "Epoch 94/400\n",
      "25904/25904 [==============================] - 1s 43us/sample - loss: 56234005163.0883 - val_loss: 65248954903.8408\n",
      "Epoch 95/400\n",
      "25904/25904 [==============================] - 1s 56us/sample - loss: 56122999904.7708 - val_loss: 65039944406.5669\n",
      "Epoch 96/400\n",
      "25904/25904 [==============================] - 1s 44us/sample - loss: 56162558002.5991 - val_loss: 64939880078.7218\n",
      "Epoch 97/400\n",
      "25904/25904 [==============================] - 1s 41us/sample - loss: 55921440994.4311 - val_loss: 65200970224.3675\n",
      "Epoch 98/400\n",
      "25904/25904 [==============================] - 1s 41us/sample - loss: 55953100377.4972 - val_loss: 64800720892.4954\n",
      "Epoch 99/400\n",
      "25904/25904 [==============================] - 1s 39us/sample - loss: 55752747591.1550 - val_loss: 65127988447.8357\n",
      "Epoch 100/400\n",
      "25904/25904 [==============================] - 1s 40us/sample - loss: 55748623807.1699 - val_loss: 64465261946.9621\n",
      "Epoch 101/400\n",
      "25904/25904 [==============================] - 1s 37us/sample - loss: 55870395068.7980 - val_loss: 64478938187.7186\n",
      "Epoch 102/400\n",
      "25904/25904 [==============================] - 1s 47us/sample - loss: 55663484176.6028 - val_loss: 64675591687.1476\n",
      "Epoch 103/400\n",
      "25904/25904 [==============================] - 1s 43us/sample - loss: 55687704918.8091 - val_loss: 64209960897.2854\n",
      "Epoch 104/400\n",
      "25904/25904 [==============================] - 2s 89us/sample - loss: 55384058120.3805 - val_loss: 64406645122.8014\n",
      "Epoch 105/400\n",
      "25904/25904 [==============================] - 1s 41us/sample - loss: 55478721723.8493 - val_loss: 64129488321.7927\n",
      "Epoch 106/400\n",
      "25904/25904 [==============================] - 1s 40us/sample - loss: 55268376206.6263 - val_loss: 63764871358.1728\n",
      "Epoch 107/400\n",
      "25904/25904 [==============================] - 1s 42us/sample - loss: 55361525120.5534 - val_loss: 63443689770.4476\n",
      "Epoch 108/400\n",
      "25904/25904 [==============================] - 1s 49us/sample - loss: 55257284860.9957 - val_loss: 63797065878.3305\n",
      "Epoch 109/400\n",
      "25904/25904 [==============================] - 1s 47us/sample - loss: 55067691262.2607 - val_loss: 63378753372.3887\n",
      "Epoch 110/400\n",
      "25904/25904 [==============================] - 1s 45us/sample - loss: 54911724075.3255 - val_loss: 63188241362.9008\n",
      "Epoch 111/400\n",
      "25904/25904 [==============================] - 1s 47us/sample - loss: 54955167002.7227 - val_loss: 63561117882.2992\n",
      "Epoch 112/400\n",
      "25904/25904 [==============================] - 1s 36us/sample - loss: 54779348622.6263 - val_loss: 63878248102.7009\n",
      "Epoch 113/400\n",
      "25904/25904 [==============================] - 1s 36us/sample - loss: 54882107240.2026 - val_loss: 63103567419.5327\n",
      "Epoch 114/400\n",
      "25904/25904 [==============================] - 1s 41us/sample - loss: 54834637471.7035 - val_loss: 62595331048.4820\n",
      "Epoch 115/400\n",
      "25904/25904 [==============================] - 1s 42us/sample - loss: 54670940988.5608 - val_loss: 62440049628.8614\n",
      "Epoch 116/400\n",
      "25904/25904 [==============================] - 1s 43us/sample - loss: 54582706530.1939 - val_loss: 62311778803.3187\n",
      "Epoch 117/400\n",
      "25904/25904 [==============================] - 1s 37us/sample - loss: 54563387846.1272 - val_loss: 62546391642.4289\n",
      "Epoch 118/400\n",
      "25904/25904 [==============================] - 1s 36us/sample - loss: 54474224705.1464 - val_loss: 62401395880.1304\n",
      "Epoch 119/400\n",
      "25904/25904 [==============================] - 1s 41us/sample - loss: 54456733222.8981 - val_loss: 61940110656.3055\n",
      "Epoch 120/400\n",
      "25904/25904 [==============================] - 1s 39us/sample - loss: 54443147040.0988 - val_loss: 61815106625.7581\n",
      "Epoch 121/400\n",
      "25904/25904 [==============================] - 1s 44us/sample - loss: 54308550012.1260 - val_loss: 61587851654.6749\n",
      "Epoch 122/400\n"
     ]
    },
    {
     "name": "stdout",
     "output_type": "stream",
     "text": [
      "25904/25904 [==============================] - 1s 40us/sample - loss: 54174356462.9228 - val_loss: 62046840836.6114\n",
      "Epoch 123/400\n",
      "25904/25904 [==============================] - 1s 55us/sample - loss: 54235512955.9679 - val_loss: 61616142595.3432\n",
      "Epoch 124/400\n",
      "25904/25904 [==============================] - 1s 42us/sample - loss: 54124439381.2279 - val_loss: 61736689388.7937\n",
      "Epoch 125/400\n",
      "25904/25904 [==============================] - 1s 46us/sample - loss: 54351897837.1834 - val_loss: 61221738551.1519\n",
      "Epoch 126/400\n",
      "25904/25904 [==============================] - 1s 45us/sample - loss: 54226467383.9753 - val_loss: 61048184899.8793\n",
      "Epoch 127/400\n",
      "25904/25904 [==============================] - 1s 40us/sample - loss: 53922240404.4768 - val_loss: 61250114875.5097\n",
      "Epoch 128/400\n",
      "25904/25904 [==============================] - 1s 43us/sample - loss: 53931953506.8264 - val_loss: 61277356657.6702\n",
      "Epoch 129/400\n",
      "25904/25904 [==============================] - 1s 38us/sample - loss: 53837603386.5052 - val_loss: 60748709030.6548\n",
      "Epoch 130/400\n",
      "25904/25904 [==============================] - 1s 39us/sample - loss: 53781825215.9605 - val_loss: 61360141765.4818\n",
      "Epoch 131/400\n",
      "25904/25904 [==============================] - 1s 44us/sample - loss: 53827735692.4126 - val_loss: 60648324371.8519\n",
      "Epoch 132/400\n",
      "25904/25904 [==============================] - 1s 45us/sample - loss: 53600467117.3020 - val_loss: 60639625052.2043\n",
      "Epoch 133/400\n",
      "25904/25904 [==============================] - 1s 40us/sample - loss: 54020710330.4262 - val_loss: 60535577657.4576\n",
      "Epoch 134/400\n",
      "25904/25904 [==============================] - 1s 44us/sample - loss: 53498276448.4546 - val_loss: 60361604000.7292\n",
      "Epoch 135/400\n",
      "25904/25904 [==============================] - ETA: 0s - loss: 53290034043.357 - 1s 35us/sample - loss: 53607790750.1223 - val_loss: 60382732106.4966\n",
      "Epoch 136/400\n",
      "25904/25904 [==============================] - 1s 44us/sample - loss: 53709798614.4138 - val_loss: 60584727702.6072\n",
      "Epoch 137/400\n",
      "25904/25904 [==============================] - 1s 45us/sample - loss: 53589777831.1353 - val_loss: 60074056667.0168\n",
      "Epoch 138/400\n",
      "25904/25904 [==============================] - 1s 42us/sample - loss: 53445548234.3965 - val_loss: 60054323052.0674\n",
      "Epoch 139/400\n",
      "25904/25904 [==============================] - 1s 47us/sample - loss: 53456389502.6560 - val_loss: 60027960422.8335\n",
      "Epoch 140/400\n",
      "25904/25904 [==============================] - 1s 35us/sample - loss: 53278350385.9667 - val_loss: 60536941269.0912\n",
      "Epoch 141/400\n",
      "25904/25904 [==============================] - 1s 41us/sample - loss: 53451925872.1087 - val_loss: 60395423076.4586\n",
      "Epoch 142/400\n",
      "25904/25904 [==============================] - 1s 37us/sample - loss: 53366151876.3879 - val_loss: 59856841607.2744\n",
      "Epoch 143/400\n",
      "25904/25904 [==============================] - 1s 38us/sample - loss: 53232800963.4392 - val_loss: 59701083858.2322\n",
      "Epoch 144/400\n",
      "25904/25904 [==============================] - 1s 36us/sample - loss: 53321852786.3224 - val_loss: 60139245288.7357\n",
      "Epoch 145/400\n",
      "25904/25904 [==============================] - 1s 37us/sample - loss: 53389600576.9883 - val_loss: 60104592827.5212\n",
      "Epoch 146/400\n",
      "25904/25904 [==============================] - 1s 40us/sample - loss: 53300367778.7078 - val_loss: 59717685034.4015\n",
      "Epoch 147/400\n",
      "25904/25904 [==============================] - 1s 38us/sample - loss: 53145605196.5312 - val_loss: 59566602466.3259\n",
      "Epoch 148/400\n",
      "25904/25904 [==============================] - 1s 36us/sample - loss: 53246163162.8413 - val_loss: 59385552791.2298\n",
      "Epoch 149/400\n",
      "25904/25904 [==============================] - 1s 36us/sample - loss: 53183600070.7597 - val_loss: 59253945550.3125\n",
      "Epoch 150/400\n",
      "25904/25904 [==============================] - 1s 38us/sample - loss: 53125164787.8246 - val_loss: 59703285477.5999\n",
      "Epoch 151/400\n",
      "25904/25904 [==============================] - 1s 42us/sample - loss: 53160448032.8894 - val_loss: 59244112225.9685\n",
      "Epoch 152/400\n",
      "25904/25904 [==============================] - 1s 39us/sample - loss: 53198281917.1143 - val_loss: 59188879188.0883\n",
      "Epoch 153/400\n",
      "25904/25904 [==============================] - 1s 48us/sample - loss: 53046227738.4064 - val_loss: 59070648380.1322\n",
      "Epoch 154/400\n",
      "25904/25904 [==============================] - 1s 41us/sample - loss: 53081927257.4972 - val_loss: 58950474785.1096\n",
      "Epoch 155/400\n",
      "25904/25904 [==============================] - 1s 43us/sample - loss: 53240079742.6560 - val_loss: 59108153753.6738\n",
      "Epoch 156/400\n",
      "25904/25904 [==============================] - 1s 39us/sample - loss: 52815414724.2298 - val_loss: 59897838782.2650\n",
      "Epoch 157/400\n",
      "25904/25904 [==============================] - 1s 44us/sample - loss: 53144199964.9364 - val_loss: 58832075585.5506\n",
      "Epoch 158/400\n",
      "25904/25904 [==============================] - 1s 37us/sample - loss: 53030177337.2403 - val_loss: 58980153760.3141\n",
      "Epoch 159/400\n",
      "25904/25904 [==============================] - 1s 43us/sample - loss: 52843152103.8073 - val_loss: 59922619141.0494\n",
      "Epoch 160/400\n",
      "25904/25904 [==============================] - 1s 41us/sample - loss: 52863011581.3119 - val_loss: 58914559853.9119\n",
      "Epoch 161/400\n",
      "25904/25904 [==============================] - 1s 41us/sample - loss: 52906349781.1489 - val_loss: 58774685468.1985\n",
      "Epoch 162/400\n",
      "25904/25904 [==============================] - 1s 37us/sample - loss: 52677377248.5337 - val_loss: 58561502824.1708\n",
      "Epoch 163/400\n",
      "25904/25904 [==============================] - 1s 37us/sample - loss: 52912054347.8987 - val_loss: 58765943262.8443\n",
      "Epoch 164/400\n",
      "25904/25904 [==============================] - 1s 34us/sample - loss: 52939114517.5046 - val_loss: 58918077195.5053\n",
      "Epoch 165/400\n",
      "25904/25904 [==============================] - 1s 32us/sample - loss: 52815799901.2922 - val_loss: 58509448570.4087\n",
      "Epoch 166/400\n",
      "25904/25904 [==============================] - 1s 31us/sample - loss: 52763410138.5250 - val_loss: 58705380381.6050\n",
      "Epoch 167/400\n",
      "25904/25904 [==============================] - 1s 31us/sample - loss: 53042628948.2792 - val_loss: 58404990151.8566\n",
      "Epoch 168/400\n",
      "25904/25904 [==============================] - 1s 31us/sample - loss: 52536155694.4880 - val_loss: 58529858801.5434\n",
      "Epoch 169/400\n",
      "25904/25904 [==============================] - 1s 40us/sample - loss: 52835959067.3552 - val_loss: 58931155547.5356\n",
      "Epoch 170/400\n",
      "25904/25904 [==============================] - 1s 46us/sample - loss: 52735712247.7776 - val_loss: 58492185924.1791\n",
      "Epoch 171/400\n",
      "25904/25904 [==============================] - 1s 37us/sample - loss: 52901758340.3484 - val_loss: 59835843414.3939\n",
      "Epoch 172/400\n",
      "25904/25904 [==============================] - 1s 40us/sample - loss: 52798771068.4422 - val_loss: 58195729877.5293\n",
      "Epoch 173/400\n",
      "25904/25904 [==============================] - 1s 33us/sample - loss: 52688357990.7795 - val_loss: 58191314476.9608\n",
      "Epoch 174/400\n",
      "25904/25904 [==============================] - 1s 32us/sample - loss: 52719156471.3033 - val_loss: 58345511958.4112\n",
      "Epoch 175/400\n",
      "25904/25904 [==============================] - 1s 41us/sample - loss: 52609213382.4435 - val_loss: 58106589859.4729\n",
      "Epoch 176/400\n",
      "25904/25904 [==============================] - 1s 47us/sample - loss: 52850131275.4243 - val_loss: 58534342974.7376\n",
      "Epoch 177/400\n",
      "25904/25904 [==============================] - 1s 42us/sample - loss: 52639186015.5059 - val_loss: 58642970177.8042\n",
      "Epoch 178/400\n",
      "25904/25904 [==============================] - 1s 46us/sample - loss: 52666093347.8938 - val_loss: 58051648057.0426\n",
      "Epoch 179/400\n",
      "25904/25904 [==============================] - 1s 41us/sample - loss: 52499925557.4453 - val_loss: 59071418013.4782\n",
      "Epoch 180/400\n",
      "25904/25904 [==============================] - 1s 36us/sample - loss: 52654685044.2199 - val_loss: 58082927789.4796\n",
      "Epoch 181/400\n",
      "25904/25904 [==============================] - 1s 32us/sample - loss: 52816939894.7498 - val_loss: 57965799542.9732\n",
      "Epoch 182/400\n",
      "25904/25904 [==============================] - 1s 33us/sample - loss: 52543820028.9957 - val_loss: 57948206344.7846\n",
      "Epoch 183/400\n",
      "25904/25904 [==============================] - 1s 52us/sample - loss: 52547806795.5825 - val_loss: 58049326647.2903\n",
      "Epoch 184/400\n",
      "25904/25904 [==============================] - 1s 42us/sample - loss: 52612938446.5077 - val_loss: 58203852962.3201\n"
     ]
    },
    {
     "name": "stdout",
     "output_type": "stream",
     "text": [
      "Epoch 185/400\n",
      "25904/25904 [==============================] - 1s 43us/sample - loss: 52436054198.1569 - val_loss: 57957118187.7331\n",
      "Epoch 186/400\n",
      "25904/25904 [==============================] - 1s 41us/sample - loss: 52631164877.4009 - val_loss: 57862686210.3518\n",
      "Epoch 187/400\n",
      "25904/25904 [==============================] - 1s 40us/sample - loss: 52534810252.0964 - val_loss: 60010579757.5372\n",
      "Epoch 188/400\n",
      "25904/25904 [==============================] - 1s 37us/sample - loss: 52572234671.6739 - val_loss: 57990491067.2906\n",
      "Epoch 189/400\n",
      "25904/25904 [==============================] - 1s 36us/sample - loss: 52505719338.0605 - val_loss: 57912997206.0711\n",
      "Epoch 190/400\n",
      "25904/25904 [==============================] - 1s 41us/sample - loss: 52363372979.1526 - val_loss: 57849847722.0441\n",
      "Epoch 191/400\n",
      "25904/25904 [==============================] - 1s 35us/sample - loss: 52401031577.8530 - val_loss: 58237857431.2067\n",
      "Epoch 192/400\n",
      "25904/25904 [==============================] - 1s 32us/sample - loss: 52551345074.2038 - val_loss: 57802001345.1932\n",
      "Epoch 193/400\n",
      "25904/25904 [==============================] - 1s 33us/sample - loss: 52435311268.7634 - val_loss: 57876076492.7216\n",
      "Epoch 194/400\n",
      "25904/25904 [==============================] - 1s 31us/sample - loss: 52286013513.3688 - val_loss: 58206095045.5048\n",
      "Epoch 195/400\n",
      "25904/25904 [==============================] - 1s 37us/sample - loss: 52430529456.9389 - val_loss: 57783992782.9812\n",
      "Epoch 196/400\n",
      "25904/25904 [==============================] - 1s 33us/sample - loss: 52497654799.8122 - val_loss: 57782069385.4187\n",
      "Epoch 197/400\n",
      "25904/25904 [==============================] - 1s 46us/sample - loss: 52301841699.5775 - val_loss: 58531724355.7871\n",
      "Epoch 198/400\n",
      "25904/25904 [==============================] - 1s 39us/sample - loss: 52334933296.2273 - val_loss: 57762521757.2015\n",
      "Epoch 199/400\n",
      "25904/25904 [==============================] - 1s 39us/sample - loss: 52490616121.0822 - val_loss: 57894289292.1625\n",
      "Epoch 200/400\n",
      "25904/25904 [==============================] - 1s 45us/sample - loss: 52515095236.3879 - val_loss: 58197484585.4101\n",
      "Epoch 201/400\n",
      "25904/25904 [==============================] - 1s 46us/sample - loss: 52325038346.9104 - val_loss: 57780863243.8282\n",
      "Epoch 202/400\n",
      "25904/25904 [==============================] - 1s 41us/sample - loss: 52234663392.0593 - val_loss: 57744398817.6111\n",
      "Epoch 203/400\n",
      "25904/25904 [==============================] - 1s 39us/sample - loss: 52248114755.9926 - val_loss: 57622654143.3717\n",
      "Epoch 204/400\n",
      "25904/25904 [==============================] - 1s 37us/sample - loss: 52251925145.3786 - val_loss: 57588296351.9683\n",
      "Epoch 205/400\n",
      "25904/25904 [==============================] - 1s 35us/sample - loss: 52221990258.0062 - val_loss: 57860574380.5573\n",
      "Epoch 206/400\n",
      "25904/25904 [==============================] - 1s 41us/sample - loss: 52226179393.3045 - val_loss: 58326051773.1352\n",
      "Epoch 207/400\n",
      "25904/25904 [==============================] - 1s 46us/sample - loss: 52277261391.0611 - val_loss: 57868471491.0608\n",
      "Epoch 208/400\n",
      "25904/25904 [==============================] - 1s 42us/sample - loss: 52237306236.7585 - val_loss: 57870724343.4459\n",
      "Epoch 209/400\n",
      "25904/25904 [==============================] - 1s 42us/sample - loss: 52343116343.9753 - val_loss: 57645963120.3098\n",
      "Epoch 210/400\n",
      "25904/25904 [==============================] - 1s 36us/sample - loss: 52264164662.5522 - val_loss: 57677967637.9732\n",
      "Epoch 211/400\n",
      "25904/25904 [==============================] - 1s 38us/sample - loss: 52271389444.9018 - val_loss: 57685501897.9548\n",
      "Epoch 212/400\n",
      "25904/25904 [==============================] - 1s 37us/sample - loss: 52313207730.2038 - val_loss: 57779839571.0507\n",
      "Epoch 213/400\n",
      "25904/25904 [==============================] - 1s 35us/sample - loss: 52213950252.7486 - val_loss: 57636819065.7401\n",
      "Epoch 214/400\n",
      "25904/25904 [==============================] - 1s 33us/sample - loss: 52216533750.9870 - val_loss: 57661716236.3354\n",
      "Epoch 215/400\n",
      "25904/25904 [==============================] - 1s 32us/sample - loss: 52161218131.1723 - val_loss: 58383092185.3106\n",
      "Epoch 216/400\n",
      "25904/25904 [==============================] - 1s 56us/sample - loss: 52434132678.2854 - val_loss: 57540940227.3605\n",
      "Epoch 217/400\n",
      "25904/25904 [==============================] - 2s 60us/sample - loss: 52301739224.3113 - val_loss: 57515506845.0631\n",
      "Epoch 218/400\n",
      "25904/25904 [==============================] - 1s 53us/sample - loss: 52216014955.5232 - val_loss: 57463909254.9055\n",
      "Epoch 219/400\n",
      "25904/25904 [==============================] - 1s 41us/sample - loss: 52371507915.9778 - val_loss: 57480145781.5668\n",
      "Epoch 220/400\n",
      "25904/25904 [==============================] - 1s 37us/sample - loss: 52124770597.4750 - val_loss: 57515219910.7268\n",
      "Epoch 221/400\n",
      "25904/25904 [==============================] - 1s 39us/sample - loss: 52122782457.5170 - val_loss: 58366255587.0867\n",
      "Epoch 222/400\n",
      "25904/25904 [==============================] - 1s 38us/sample - loss: 52182500571.4737 - val_loss: 57566302604.5775\n",
      "Epoch 223/400\n",
      "25904/25904 [==============================] - 1s 35us/sample - loss: 52137090140.9759 - val_loss: 57607414621.4032\n",
      "Epoch 224/400\n",
      "25904/25904 [==============================] - 1s 35us/sample - loss: 52182499664.4843 - val_loss: 57814084358.1562\n",
      "Epoch 225/400\n",
      "25904/25904 [==============================] - 1s 32us/sample - loss: 52054988689.9469 - val_loss: 57517914674.4022\n",
      "Epoch 226/400\n",
      "25904/25904 [==============================] - 1s 33us/sample - loss: 52177891770.7424 - val_loss: 58314471948.7735\n",
      "Epoch 227/400\n",
      "25904/25904 [==============================] - 1s 32us/sample - loss: 52166704805.3959 - val_loss: 58122223026.4829\n",
      "Epoch 228/400\n",
      "25904/25904 [==============================] - 1s 47us/sample - loss: 52049733067.8196 - val_loss: 57481842445.6266\n",
      "Epoch 229/400\n",
      "25904/25904 [==============================] - 1s 37us/sample - loss: 51930992647.5899 - val_loss: 58473591930.5701\n",
      "Epoch 230/400\n",
      "25904/25904 [==============================] - 1s 35us/sample - loss: 52150692924.0865 - val_loss: 57492984913.8056\n",
      "Epoch 231/400\n",
      "25904/25904 [==============================] - 1s 34us/sample - loss: 52177726241.9963 - val_loss: 58023319438.1915\n",
      "Epoch 232/400\n",
      "25904/25904 [==============================] - 1s 40us/sample - loss: 52121929835.5232 - val_loss: 57849944149.5870\n",
      "Epoch 233/400\n",
      "25904/25904 [==============================] - 1s 39us/sample - loss: 52025914128.2866 - val_loss: 57775270174.0892\n",
      "Epoch 234/400\n",
      "25904/25904 [==============================] - 1s 40us/sample - loss: 51926879155.4688 - val_loss: 57611804740.6171\n",
      "Epoch 235/400\n",
      "25904/25904 [==============================] - 1s 36us/sample - loss: 51881655424.3953 - val_loss: 57702433119.5706\n",
      "Epoch 236/400\n",
      "25904/25904 [==============================] - 1s 35us/sample - loss: 52028567961.8530 - val_loss: 57731316370.6876\n",
      "Epoch 237/400\n",
      "25904/25904 [==============================] - 1s 34us/sample - loss: 52017009095.3922 - val_loss: 57300717659.1206\n",
      "Epoch 238/400\n",
      "25904/25904 [==============================] - 1s 35us/sample - loss: 52075118098.6584 - val_loss: 57549035015.8854\n",
      "Epoch 239/400\n",
      "25904/25904 [==============================] - 1s 37us/sample - loss: 52022681190.1470 - val_loss: 57401328364.7014\n",
      "Epoch 240/400\n",
      "25904/25904 [==============================] - 1s 36us/sample - loss: 52189375579.7109 - val_loss: 57549620839.0640\n",
      "Epoch 241/400\n",
      "25904/25904 [==============================] - 1s 38us/sample - loss: 51945309758.9327 - val_loss: 57572926310.9949\n",
      "Epoch 242/400\n",
      "25904/25904 [==============================] - 1s 33us/sample - loss: 52148677595.9481 - val_loss: 57509226294.0222\n",
      "Epoch 243/400\n",
      "25904/25904 [==============================] - 1s 35us/sample - loss: 52104612205.5788 - val_loss: 58102174792.3985\n",
      "Epoch 244/400\n",
      "25904/25904 [==============================] - 1s 40us/sample - loss: 52065568733.8456 - val_loss: 57987126090.4044\n",
      "Epoch 245/400\n",
      "25904/25904 [==============================] - 1s 37us/sample - loss: 51940176198.3644 - val_loss: 57385707299.5767\n",
      "Epoch 246/400\n",
      "25904/25904 [==============================] - 1s 36us/sample - loss: 51916940604.8771 - val_loss: 57485029255.3667\n",
      "Epoch 247/400\n",
      "25904/25904 [==============================] - 1s 40us/sample - loss: 52060252934.1668 - val_loss: 57672836483.4470\n",
      "Epoch 248/400\n"
     ]
    },
    {
     "name": "stdout",
     "output_type": "stream",
     "text": [
      "25904/25904 [==============================] - 1s 43us/sample - loss: 51884416023.4021 - val_loss: 57345626124.1740\n",
      "Epoch 249/400\n",
      "25904/25904 [==============================] - 1s 46us/sample - loss: 51925166220.4126 - val_loss: 58159943539.0766\n",
      "Epoch 250/400\n",
      "25904/25904 [==============================] - 1s 52us/sample - loss: 51907553417.8826 - val_loss: 57728326415.3789\n",
      "Epoch 251/400\n",
      "25904/25904 [==============================] - 1s 40us/sample - loss: 51887951064.9438 - val_loss: 57327003902.7319\n",
      "Epoch 252/400\n",
      "25904/25904 [==============================] - 1s 35us/sample - loss: 51815126962.8363 - val_loss: 57781309739.1854\n",
      "Epoch 253/400\n",
      "25904/25904 [==============================] - 1s 40us/sample - loss: 51911045734.7795 - val_loss: 57408049188.7065\n",
      "Epoch 254/400\n",
      "25904/25904 [==============================] - 1s 50us/sample - loss: 52003737362.1841 - val_loss: 58500884602.6623\n",
      "Epoch 255/400\n",
      "25904/25904 [==============================] - 1s 39us/sample - loss: 51801391771.9086 - val_loss: 57347819735.9964\n",
      "Epoch 256/400\n",
      "25904/25904 [==============================] - 1s 37us/sample - loss: 51716030857.4083 - val_loss: 58093980255.4092\n",
      "Epoch 257/400\n",
      "25904/25904 [==============================] - ETA: 0s - loss: 52123481820.913 - 1s 33us/sample - loss: 51794402968.7461 - val_loss: 57403041455.0014\n",
      "Epoch 258/400\n",
      "25904/25904 [==============================] - 1s 33us/sample - loss: 51941683503.5948 - val_loss: 58219383071.1959\n",
      "Epoch 259/400\n",
      "25904/25904 [==============================] - 1s 40us/sample - loss: 51832795103.1106 - val_loss: 57756136346.6422\n",
      "Epoch 260/400\n",
      "25904/25904 [==============================] - 1s 42us/sample - loss: 51789079803.0982 - val_loss: 58189812678.1735\n",
      "Epoch 261/400\n",
      "25904/25904 [==============================] - 1s 47us/sample - loss: 51960612822.2557 - val_loss: 57884581811.6358\n",
      "Epoch 262/400\n",
      "25904/25904 [==============================] - 1s 40us/sample - loss: 51795974507.0488 - val_loss: 57249405790.3255\n",
      "Epoch 263/400\n",
      "25904/25904 [==============================] - 1s 37us/sample - loss: 51772293658.8808 - val_loss: 57359998811.4665\n",
      "Epoch 264/400\n",
      "25904/25904 [==============================] - 1s 41us/sample - loss: 51993080083.7653 - val_loss: 58615560157.5070\n",
      "Epoch 265/400\n",
      "25904/25904 [==============================] - 1s 40us/sample - loss: 51775871074.6683 - val_loss: 58754802430.5935\n",
      "Epoch 266/400\n",
      "25904/25904 [==============================] - 1s 35us/sample - loss: 51839528041.6257 - val_loss: 57356270013.2735\n",
      "Epoch 267/400\n",
      "25904/25904 [==============================] - 1s 32us/sample - loss: 51808621879.8172 - val_loss: 57444100127.1728\n",
      "Epoch 268/400\n",
      "25904/25904 [==============================] - 1s 33us/sample - loss: 51905198822.5423 - val_loss: 58107623926.2700\n",
      "Epoch 269/400\n",
      "25904/25904 [==============================] - 1s 35us/sample - loss: 51801624724.0025 - val_loss: 57648341811.5320\n",
      "Epoch 270/400\n",
      "25904/25904 [==============================] - 1s 34us/sample - loss: 51784336027.9086 - val_loss: 57496444678.9862\n",
      "Epoch 271/400\n",
      "25904/25904 [==============================] - 1s 34us/sample - loss: 51780190271.2489 - val_loss: 57324129748.0537\n",
      "Epoch 272/400\n",
      "25904/25904 [==============================] - 1s 36us/sample - loss: 51696018412.3928 - val_loss: 57251628800.7148\n",
      "Epoch 273/400\n",
      "25904/25904 [==============================] - 1s 37us/sample - loss: 51862091208.0247 - val_loss: 57515370194.0477\n",
      "Epoch 274/400\n",
      "25904/25904 [==============================] - 1s 33us/sample - loss: 51833414926.0729 - val_loss: 58492834803.5493\n",
      "Epoch 275/400\n",
      "25904/25904 [==============================] - 1s 39us/sample - loss: 51870124895.9802 - val_loss: 57623515327.4639\n",
      "Epoch 276/400\n",
      "25904/25904 [==============================] - 1s 33us/sample - loss: 51635614662.4435 - val_loss: 57551238466.8879\n",
      "Epoch 277/400\n",
      "25904/25904 [==============================] - 1s 37us/sample - loss: 51923201736.1828 - val_loss: 57870869121.9022\n",
      "Epoch 278/400\n",
      "25904/25904 [==============================] - 1s 50us/sample - loss: 51609913572.9611 - val_loss: 58167838215.8854\n",
      "Epoch 279/400\n",
      "25904/25904 [==============================] - 1s 51us/sample - loss: 51714117066.5547 - val_loss: 57780636689.9843\n",
      "Epoch 280/400\n",
      "25904/25904 [==============================] - 2s 89us/sample - loss: 51694010140.9364 - val_loss: 57856354006.2902\n",
      "Epoch 281/400\n",
      "25904/25904 [==============================] - 1s 40us/sample - loss: 51592961114.4460 - val_loss: 57454316807.8624\n",
      "Epoch 282/400\n",
      "25904/25904 [==============================] - 1s 43us/sample - loss: 51691609993.0920 - val_loss: 57767439892.9817\n",
      "Epoch 283/400\n",
      "25904/25904 [==============================] - 1s 39us/sample - loss: 51855072500.7733 - val_loss: 57429700792.0857\n",
      "Epoch 284/400\n",
      "25904/25904 [==============================] - 1s 51us/sample - loss: 51769999686.3644 - val_loss: 57607980687.2752\n",
      "Epoch 285/400\n",
      "25904/25904 [==============================] - 1s 43us/sample - loss: 51637533915.4737 - val_loss: 57569015486.1266\n",
      "Epoch 286/400\n",
      "25904/25904 [==============================] - 1s 50us/sample - loss: 51675748664.4497 - val_loss: 57840386825.2919\n",
      "Epoch 287/400\n",
      "25904/25904 [==============================] - 1s 46us/sample - loss: 51655908562.6189 - val_loss: 58437253074.8086\n",
      "Epoch 288/400\n",
      "25904/25904 [==============================] - 1s 48us/sample - loss: 51656132080.5040 - val_loss: 57428703995.4578\n",
      "Epoch 289/400\n",
      "25904/25904 [==============================] - 1s 50us/sample - loss: 51569918956.3928 - val_loss: 57522098855.1620\n",
      "Epoch 290/400\n",
      "25904/25904 [==============================] - 1s 53us/sample - loss: 51515670664.6177 - val_loss: 58151113695.2593\n",
      "Epoch 291/400\n",
      "25904/25904 [==============================] - 1s 48us/sample - loss: 51590554818.1742 - val_loss: 57553428702.0834\n",
      "Epoch 292/400\n",
      "25904/25904 [==============================] - 1s 51us/sample - loss: 51564237085.8851 - val_loss: 58242418124.1221\n",
      "Epoch 293/400\n",
      "25904/25904 [==============================] - 2s 59us/sample - loss: 51521333029.1587 - val_loss: 57403601888.3660\n",
      "Epoch 294/400\n",
      "25904/25904 [==============================] - 1s 45us/sample - loss: 51638155624.5188 - val_loss: 58106730999.3767\n",
      "Epoch 295/400\n",
      "25904/25904 [==============================] - 1s 42us/sample - loss: 51667861132.0964 - val_loss: 57941956193.1615\n",
      "Epoch 296/400\n",
      "25904/25904 [==============================] - 1s 54us/sample - loss: 51632994011.7900 - val_loss: 57556283080.6405\n",
      "Epoch 297/400\n",
      "25904/25904 [==============================] - 1s 41us/sample - loss: 51641380760.2718 - val_loss: 57398117975.5698\n",
      "Epoch 298/400\n",
      "25904/25904 [==============================] - 1s 48us/sample - loss: 51414948206.8437 - val_loss: 57619991702.0539\n",
      "Epoch 299/400\n",
      "25904/25904 [==============================] - 1s 39us/sample - loss: 51558430455.6195 - val_loss: 57791939057.2897\n",
      "Epoch 300/400\n",
      "25904/25904 [==============================] - 1s 36us/sample - loss: 51632713558.4929 - val_loss: 57271136322.7726\n",
      "Epoch 301/400\n",
      "25904/25904 [==============================] - 1s 52us/sample - loss: 51565840954.5052 - val_loss: 57796127296.7897\n",
      "Epoch 302/400\n",
      "25904/25904 [==============================] - 1s 39us/sample - loss: 51711148649.3094 - val_loss: 57297955873.2941\n",
      "Epoch 303/400\n",
      "25904/25904 [==============================] - 1s 42us/sample - loss: 51583999036.0865 - val_loss: 58859220848.8632\n",
      "Epoch 304/400\n",
      "25904/25904 [==============================] - 1s 39us/sample - loss: 51743832705.3440 - val_loss: 57534992637.4407\n",
      "Epoch 305/400\n",
      "25904/25904 [==============================] - 1s 37us/sample - loss: 51517151015.6887 - val_loss: 57443714843.4607\n",
      "Epoch 306/400\n",
      "25904/25904 [==============================] - 1s 42us/sample - loss: 51450553140.9710 - val_loss: 57358739833.5787\n",
      "Epoch 307/400\n",
      "25904/25904 [==============================] - 1s 45us/sample - loss: 51450328704.7116 - val_loss: 57427686010.1551\n",
      "Epoch 308/400\n",
      "25904/25904 [==============================] - 1s 44us/sample - loss: 51501900701.9642 - val_loss: 58113395644.3974\n",
      "Epoch 309/400\n",
      "25904/25904 [==============================] - 1s 44us/sample - loss: 51541275071.8023 - val_loss: 57746906950.8075\n",
      "Epoch 310/400\n",
      "25904/25904 [==============================] - 1s 44us/sample - loss: 51505613755.0587 - val_loss: 57364289698.1356\n"
     ]
    },
    {
     "name": "stdout",
     "output_type": "stream",
     "text": [
      "Epoch 311/400\n",
      "25904/25904 [==============================] - 1s 45us/sample - loss: 51524653759.3280 - val_loss: 57355032142.3471\n",
      "Epoch 312/400\n",
      "25904/25904 [==============================] - 1s 41us/sample - loss: 51396067794.7770 - val_loss: 58108923900.6798\n",
      "Epoch 313/400\n",
      "25904/25904 [==============================] - 1s 39us/sample - loss: 51577452199.2934 - val_loss: 57512284710.4127\n",
      "Epoch 314/400\n",
      "25904/25904 [==============================] - 1s 40us/sample - loss: 51607514963.9629 - val_loss: 57366711478.7023\n",
      "Epoch 315/400\n",
      "25904/25904 [==============================] - 1s 38us/sample - loss: 51480453350.2261 - val_loss: 57363027777.4583\n",
      "Epoch 316/400\n",
      "25904/25904 [==============================] - 1s 49us/sample - loss: 51478295871.4070 - val_loss: 57291797882.5932\n",
      "Epoch 317/400\n",
      "25904/25904 [==============================] - 1s 34us/sample - loss: 51510916235.7801 - val_loss: 57618730132.9471\n",
      "Epoch 318/400\n",
      "25904/25904 [==============================] - 1s 35us/sample - loss: 51420957404.4225 - val_loss: 57286053371.1581\n",
      "Epoch 319/400\n",
      "25904/25904 [==============================] - 1s 34us/sample - loss: 51449133200.2075 - val_loss: 57379930560.5937\n",
      "Epoch 320/400\n",
      "25904/25904 [==============================] - 1s 40us/sample - loss: 51522675975.7480 - val_loss: 57484768544.9482\n",
      "Epoch 321/400\n",
      "25904/25904 [==============================] - 1s 40us/sample - loss: 51417922664.3607 - val_loss: 57580203676.3714\n",
      "Epoch 322/400\n",
      "25904/25904 [==============================] - 1s 42us/sample - loss: 51545252932.9413 - val_loss: 57579275800.8553\n",
      "Epoch 323/400\n",
      "25904/25904 [==============================] - 1s 42us/sample - loss: 51416573705.3292 - val_loss: 57318472692.1027\n",
      "Epoch 324/400\n",
      "25904/25904 [==============================] - 1s 39us/sample - loss: 51436763915.2267 - val_loss: 57393496460.9464\n",
      "Epoch 325/400\n",
      "25904/25904 [==============================] - 1s 35us/sample - loss: 51593351690.4361 - val_loss: 57336951051.0903\n",
      "Epoch 326/400\n",
      "25904/25904 [==============================] - 1s 41us/sample - loss: 51360155128.0939 - val_loss: 57269804087.6131\n",
      "Epoch 327/400\n",
      "25904/25904 [==============================] - 1s 40us/sample - loss: 51607989682.5201 - val_loss: 57757048069.0956\n",
      "Epoch 328/400\n",
      "25904/25904 [==============================] - 1s 38us/sample - loss: 51424798391.1056 - val_loss: 57343421988.4759\n",
      "Epoch 329/400\n",
      "25904/25904 [==============================] - 1s 34us/sample - loss: 51483005902.0333 - val_loss: 57287659066.7949\n",
      "Epoch 330/400\n",
      "25904/25904 [==============================] - 1s 36us/sample - loss: 51400761313.6405 - val_loss: 57904434762.8425\n",
      "Epoch 331/400\n",
      "25904/25904 [==============================] - 2s 61us/sample - loss: 51642322088.8746 - val_loss: 57635552995.2020\n",
      "Epoch 332/400\n",
      "25904/25904 [==============================] - 1s 51us/sample - loss: 51400767350.1174 - val_loss: 58644350107.0341\n",
      "Epoch 333/400\n",
      "25904/25904 [==============================] - 2s 69us/sample - loss: 51486029592.5090 - val_loss: 57397220739.4470\n",
      "Epoch 334/400\n",
      "25904/25904 [==============================] - 2s 67us/sample - loss: 51322251108.4077 - val_loss: 57776168986.5615\n",
      "Epoch 335/400\n",
      "25904/25904 [==============================] - 2s 74us/sample - loss: 51425420640.2965 - val_loss: 57378908967.7269\n",
      "Epoch 336/400\n",
      "25904/25904 [==============================] - 1s 58us/sample - loss: 51417845016.1927 - val_loss: 57255784230.7124\n",
      "Epoch 337/400\n",
      "25904/25904 [==============================] - 1s 46us/sample - loss: 51465783571.1328 - val_loss: 57673639082.8972\n",
      "Epoch 338/400\n",
      "25904/25904 [==============================] - 1s 42us/sample - loss: 51353967602.7177 - val_loss: 57351195722.7964\n",
      "Epoch 339/400\n",
      "25904/25904 [==============================] - 1s 38us/sample - loss: 51398262413.3613 - val_loss: 57654518187.1970\n",
      "Epoch 340/400\n",
      "25904/25904 [==============================] - 1s 42us/sample - loss: 51385771706.9006 - val_loss: 57629233036.5314\n",
      "Epoch 341/400\n",
      "25904/25904 [==============================] - 1s 43us/sample - loss: 51436591365.8505 - val_loss: 57241417491.7136\n",
      "Epoch 342/400\n",
      "25904/25904 [==============================] - 1s 39us/sample - loss: 51326817336.2915 - val_loss: 57703030907.5846\n",
      "Epoch 343/400\n",
      "25904/25904 [==============================] - 1s 38us/sample - loss: 51394588171.0686 - val_loss: 57302440230.9430\n",
      "Epoch 344/400\n",
      "25904/25904 [==============================] - 1s 39us/sample - loss: 51311900392.4398 - val_loss: 57307466757.4414\n",
      "Epoch 345/400\n",
      "25904/25904 [==============================] - 1s 43us/sample - loss: 51319985251.3008 - val_loss: 57507530642.9873\n",
      "Epoch 346/400\n",
      "25904/25904 [==============================] - 1s 42us/sample - loss: 51587908568.1532 - val_loss: 57459719181.7419\n",
      "Epoch 347/400\n",
      "25904/25904 [==============================] - 1s 54us/sample - loss: 51696639200.5337 - val_loss: 57154547642.2761\n",
      "Epoch 348/400\n",
      "25904/25904 [==============================] - 1s 45us/sample - loss: 51299649709.3020 - val_loss: 57261938968.5555\n",
      "Epoch 349/400\n",
      "25904/25904 [==============================] - 1s 45us/sample - loss: 51336110446.8437 - val_loss: 57462495880.3581\n",
      "Epoch 350/400\n",
      "25904/25904 [==============================] - 1s 43us/sample - loss: 51283809342.6164 - val_loss: 57395745700.6027\n",
      "Epoch 351/400\n",
      "25904/25904 [==============================] - 1s 43us/sample - loss: 51445389558.6708 - val_loss: 57500071741.4004\n",
      "Epoch 352/400\n",
      "25904/25904 [==============================] - 1s 56us/sample - loss: 51280676000.0198 - val_loss: 57568745310.6022\n",
      "Epoch 353/400\n",
      "25904/25904 [==============================] - 2s 71us/sample - loss: 51437892299.9778 - val_loss: 57861362773.6792\n",
      "Epoch 354/400\n",
      "25904/25904 [==============================] - 2s 75us/sample - loss: 51412363883.8394 - val_loss: 57581433287.6030\n",
      "Epoch 355/400\n",
      "25904/25904 [==============================] - 1s 52us/sample - loss: 51373926574.5670 - val_loss: 57148550801.6731\n",
      "Epoch 356/400\n",
      "25904/25904 [==============================] - 1s 50us/sample - loss: 51303642659.1031 - val_loss: 57259815960.8092\n",
      "Epoch 357/400\n",
      "25904/25904 [==============================] - 1s 50us/sample - loss: 51485668400.7017 - val_loss: 58048150940.7173\n",
      "Epoch 358/400\n",
      "25904/25904 [==============================] - 1s 52us/sample - loss: 51309341716.8721 - val_loss: 59012812319.3112\n",
      "Epoch 359/400\n",
      "25904/25904 [==============================] - 1s 54us/sample - loss: 51483158627.9333 - val_loss: 57439601774.7650\n",
      "Epoch 360/400\n",
      "25904/25904 [==============================] - 2s 59us/sample - loss: 51316708364.0173 - val_loss: 57432093213.1899\n",
      "Epoch 361/400\n",
      "25904/25904 [==============================] - 2s 60us/sample - loss: 51457362753.6208 - val_loss: 57438983900.3772\n",
      "Epoch 362/400\n",
      "25904/25904 [==============================] - 1s 53us/sample - loss: 51244382443.9185 - val_loss: 57535922117.7123\n",
      "Epoch 363/400\n",
      "25904/25904 [==============================] - 1s 47us/sample - loss: 51320037000.3014 - val_loss: 57370049663.9193\n",
      "Epoch 364/400\n",
      "25904/25904 [==============================] - 1s 48us/sample - loss: 51397663429.6529 - val_loss: 57422852021.8492\n",
      "Epoch 365/400\n",
      "25904/25904 [==============================] - 1s 44us/sample - loss: 51296720821.3663 - val_loss: 57400470084.8477\n",
      "Epoch 366/400\n",
      "25904/25904 [==============================] - 1s 40us/sample - loss: 51478211875.5775 - val_loss: 57531896256.2248\n",
      "Epoch 367/400\n",
      "25904/25904 [==============================] - 1s 36us/sample - loss: 51296355143.9456 - val_loss: 57586187769.6824\n",
      "Epoch 368/400\n",
      "25904/25904 [==============================] - 1s 56us/sample - loss: 51500227296.2174 - val_loss: 57219615049.6205\n",
      "Epoch 369/400\n",
      "25904/25904 [==============================] - 1s 46us/sample - loss: 51382936409.6553 - val_loss: 57430568131.4297\n",
      "Epoch 370/400\n",
      "25904/25904 [==============================] - 1s 44us/sample - loss: 51471226403.1031 - val_loss: 57227080109.0415\n",
      "Epoch 371/400\n",
      "25904/25904 [==============================] - 1s 47us/sample - loss: 51215636226.3718 - val_loss: 57415582816.0086\n",
      "Epoch 372/400\n",
      "25904/25904 [==============================] - 1s 47us/sample - loss: 51212826663.2143 - val_loss: 57431669832.2140\n",
      "Epoch 373/400\n",
      "25904/25904 [==============================] - 1s 57us/sample - loss: 51367156014.3298 - val_loss: 57296268267.6178\n",
      "Epoch 374/400\n"
     ]
    },
    {
     "name": "stdout",
     "output_type": "stream",
     "text": [
      "25904/25904 [==============================] - 1s 55us/sample - loss: 51275281146.7820 - val_loss: 57689015700.2324\n",
      "Epoch 375/400\n",
      "25904/25904 [==============================] - 1s 51us/sample - loss: 51410434484.4175 - val_loss: 57156192636.3455\n",
      "Epoch 376/400\n",
      "25904/25904 [==============================] - 1s 50us/sample - loss: 51354119618.9648 - val_loss: 57220048327.3263\n",
      "Epoch 377/400\n",
      "25904/25904 [==============================] - 1s 54us/sample - loss: 51312646074.4262 - val_loss: 57304908912.9785\n",
      "Epoch 378/400\n",
      "25904/25904 [==============================] - 1s 46us/sample - loss: 51382120561.8481 - val_loss: 57657914496.6571\n",
      "Epoch 379/400\n",
      "25904/25904 [==============================] - 1s 41us/sample - loss: 51596673782.9870 - val_loss: 57763211297.2018\n",
      "Epoch 380/400\n",
      "25904/25904 [==============================] - 1s 39us/sample - loss: 51301752467.6862 - val_loss: 57789822958.4768\n",
      "Epoch 381/400\n",
      "25904/25904 [==============================] - 1s 40us/sample - loss: 51419894340.6251 - val_loss: 57679676818.2034\n",
      "Epoch 382/400\n",
      "25904/25904 [==============================] - 1s 40us/sample - loss: 51264614351.9308 - val_loss: 57193763446.8349\n",
      "Epoch 383/400\n",
      "25904/25904 [==============================] - 1s 40us/sample - loss: 51364329399.8962 - val_loss: 57367542493.5761\n",
      "Epoch 384/400\n",
      "25904/25904 [==============================] - 1s 39us/sample - loss: 51315160590.8635 - val_loss: 57164198500.0205\n",
      "Epoch 385/400\n",
      "25904/25904 [==============================] - 1s 43us/sample - loss: 51325778147.6961 - val_loss: 57817650575.9899\n",
      "Epoch 386/400\n",
      "25904/25904 [==============================] - 1s 43us/sample - loss: 51150226045.5491 - val_loss: 57381582922.7041\n",
      "Epoch 387/400\n",
      "25904/25904 [==============================] - 1s 43us/sample - loss: 51256677551.1995 - val_loss: 57223104411.8411\n",
      "Epoch 388/400\n",
      "25904/25904 [==============================] - 1s 42us/sample - loss: 51349023171.5973 - val_loss: 57972834264.1578\n",
      "Epoch 389/400\n",
      "25904/25904 [==============================] - 1s 39us/sample - loss: 51227959594.5349 - val_loss: 57318715318.4026\n",
      "Epoch 390/400\n",
      "25904/25904 [==============================] - 1s 42us/sample - loss: 51252368111.3972 - val_loss: 57367009560.9244\n",
      "Epoch 391/400\n",
      "25904/25904 [==============================] - 1s 39us/sample - loss: 51266601888.4941 - val_loss: 57398704512.2190\n",
      "Epoch 392/400\n",
      "25904/25904 [==============================] - 1s 40us/sample - loss: 51147553189.2378 - val_loss: 57278273025.9829\n",
      "Epoch 393/400\n",
      "25904/25904 [==============================] - 1s 47us/sample - loss: 51200814499.3403 - val_loss: 57143325327.5518\n",
      "Epoch 394/400\n",
      "25904/25904 [==============================] - 1s 48us/sample - loss: 51368088596.8721 - val_loss: 57304484340.4255\n",
      "Epoch 395/400\n",
      "25904/25904 [==============================] - 2s 77us/sample - loss: 51466943548.0865 - val_loss: 57657578358.4891A: 0s - loss - ETA: 0s - loss: 51775798334.060\n",
      "Epoch 396/400\n",
      "25904/25904 [==============================] - 2s 58us/sample - loss: 51263746615.9753 - val_loss: 57351315416.1578\n",
      "Epoch 397/400\n",
      "25904/25904 [==============================] - ETA: 0s - loss: 51214367913.809 - 1s 37us/sample - loss: 51384568947.7455 - val_loss: 57761988189.2879\n",
      "Epoch 398/400\n",
      "25904/25904 [==============================] - 1s 44us/sample - loss: 51237256350.7548 - val_loss: 57650309530.7805\n",
      "Epoch 399/400\n",
      "25904/25904 [==============================] - 1s 44us/sample - loss: 51318110493.8851 - val_loss: 57277977246.8616\n",
      "Epoch 400/400\n",
      "25904/25904 [==============================] - 1s 46us/sample - loss: 51347945456.8203 - val_loss: 57780002669.1741\n"
     ]
    },
    {
     "data": {
      "text/plain": [
       "<tensorflow.python.keras.callbacks.History at 0x20e180b1cf8>"
      ]
     },
     "execution_count": 69,
     "metadata": {},
     "output_type": "execute_result"
    }
   ],
   "source": [
    "#it will take few minutes to run the ann model\n",
    "model.fit(x=X_train,y=y_train.values,\n",
    "          validation_data=(X_test,y_test.values),\n",
    "          batch_size=128,epochs=400)"
   ]
  },
  {
   "cell_type": "code",
   "execution_count": 70,
   "metadata": {},
   "outputs": [],
   "source": [
    "losses = pd.DataFrame(model.history.history)"
   ]
  },
  {
   "cell_type": "code",
   "execution_count": 71,
   "metadata": {},
   "outputs": [
    {
     "data": {
      "text/plain": [
       "<matplotlib.axes._subplots.AxesSubplot at 0x20e182dc9e8>"
      ]
     },
     "execution_count": 71,
     "metadata": {},
     "output_type": "execute_result"
    },
    {
     "data": {
      "image/png": "[encoded data removed]",
      "text/plain": [
       "<Figure size 432x288 with 1 Axes>"
      ]
     },
     "metadata": {
      "needs_background": "light"
     },
     "output_type": "display_data"
    }
   ],
   "source": [
    "losses.plot()"
   ]
  },
  {
   "cell_type": "markdown",
   "metadata": {},
   "source": [
    "**Predicting Test Data**"
   ]
  },
  {
   "cell_type": "code",
   "execution_count": 72,
   "metadata": {},
   "outputs": [],
   "source": [
    "#predict test data using regression model\n",
    "predictions_lm = lm.predict(X_test)"
   ]
  },
  {
   "cell_type": "code",
   "execution_count": 73,
   "metadata": {},
   "outputs": [],
   "source": [
    "#predict test data using ANN regression model\n",
    "predictions_ann = model.predict(X_test)"
   ]
  },
  {
   "cell_type": "code",
   "execution_count": 74,
   "metadata": {},
   "outputs": [
    {
     "data": {
      "text/plain": [
       "Text(0, 0.5, 'Predicted Y')"
      ]
     },
     "execution_count": 74,
     "metadata": {},
     "output_type": "execute_result"
    },
    {
     "data": {
      "image/png": "[encoded data removed]",
      "text/plain": [
       "<Figure size 720x432 with 1 Axes>"
      ]
     },
     "metadata": {
      "needs_background": "light"
     },
     "output_type": "display_data"
    }
   ],
   "source": [
    "#scatter plot of prediction and y_test for regression model\n",
    "plt.figure(figsize=(10,6))\n",
    "plt.scatter(y_test,predictions_lm)\n",
    "plt.plot(y_test,y_test,'r')\n",
    "plt.xlabel('Y Test')\n",
    "plt.ylabel('Predicted Y')"
   ]
  },
  {
   "cell_type": "code",
   "execution_count": 75,
   "metadata": {},
   "outputs": [
    {
     "data": {
      "text/plain": [
       "Text(0, 0.5, 'Predicted Y')"
      ]
     },
     "execution_count": 75,
     "metadata": {},
     "output_type": "execute_result"
    },
    {
     "data": {
      "image/png": "[encoded data removed]",
      "text/plain": [
       "<Figure size 720x432 with 1 Axes>"
      ]
     },
     "metadata": {
      "needs_background": "light"
     },
     "output_type": "display_data"
    }
   ],
   "source": [
    "#scatter plot of prediction and y_test for ANN regression model\n",
    "plt.figure(figsize=(10,6))\n",
    "plt.scatter(y_test,predictions_ann)\n",
    "plt.plot(y_test,y_test,'r')\n",
    "plt.xlabel('Y Test')\n",
    "plt.ylabel('Predicted Y')"
   ]
  },
  {
   "cell_type": "markdown",
   "metadata": {},
   "source": [
    "**Evaluate the model**"
   ]
  },
  {
   "cell_type": "code",
   "execution_count": 76,
   "metadata": {},
   "outputs": [],
   "source": [
    "from sklearn.metrics import mean_absolute_error,mean_squared_error,r2_score,explained_variance_score"
   ]
  },
  {
   "cell_type": "code",
   "execution_count": 77,
   "metadata": {},
   "outputs": [
    {
     "name": "stdout",
     "output_type": "stream",
     "text": [
      "MAE: 157085.27909580816\n",
      "MSE: 78417197653.37372\n",
      "RMSE: 280030.70841137\n",
      "R2 error: 0.5423206945916141\n"
     ]
    }
   ],
   "source": [
    "#evaluate regression model\n",
    "print('MAE:', mean_absolute_error(y_test, predictions_lm))\n",
    "print('MSE:', mean_squared_error(y_test, predictions_lm))\n",
    "print('RMSE:', np.sqrt(mean_squared_error(y_test, predictions_lm)))\n",
    "print('R2 error:',r2_score(y_test, predictions_lm))"
   ]
  },
  {
   "cell_type": "code",
   "execution_count": 78,
   "metadata": {},
   "outputs": [
    {
     "name": "stdout",
     "output_type": "stream",
     "text": [
      "MAE: 132002.62119050033\n",
      "MSE: 57780003958.19875\n",
      "RMSE: 240374.71572151416\n",
      "R2 error: 0.662768973268143\n"
     ]
    }
   ],
   "source": [
    "#evaluate ANN regression model\n",
    "print('MAE:', mean_absolute_error(y_test, predictions_ann))\n",
    "print('MSE:', mean_squared_error(y_test, predictions_ann))\n",
    "print('RMSE:', np.sqrt(mean_squared_error(y_test, predictions_ann)))\n",
    "print('R2 error:',r2_score(y_test, predictions_ann))"
   ]
  },
  {
   "cell_type": "code",
   "execution_count": 79,
   "metadata": {},
   "outputs": [
    {
     "name": "stderr",
     "output_type": "stream",
     "text": [
      "C:\\Users\\ASUS\\Anaconda3\\lib\\site-packages\\scipy\\stats\\stats.py:1713: FutureWarning: Using a non-tuple sequence for multidimensional indexing is deprecated; use `arr[tuple(seq)]` instead of `arr[seq]`. In the future this will be interpreted as an array index, `arr[np.array(seq)]`, which will result either in an error or a different result.\n",
      "  return np.add.reduce(sorted[indexer] * weights, axis=axis) / sumval\n"
     ]
    },
    {
     "data": {
      "text/plain": [
       "<matplotlib.axes._subplots.AxesSubplot at 0x20e1a46fac8>"
      ]
     },
     "execution_count": 79,
     "metadata": {},
     "output_type": "execute_result"
    },
    {
     "data": {
      "image/png": "[encoded data removed]",
      "text/plain": [
       "<Figure size 720x432 with 1 Axes>"
      ]
     },
     "metadata": {
      "needs_background": "light"
     },
     "output_type": "display_data"
    }
   ],
   "source": [
    "plt.figure(figsize=(10,6))\n",
    "sns.distplot((y_test-predictions_lm),bins=50)"
   ]
  },
  {
   "cell_type": "code",
   "execution_count": 80,
   "metadata": {},
   "outputs": [
    {
     "data": {
      "text/plain": [
       "<matplotlib.axes._subplots.AxesSubplot at 0x20e1a57c4a8>"
      ]
     },
     "execution_count": 80,
     "metadata": {},
     "output_type": "execute_result"
    },
    {
     "data": {
      "image/png": "[encoded data removed]",
      "text/plain": [
       "<Figure size 720x432 with 1 Axes>"
      ]
     },
     "metadata": {
      "needs_background": "light"
     },
     "output_type": "display_data"
    }
   ],
   "source": [
    "plt.figure(figsize=(10,6))\n",
    "sns.distplot((y_test.values.reshape(11103, 1)-predictions_ann),bins=50)"
   ]
  },
  {
   "cell_type": "markdown",
   "metadata": {},
   "source": [
    "**Predicting on a brand new house**"
   ]
  },
  {
   "cell_type": "code",
   "execution_count": 81,
   "metadata": {},
   "outputs": [],
   "source": [
    "new_house = df_dummy.drop('Price',axis=1).iloc[233]"
   ]
  },
  {
   "cell_type": "code",
   "execution_count": 82,
   "metadata": {},
   "outputs": [],
   "source": [
    "new_house= scaler.transform(new_house.values.reshape(-1,9))"
   ]
  },
  {
   "cell_type": "code",
   "execution_count": 83,
   "metadata": {},
   "outputs": [
    {
     "data": {
      "text/plain": [
       "array([[0.8       , 0.8       , 0.19473612, 0.        , 1.        ,\n",
       "        1.        , 0.        , 1.        , 0.        ]])"
      ]
     },
     "execution_count": 83,
     "metadata": {},
     "output_type": "execute_result"
    }
   ],
   "source": [
    "new_house"
   ]
  },
  {
   "cell_type": "code",
   "execution_count": 84,
   "metadata": {},
   "outputs": [
    {
     "data": {
      "text/plain": [
       "array([[1699540.1]], dtype=float32)"
      ]
     },
     "execution_count": 84,
     "metadata": {},
     "output_type": "execute_result"
    }
   ],
   "source": [
    "model.predict(new_house)"
   ]
  },
  {
   "cell_type": "code",
   "execution_count": 85,
   "metadata": {},
   "outputs": [
    {
     "data": {
      "text/plain": [
       "array([1535754.53614986])"
      ]
     },
     "execution_count": 85,
     "metadata": {},
     "output_type": "execute_result"
    }
   ],
   "source": [
    "lm.predict(new_house)"
   ]
  },
  {
   "cell_type": "code",
   "execution_count": 86,
   "metadata": {},
   "outputs": [
    {
     "data": {
      "text/plain": [
       "Price                      2000000\n",
       "Bedroom                          5\n",
       "Bathroom                         5\n",
       "SquareFeet                    4285\n",
       "Carpark                          0\n",
       "Type_ Houses                     1\n",
       "Title_Leasehold                  1\n",
       "Oth_Info_Malay Reserved          0\n",
       "Oth_Info_Non Bumi Lot            1\n",
       "State_Selongor                   0\n",
       "Name: 245, dtype: int64"
      ]
     },
     "execution_count": 86,
     "metadata": {},
     "output_type": "execute_result"
    }
   ],
   "source": [
    "df_dummy.iloc[233]"
   ]
  },
  {
   "cell_type": "code",
   "execution_count": null,
   "metadata": {},
   "outputs": [],
   "source": []
  }
 ],
 "metadata": {
  "kernelspec": {
   "display_name": "Python 3",
   "language": "python",
   "name": "python3"
  },
  "language_info": {
   "codemirror_mode": {
    "name": "ipython",
    "version": 3
   },
   "file_extension": ".py",
   "mimetype": "text/x-python",
   "name": "python",
   "nbconvert_exporter": "python",
   "pygments_lexer": "ipython3",
   "version": "3.7.1"
  }
 },
 "nbformat": 4,
 "nbformat_minor": 2
}
