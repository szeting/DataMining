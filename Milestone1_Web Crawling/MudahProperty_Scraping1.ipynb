{
 "cells": [
  {
   "cell_type": "code",
   "execution_count": 1,
   "metadata": {},
   "outputs": [],
   "source": [
    "import pandas as pd\n",
    "import requests\n",
    "import re\n",
    "from bs4 import BeautifulSoup"
   ]
  },
  {
   "cell_type": "code",
   "execution_count": 2,
   "metadata": {},
   "outputs": [
    {
     "data": {
      "text/plain": [
       "<Response [200]>"
      ]
     },
     "execution_count": 2,
     "metadata": {},
     "output_type": "execute_result"
    }
   ],
   "source": [
    "property_url = 'https://www.mudah.my/Kuala-Lumpur/Properties-for-sale-2001?o=1&q=&th=1'\n",
    "property_page = requests.get(property_url)\n",
    "property_html = BeautifulSoup(property_page.content,'html.parser')\n",
    "property_page"
   ]
  },
  {
   "cell_type": "code",
   "execution_count": 3,
   "metadata": {},
   "outputs": [],
   "source": [
    "#create empty cell for each column\n",
    "areas=[]\n",
    "locations=[]\n",
    "prices=[]\n",
    "rooms=[]\n",
    "bathrooms=[]\n",
    "types=[]\n",
    "square_feet=[]"
   ]
  },
  {
   "cell_type": "code",
   "execution_count": 4,
   "metadata": {},
   "outputs": [
    {
     "name": "stderr",
     "output_type": "stream",
     "text": [
      "Some characters could not be decoded, and were replaced with REPLACEMENT CHARACTER.\n",
      "Some characters could not be decoded, and were replaced with REPLACEMENT CHARACTER.\n",
      "Some characters could not be decoded, and were replaced with REPLACEMENT CHARACTER.\n",
      "Some characters could not be decoded, and were replaced with REPLACEMENT CHARACTER.\n",
      "Some characters could not be decoded, and were replaced with REPLACEMENT CHARACTER.\n",
      "Some characters could not be decoded, and were replaced with REPLACEMENT CHARACTER.\n"
     ]
    }
   ],
   "source": [
    "#only select the property in klang valley\n",
    "list = ['Kuala-Lumpur', 'Selangor']\n",
    "pages=0\n",
    "\n",
    "for area in list:\n",
    "    #control the number of pages that want to scrap,500 pages for KL and 500 pages for selangor\n",
    "    for pages in range(0,500):\n",
    "        pages+=1\n",
    "        url = 'https://www.mudah.my/'+str(area)+'/Properties-for-sale-2001?o='+str(pages)+'&q=&th=1'\n",
    "        html_page = requests.get(url)\n",
    "        html = BeautifulSoup(html_page.content,'html.parser')\n",
    "\n",
    "        house_containers = html.find_all('li',attrs={'class':'listing_ads_params'})\n",
    "\n",
    "        if house_containers != []:\n",
    "            for containers in house_containers:\n",
    "                \n",
    "                #only select apartment and house property, exclude land and commercial property\n",
    "                if containers.find('div',attrs={'class':'bottom_info bottom_label apartments'}) or containers.find('div',attrs={'class':'bottom_info bottom_label house'}):\n",
    "                    \n",
    "                    #area\n",
    "                    areas.append(area)\n",
    "\n",
    "                    #location\n",
    "                    if containers.find('div',attrs={'class':'area'}):\n",
    "                        location=containers.find_all('div',attrs={'class':'area'})[0].get_text()\n",
    "                    else: \n",
    "                        location='NA'\n",
    "                    locations.append(location)\n",
    "\n",
    "                    #price\n",
    "                    if containers.find('div',attrs={'class':'ads_price'}):\n",
    "                        price=containers.find('div',attrs={'class':'ads_price'}).text\n",
    "                    else: \n",
    "                        price='NA'\n",
    "                    prices.append(price)\n",
    "\n",
    "                    #rooms\n",
    "                    if containers.find('div',attrs={'class':'bottom_info bottom_label bedroom'}):\n",
    "                        room=containers.find('div',attrs={'class':'bottom_info bottom_label bedroom'}).text\n",
    "                    else: \n",
    "                        room='NA'\n",
    "                    rooms.append(room) \n",
    "\n",
    "                    #bathroom\n",
    "                    if containers.find('div',attrs={'class':'bottom_info bottom_label bathroom'}):\n",
    "                        bathroom=containers.find('div',attrs={'class':'bottom_info bottom_label bathroom'}).text\n",
    "                    else: \n",
    "                        bathroom='NA'                \n",
    "                    bathrooms.append(bathroom)\n",
    "\n",
    "                    #type of property\n",
    "                    if containers.find('div',attrs={'class':'bottom_info bottom_label apartments'}):                                        \n",
    "                        property_type=containers.find('div',attrs={'class':'bottom_info bottom_label apartments'}).text\n",
    "                    elif containers.find('div',attrs={'class':'bottom_info bottom_label house'}):\n",
    "                        property_type=containers.find('div',attrs={'class':'bottom_info bottom_label house'}).text\n",
    "                    else: \n",
    "                        property_type='NA'\n",
    "                    types.append(property_type)\n",
    "\n",
    "                    #sq ft\n",
    "                    if containers.find_all('div',attrs={'class':'bottom_info bottom_label size apartmentAndLandAndRoomsAndNew-Properties-size'}):\n",
    "                        sq_ft=containers.find('div',attrs={'class':'bottom_info bottom_label size apartmentAndLandAndRoomsAndNew-Properties-size'}).text\n",
    "                    elif containers.find('div',attrs={'class':'bottom_info bottom_label size house-size'}):\n",
    "                        sq_ft=containers.find('div',attrs={'class':'bottom_info bottom_label size house-size'}).text\n",
    "                    else:\n",
    "                        sq_ft='NA'\n",
    "                    square_feet.append(sq_ft)\n",
    "                    \n",
    "                else:\n",
    "                    continue\n",
    "        else:\n",
    "            break"
   ]
  },
  {
   "cell_type": "code",
   "execution_count": 5,
   "metadata": {},
   "outputs": [],
   "source": [
    "df=pd.DataFrame([[t,u,v,w,x,y,z] for t,u,v,w,x,y,z in zip(areas,locations,prices,rooms,bathrooms,types,square_feet)],\n",
    "             columns=['Area','Location','Price','Room','Bathroom','House Type','Square Feet'])"
   ]
  },
  {
   "cell_type": "code",
   "execution_count": 6,
   "metadata": {},
   "outputs": [
    {
     "data": {
      "text/html": [
       "<div>\n",
       "<style scoped>\n",
       "    .dataframe tbody tr th:only-of-type {\n",
       "        vertical-align: middle;\n",
       "    }\n",
       "\n",
       "    .dataframe tbody tr th {\n",
       "        vertical-align: top;\n",
       "    }\n",
       "\n",
       "    .dataframe thead th {\n",
       "        text-align: right;\n",
       "    }\n",
       "</style>\n",
       "<table border=\"1\" class=\"dataframe\">\n",
       "  <thead>\n",
       "    <tr style=\"text-align: right;\">\n",
       "      <th></th>\n",
       "      <th>Area</th>\n",
       "      <th>Location</th>\n",
       "      <th>Price</th>\n",
       "      <th>Room</th>\n",
       "      <th>Bathroom</th>\n",
       "      <th>House Type</th>\n",
       "      <th>Square Feet</th>\n",
       "    </tr>\n",
       "  </thead>\n",
       "  <tbody>\n",
       "    <tr>\n",
       "      <td>0</td>\n",
       "      <td>Kuala-Lumpur</td>\n",
       "      <td>Wangsa Maju</td>\n",
       "      <td>RM 380 000</td>\n",
       "      <td>2 Bedrooms</td>\n",
       "      <td>1 Bathroom</td>\n",
       "      <td>Apartments</td>\n",
       "      <td>722 sq.ft</td>\n",
       "    </tr>\n",
       "    <tr>\n",
       "      <td>1</td>\n",
       "      <td>Kuala-Lumpur</td>\n",
       "      <td>Wangsa Maju</td>\n",
       "      <td>RM 515 000</td>\n",
       "      <td>3 Bedrooms</td>\n",
       "      <td>2 Bathrooms</td>\n",
       "      <td>Apartments</td>\n",
       "      <td>1088 sq.ft</td>\n",
       "    </tr>\n",
       "    <tr>\n",
       "      <td>2</td>\n",
       "      <td>Kuala-Lumpur</td>\n",
       "      <td>Cheras</td>\n",
       "      <td>RM 208 000</td>\n",
       "      <td>5 Bedrooms</td>\n",
       "      <td>3 Bathrooms</td>\n",
       "      <td>Apartments</td>\n",
       "      <td>1538 sq.ft</td>\n",
       "    </tr>\n",
       "    <tr>\n",
       "      <td>3</td>\n",
       "      <td>Kuala-Lumpur</td>\n",
       "      <td>Cheras</td>\n",
       "      <td>RM 580 000</td>\n",
       "      <td>4 Bedrooms</td>\n",
       "      <td>4 Bathrooms</td>\n",
       "      <td>Houses</td>\n",
       "      <td>2000 sq.ft</td>\n",
       "    </tr>\n",
       "    <tr>\n",
       "      <td>4</td>\n",
       "      <td>Kuala-Lumpur</td>\n",
       "      <td>Bukit Jalil</td>\n",
       "      <td>RM 580 000</td>\n",
       "      <td>3 Bedrooms</td>\n",
       "      <td>2 Bathrooms</td>\n",
       "      <td>Apartments</td>\n",
       "      <td>1032 sq.ft</td>\n",
       "    </tr>\n",
       "    <tr>\n",
       "      <td>...</td>\n",
       "      <td>...</td>\n",
       "      <td>...</td>\n",
       "      <td>...</td>\n",
       "      <td>...</td>\n",
       "      <td>...</td>\n",
       "      <td>...</td>\n",
       "      <td>...</td>\n",
       "    </tr>\n",
       "    <tr>\n",
       "      <td>37488</td>\n",
       "      <td>Selangor</td>\n",
       "      <td>Shah Alam</td>\n",
       "      <td>RM 3 300 000</td>\n",
       "      <td>8 Bedrooms</td>\n",
       "      <td>8 Bathrooms</td>\n",
       "      <td>Houses</td>\n",
       "      <td>7680 sq.ft</td>\n",
       "    </tr>\n",
       "    <tr>\n",
       "      <td>37489</td>\n",
       "      <td>Selangor</td>\n",
       "      <td>Kota Damansara</td>\n",
       "      <td>RM 700 000</td>\n",
       "      <td>1 Bedroom</td>\n",
       "      <td>1 Bathroom</td>\n",
       "      <td>Apartments</td>\n",
       "      <td>610 sq.ft</td>\n",
       "    </tr>\n",
       "    <tr>\n",
       "      <td>37490</td>\n",
       "      <td>Selangor</td>\n",
       "      <td>Klang</td>\n",
       "      <td>RM 290 000</td>\n",
       "      <td>3 Bedrooms</td>\n",
       "      <td>2 Bathrooms</td>\n",
       "      <td>Apartments</td>\n",
       "      <td>960 sq.ft</td>\n",
       "    </tr>\n",
       "    <tr>\n",
       "      <td>37491</td>\n",
       "      <td>Selangor</td>\n",
       "      <td>Dengkil</td>\n",
       "      <td>RM 599 000</td>\n",
       "      <td>4 Bedrooms</td>\n",
       "      <td>3 Bathrooms</td>\n",
       "      <td>Houses</td>\n",
       "      <td>1600 sq.ft</td>\n",
       "    </tr>\n",
       "    <tr>\n",
       "      <td>37492</td>\n",
       "      <td>Selangor</td>\n",
       "      <td>Bangi</td>\n",
       "      <td>RM 800 000</td>\n",
       "      <td>4 Bedrooms</td>\n",
       "      <td>3 Bathrooms</td>\n",
       "      <td>Houses</td>\n",
       "      <td>1800 sq.ft</td>\n",
       "    </tr>\n",
       "  </tbody>\n",
       "</table>\n",
       "<p>37493 rows × 7 columns</p>\n",
       "</div>"
      ],
      "text/plain": [
       "               Area                 Location                  Price  \\\n",
       "0      Kuala-Lumpur          Wangsa Maju            RM 380 000        \n",
       "1      Kuala-Lumpur          Wangsa Maju            RM 515 000        \n",
       "2      Kuala-Lumpur               Cheras            RM 208 000        \n",
       "3      Kuala-Lumpur               Cheras            RM 580 000        \n",
       "4      Kuala-Lumpur          Bukit Jalil            RM 580 000        \n",
       "...             ...                      ...                    ...   \n",
       "37488      Selangor            Shah Alam          RM 3 300 000        \n",
       "37489      Selangor       Kota Damansara            RM 700 000        \n",
       "37490      Selangor                Klang            RM 290 000        \n",
       "37491      Selangor              Dengkil            RM 599 000        \n",
       "37492      Selangor                Bangi            RM 800 000        \n",
       "\n",
       "               Room       Bathroom    House Type Square Feet  \n",
       "0       2 Bedrooms     1 Bathroom    Apartments    722 sq.ft  \n",
       "1       3 Bedrooms    2 Bathrooms    Apartments   1088 sq.ft  \n",
       "2       5 Bedrooms    3 Bathrooms    Apartments   1538 sq.ft  \n",
       "3       4 Bedrooms    4 Bathrooms        Houses   2000 sq.ft  \n",
       "4       3 Bedrooms    2 Bathrooms    Apartments   1032 sq.ft  \n",
       "...             ...            ...           ...         ...  \n",
       "37488   8 Bedrooms    8 Bathrooms        Houses   7680 sq.ft  \n",
       "37489    1 Bedroom     1 Bathroom    Apartments    610 sq.ft  \n",
       "37490   3 Bedrooms    2 Bathrooms    Apartments    960 sq.ft  \n",
       "37491   4 Bedrooms    3 Bathrooms        Houses   1600 sq.ft  \n",
       "37492   4 Bedrooms    3 Bathrooms        Houses   1800 sq.ft  \n",
       "\n",
       "[37493 rows x 7 columns]"
      ]
     },
     "execution_count": 6,
     "metadata": {},
     "output_type": "execute_result"
    }
   ],
   "source": [
    "df"
   ]
  },
  {
   "cell_type": "code",
   "execution_count": 8,
   "metadata": {},
   "outputs": [
    {
     "data": {
      "text/plain": [
       "array([' Apartments ', ' Houses '], dtype=object)"
      ]
     },
     "execution_count": 8,
     "metadata": {},
     "output_type": "execute_result"
    }
   ],
   "source": [
    "df['House Type'].unique()"
   ]
  },
  {
   "cell_type": "code",
   "execution_count": 9,
   "metadata": {},
   "outputs": [
    {
     "data": {
      "text/plain": [
       "array(['Kuala-Lumpur', 'Selangor'], dtype=object)"
      ]
     },
     "execution_count": 9,
     "metadata": {},
     "output_type": "execute_result"
    }
   ],
   "source": [
    "df['Area'].unique()"
   ]
  },
  {
   "cell_type": "code",
   "execution_count": 10,
   "metadata": {},
   "outputs": [],
   "source": [
    "df.to_csv(\"mudah_property.csv\",index=False)"
   ]
  },
  {
   "attachments": {
    "image.png": {
     "image/png": "[encoded data removed]"
    }
   },
   "cell_type": "markdown",
   "metadata": {},
   "source": [
    "Next my teammate,pik yin will explain more on scraping the link and property details in each link of the property. The property details including:![image.png](attachment:image.png)"
   ]
  },
  {
   "cell_type": "code",
   "execution_count": null,
   "metadata": {},
   "outputs": [],
   "source": []
  }
 ],
 "metadata": {
  "kernelspec": {
   "display_name": "Python 3",
   "language": "python",
   "name": "python3"
  },
  "language_info": {
   "codemirror_mode": {
    "name": "ipython",
    "version": 3
   },
   "file_extension": ".py",
   "mimetype": "text/x-python",
   "name": "python",
   "nbconvert_exporter": "python",
   "pygments_lexer": "ipython3",
   "version": "3.7.1"
  }
 },
 "nbformat": 4,
 "nbformat_minor": 2
}
